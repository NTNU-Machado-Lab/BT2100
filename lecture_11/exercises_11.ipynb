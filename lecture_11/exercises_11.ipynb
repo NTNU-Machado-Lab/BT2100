{
 "cells": [
  {
   "cell_type": "markdown",
   "id": "6fb43c49-2c7b-45c6-afdf-4273ed3ace09",
   "metadata": {},
   "source": [
    "# Lecture 11 - Proteomics\n",
    "\n",
    "Guest lecture and practical exercise prepared by Animesh Sharma.\n",
    "\n",
    "In this exercise you will analyse a proteomics dataset from a recent publication: *\"HDACi mediate UNG2 depletion, dysregulated genomic uracil and altered expression of oncoproteins and tumor suppressors in B- and T-cell lines\"* [(Iveland et al, 2020)](https://translational-medicine.biomedcentral.com/articles/10.1186/s12967-020-02318-8).\n",
    "\n",
    "_________________"
   ]
  },
  {
   "cell_type": "markdown",
   "id": "e1aced74-d005-460e-9ea9-ed95522c0bca",
   "metadata": {},
   "source": [
    "## Instructions: \n",
    " \n",
    "### Step 1:\n",
    "\n",
    "- Download and install [MaxQuant](https://maxquant.org/)\n",
    "\n",
    "> Unfortunately, this is only works on Windows. If you have a mac or linux machine, please team up with a colleague."
   ]
  },
  {
   "cell_type": "markdown",
   "id": "2e161225-40b8-4b86-b905-241256620031",
   "metadata": {},
   "source": [
    "### Step 2:\n",
    "\n",
    "- Go to the [project page on PRIDE](https://www.ebi.ac.uk/pride/archive/projects/PXD008293)\n",
    "- Download the following files:\n",
    "  - [150820_JURKAT_SAHA_TECH4](http://ftp.ebi.ac.uk/pride-archive/2020/04/PXD008293/150820_JURKAT_SAHA_TECH4.raw)\n",
    "  - [151124_JURKAT_SAHA_SILAC_Biol2_tech1](http://ftp.ebi.ac.uk/pride-archive/2020/04/PXD008293/151124_JURKAT_SAHA_SILAC_Biol2_tech1.raw )\n",
    "  - [151124_JURKAT_SAHA_SILAC_Biol3_tech1](http://ftp.ebi.ac.uk/pride-archive/2020/04/PXD008293/151124_JURKAT_SAHA_SILAC_Biol3_tech1.raw)"
   ]
  },
  {
   "cell_type": "markdown",
   "id": "fa2133ae-e0a3-4b58-b226-22bec6135d35",
   "metadata": {
    "tags": []
   },
   "source": [
    "### Step 3:\n",
    "\n",
    "- Download the [human proteome](https://www.uniprot.org/proteomes/UP000005640) from Uniprot\n",
    "    - Open the link above and then select download (select option *\"include isoforms\"*)\n",
    "    - Alternatively, download from [this link](https://rest.uniprot.org/uniprotkb/stream?format=fasta&includeIsoform=true&query=%28%28proteome%3AUP000005640%29%29)"
   ]
  },
  {
   "cell_type": "markdown",
   "id": "1623ccee-1665-4bf5-a53f-bd2488553261",
   "metadata": {},
   "source": [
    "-------------\n",
    "\n",
    "The rest of the exercise will be guided by the lecturer... "
   ]
  }
 ],
 "metadata": {
  "kernelspec": {
   "display_name": "Python 3 (ipykernel)",
   "language": "python",
   "name": "python3"
  },
  "language_info": {
   "codemirror_mode": {
    "name": "ipython",
    "version": 3
   },
   "file_extension": ".py",
   "mimetype": "text/x-python",
   "name": "python",
   "nbconvert_exporter": "python",
   "pygments_lexer": "ipython3",
   "version": "3.10.8"
  }
 },
 "nbformat": 4,
 "nbformat_minor": 5
}
