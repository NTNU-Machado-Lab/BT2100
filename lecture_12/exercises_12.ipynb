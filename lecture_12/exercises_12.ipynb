{
 "cells": [
  {
   "cell_type": "markdown",
   "id": "6fb43c49-2c7b-45c6-afdf-4273ed3ace09",
   "metadata": {},
   "source": [
    "# Lecture 12 - Metabolomics\n",
    "\n",
    "Guest lecture and practical exercise prepared by Per Bruheim.\n",
    "\n",
    "In this lecture you learned about the field of metabolomics and how a typical experimental workflow is implemented.\n",
    "In this exercise you will analyse a metabolomics dataset from a recent publication [(Thorfinnsdottir et al, 2023)](https://www.frontiersin.org/articles/10.3389/fmicb.2023.1149978/abstract)."
   ]
  },
  {
   "cell_type": "markdown",
   "id": "51a38ae9-e43c-455b-b3a1-31c09dadd1d6",
   "metadata": {},
   "source": [
    "## Exercise:\n",
    "\n",
    "An E. coli WT strain has been cultivated in bioreactors, harvested and resuspended in different cultivation media with subsequent sampling for metabolome analysis:\n",
    "\n",
    " - Pregrown state: Exponential (`Exp`) or nitrogen limited stationary (`Stat`) growth phase     \n",
    " - Resuspended in Complete (`_Comp`) or Nitrogen free (`_N`) media\n",
    "\n",
    "Quantitative endometabolome profiling has been performed with 3 LC-MS/MS methods and the data is collected in the [E coli Resuspend data.csv](files/E%20coli%20Resuspend%20data.csv) file. This file is already formatted for analysis in the online software [MetaboAnalyst](https://www.metaboanalyst.ca/)\n",
    "\n",
    "Let's just take a quick look at the file:"
   ]
  },
  {
   "cell_type": "code",
   "execution_count": null,
   "id": "35c6e5ce-c5f4-43c1-9566-c9779ea1a005",
   "metadata": {
    "tags": []
   },
   "outputs": [],
   "source": [
    "import pandas as pd\n",
    "pd.read_csv('files/E coli Resuspend data.csv', sep=';', index_col=0, usecols=range(1,59))"
   ]
  },
  {
   "cell_type": "markdown",
   "id": "e1aced74-d005-460e-9ea9-ed95522c0bca",
   "metadata": {},
   "source": [
    "### Instructions: \n",
    " \n",
    " - Go to [MetaboAnalyst](https://www.metaboanalyst.ca/)\n",
    " - Click Start and choose *Statistical Analysis (one factor)*\n",
    " - Upload the *csv file* (you need to download it from jupyter to your computer first)\n",
    " - In the normalization step tick *Autoscaling*\n",
    " - Press *normalize* and *view results* (discuss what is happening)\n",
    " - Finally, click proceed and begin exploring the data\n",
    "\n",
    "**Question**: Are the groups separated due to pregrown state or resuspension medium?\n",
    "\n",
    "> Tips: try PCA, inspect 2D Scores and Biplots."
   ]
  },
  {
   "cell_type": "code",
   "execution_count": null,
   "id": "cbee8b69-dbac-43bf-9fc1-6505f301d2a3",
   "metadata": {},
   "outputs": [],
   "source": []
  }
 ],
 "metadata": {
  "kernelspec": {
   "display_name": "Python 3 (ipykernel)",
   "language": "python",
   "name": "python3"
  },
  "language_info": {
   "codemirror_mode": {
    "name": "ipython",
    "version": 3
   },
   "file_extension": ".py",
   "mimetype": "text/x-python",
   "name": "python",
   "nbconvert_exporter": "python",
   "pygments_lexer": "ipython3",
   "version": "3.10.8"
  }
 },
 "nbformat": 4,
 "nbformat_minor": 5
}
