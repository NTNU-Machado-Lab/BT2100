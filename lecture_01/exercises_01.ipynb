{
 "cells": [
  {
   "cell_type": "markdown",
   "id": "102a299b-c007-4e96-88ae-b9f93f3eea97",
   "metadata": {},
   "source": [
    "# Welcome to BT2100 - Computational Biotechnology"
   ]
  },
  {
   "cell_type": "markdown",
   "id": "5a0a43d5-d701-465f-b887-387a2ca834a8",
   "metadata": {},
   "source": [
    "---\n",
    "\n",
    "### Before we start...\n",
    "\n",
    "During this course we will use **Jupyter notebooks** for practical exercises. If you haven't used Jupyter before, take a moment to get a quick look of its features in the [Jupyter website](https://jupyter.org/). \n",
    "\n",
    "![jupyter logo](files/jupyter_logo.png)\n",
    "\n",
    "For the purpose of this course we will run these notebooks on the cloud. But you always have the option to install python in your own computer and try to run everything locally. The easiest option is to install Anaconda, which includes a Python distribution pre-packaged with several scientific libraries and utilities like the conda package manager and Jupyter. Here you can find the individual (free) edition: https://www.anaconda.com/products/individual.\n",
    "\n",
    "![anaconda logo](files/anaconda_logo.png)\n",
    "\n",
    "---"
   ]
  },
  {
   "cell_type": "markdown",
   "id": "612037f0-fe76-4249-bf3d-28b4486af833",
   "metadata": {},
   "source": [
    "## Exercises"
   ]
  },
  {
   "cell_type": "markdown",
   "id": "63ec90fc-3da5-4b7f-9f9f-72c2010797b2",
   "metadata": {},
   "source": [
    "During this course, we will have several exercises that you need to solve by typing a few lines of code. These exercises are not graded, they are here to help you practice your coding skills. \n",
    "\n",
    "> **Attention**: If you are running this notebook on the cloud, your work will disappear once you close the session (or if it expires)! If you want to save your work, go to `File -> Download` and save the notebook on your computer.\n",
    "\n",
    "Each exercise will have a description followed by a code cell where you can type and execute your code. An example solution is provided in a hidden cell after each exercise so you can self-evaluate your progress. \n",
    "\n",
    "> **Attention**: Make sure you are running the new **Jupyter lab** interface and not the classic **Jupyter notebook** interface. The latter does not support hidden code cells, and you will immediately see the solutions."
   ]
  },
  {
   "cell_type": "markdown",
   "id": "b80be82b-7003-43b1-a284-6847e650513f",
   "metadata": {},
   "source": [
    "---\n",
    "## A quick introduction to Python\n",
    "\n",
    "Our goal for this session is to cover the basics of Python programming. If some exercises seem too easy for you just skip them.\n",
    "\n",
    "If you need to improve your Python skills, the [official tutorial](https://docs.python.org/3/tutorial/index.html) is a good place to start!"
   ]
  },
  {
   "cell_type": "markdown",
   "id": "ab0b6a8c-c6b4-42a7-9440-29355ce1fc9f",
   "metadata": {},
   "source": [
    "### 1. Just a fancy calculator\n",
    "\n",
    "Python is an interpreted programming language (just like *Matlab* and *R*), which means you can simply use it as a calculator. \n",
    "\n",
    "You type something, and you get a result:"
   ]
  },
  {
   "cell_type": "code",
   "execution_count": null,
   "id": "2aa503fd-c354-4c84-86d4-74b680890a08",
   "metadata": {
    "tags": []
   },
   "outputs": [],
   "source": [
    "1 + 1"
   ]
  },
  {
   "cell_type": "markdown",
   "id": "27e1e8f7-5a0d-411b-8f6f-2ab9d143553a",
   "metadata": {},
   "source": [
    "You can also declare variables that store values and use them to create more complex expressions:"
   ]
  },
  {
   "cell_type": "code",
   "execution_count": null,
   "id": "a5f5a48f-2684-4d4b-857c-fbbf064193d7",
   "metadata": {
    "tags": []
   },
   "outputs": [],
   "source": [
    "x = 1.5\n",
    "y = 2.0 * x\n",
    "z = x**2 + y   # this means \"x squared\" (** is the power operator)\n",
    "\n",
    "print(z)"
   ]
  },
  {
   "cell_type": "markdown",
   "id": "75257f8e-e051-43e0-8526-168238869495",
   "metadata": {},
   "source": [
    "It's your turn! Just use the space bellow to try something yourself:"
   ]
  },
  {
   "cell_type": "code",
   "execution_count": null,
   "id": "f1e9a52c-d753-43e5-9d1b-a5c6ef94183a",
   "metadata": {
    "tags": []
   },
   "outputs": [],
   "source": [
    "# type some code here... \n"
   ]
  },
  {
   "cell_type": "markdown",
   "id": "2d6a859c-3dbd-42d3-b73e-f9960f1da6df",
   "metadata": {},
   "source": [
    "### 2. Variable types\n",
    "\n",
    "The most simple variable types in Python are:\n",
    "\n",
    "* bool: True, False\n",
    "* int: 1, 2, 3, ...\n",
    "* float: 1.0, -15.347, 2e-5, ..."
   ]
  },
  {
   "cell_type": "code",
   "execution_count": null,
   "id": "d39a1ebd-d88b-487c-9c83-35259311306f",
   "metadata": {},
   "outputs": [],
   "source": [
    "x = 0\n",
    "y = 2.3\n",
    "z = (x == y)  # compare x and y\n",
    "\n",
    "print(x, y, z)"
   ]
  },
  {
   "cell_type": "markdown",
   "id": "44c863cb-45c7-4a0b-abf1-4a662061a1e4",
   "metadata": {},
   "source": [
    "#### 2.1 Lists \n",
    "\n",
    "Lists are used to group several values together. They are quite flexible, you can *merge* them, *slice* them, etc. "
   ]
  },
  {
   "cell_type": "code",
   "execution_count": null,
   "id": "119c6123-9b52-4fa4-9ddb-b09c139aab8d",
   "metadata": {},
   "outputs": [],
   "source": [
    "a = [0, 1, 2, 3, 4]\n",
    "b = [5, 6, 7, 8, 9]\n",
    "c = a + b   # merge two lists\n",
    "d = c[3:7]  # get elements from position 3 to 6 (the 7th element is excluded, yes this is weird)\n",
    "e = [d, d]  # create nested lists\n",
    "\n",
    "print('c =', c)\n",
    "print('c[0] =', c[0])\n",
    "print('c[-1] =', c[-1])\n",
    "print('d =', d)\n",
    "print('e =', e)\n",
    "print('sum(c) =', sum(c))\n",
    "print('len(c) =', len(c))"
   ]
  },
  {
   "cell_type": "markdown",
   "id": "1df8c5ea-e12b-4090-802c-406d5c299a84",
   "metadata": {},
   "source": [
    "List comprehensions are a really powerful syntax to build complex lists:"
   ]
  },
  {
   "cell_type": "code",
   "execution_count": null,
   "id": "39f9971e-c72c-41f3-8f42-c4a0f21d84b1",
   "metadata": {},
   "outputs": [],
   "source": [
    "a = range(1, 11)                 # numbers from 1 to 10 (remember, the 11 is excluded)\n",
    "b = [2 * x for x in a]           # create a list with the double of every number in a\n",
    "c = [x for x in a if x%2 == 0]   # get all the even numbers in a \n",
    "print('b =', b)\n",
    "print('c =', c)\n",
    "\n",
    "# combine all elements in [1,2,3] with all elements in ['a', 'b']\n",
    "d = [(x, y) for x in [1,2,3] for y in ['a', 'b']] \n",
    "print('d =', d)"
   ]
  },
  {
   "cell_type": "markdown",
   "id": "442dd5fe-4bdf-445e-9ddf-78751fc4076d",
   "metadata": {},
   "source": [
    "#### 2.2 Tuples\n",
    "\n",
    "Tuples are also groups of value but, unlike lists, once created they cannot be modified. You can use them to store anything that is supposed to have a fixed number of elements, for instance, a pair of GPS coordinates."
   ]
  },
  {
   "cell_type": "code",
   "execution_count": null,
   "id": "6f4dd3d6-c98b-4537-8ae8-f7aa223215d0",
   "metadata": {},
   "outputs": [],
   "source": [
    "x = (1, 2, 3)\n",
    "y = (x, x)\n",
    "\n",
    "print(x)\n",
    "print(y)"
   ]
  },
  {
   "cell_type": "markdown",
   "id": "748d7cec-bb34-4bdf-ac71-97126436d746",
   "metadata": {},
   "source": [
    "#### 2.3 Sets\n",
    "\n",
    "Sets are also similar to lists, but they cannot contain repeated values and they are not ordered (so they cannot be indexed or sliced). \n",
    "\n",
    "However, sets are very useful when you need to calculate unions and intersections."
   ]
  },
  {
   "cell_type": "code",
   "execution_count": null,
   "id": "e9fe5ff1-7e9f-484d-99c0-36bceb755a87",
   "metadata": {},
   "outputs": [],
   "source": [
    "a = {1, 2, 3, 4, 5, 6}\n",
    "b = {4, 5, 6, 7, 8, 9, 10}\n",
    "\n",
    "c = a & b  # intersection\n",
    "d = a | b  # union\n",
    "e = a ^ b  # mutual exclusion\n",
    "\n",
    "print('c =', c)\n",
    "print('d =', d)\n",
    "print('e =', e)"
   ]
  },
  {
   "cell_type": "markdown",
   "id": "ce8301d8-3a05-4e6d-a75e-8a8ce7ca60f0",
   "metadata": {},
   "source": [
    "#### 2.4 Dictionaries\n",
    "\n",
    "Dictionaries are mappings between *keys* and *values*. They work similary to lists, but you use the keys instead of a numbered index to retrieve  values:"
   ]
  },
  {
   "cell_type": "code",
   "execution_count": null,
   "id": "2c076461-4172-4249-a0e2-4bdd02d56df1",
   "metadata": {},
   "outputs": [],
   "source": [
    "colors = {'apple': 'green', 'banana': 'yellow', 'strawberry': 'red'}  # create a dictionary\n",
    "\n",
    "colors['blueberry'] = 'blue' # we can always add more items\n",
    "colors['orange'] = 'orange'  # after the dictionary was created\n",
    "\n",
    "x = 'banana'\n",
    "print('the', x, 'is', colors[x])"
   ]
  },
  {
   "cell_type": "markdown",
   "id": "10848ef2-6358-415b-b7b3-a26e0f2fa108",
   "metadata": {},
   "source": [
    "#### 2.5 Strings\n",
    "\n",
    "Strings are used to represent text, and they are essentially lists of characters:"
   ]
  },
  {
   "cell_type": "code",
   "execution_count": null,
   "id": "3be68fb3-010b-4fa3-9ba4-7c8f5326a647",
   "metadata": {},
   "outputs": [],
   "source": [
    "x = \"I am a string\"        # you can use double quotes\n",
    "y = 'I am also a string.'  # or single quotes\n",
    "z = x + ', and ' + y       # and you can append strings together\n",
    "\n",
    "print(z)\n",
    "print(z[:28] + '.')\n",
    "print(z.split())"
   ]
  },
  {
   "cell_type": "markdown",
   "id": "2a8fe9cd-5c97-4e42-87ad-55a4297cf2ef",
   "metadata": {},
   "source": [
    "Strings are so versatile that they come with their own [format mini-language](https://docs.python.org/3/library/string.html#format-specification-mini-language)."
   ]
  },
  {
   "cell_type": "code",
   "execution_count": null,
   "id": "5a4c163f-5aec-4cfd-afc7-3883eb54d87a",
   "metadata": {},
   "outputs": [],
   "source": [
    "x = 1000\n",
    "y = 3\n",
    "z = x/y\n",
    "\n",
    "# option 1 (using format function)\n",
    "print('{} / {} is approximately {:.5f} or {:.2g}'.format(x, y, z, z))\n",
    "\n",
    "# option 2 (using f-strings)\n",
    "print(f'{x} / {y} is approximately {z:.5f} or {z:.2g}')"
   ]
  },
  {
   "cell_type": "markdown",
   "id": "c246f432-c339-467c-8f70-7528ebf558f8",
   "metadata": {},
   "source": [
    "### 3 Control flow"
   ]
  },
  {
   "cell_type": "markdown",
   "id": "a6fac120-f410-4fb6-a29f-a4f3b7a98bdf",
   "metadata": {},
   "source": [
    "#### 3.1 if-else statements\n",
    "\n",
    "As you start developing more complex code, you will need to create pieces of code that only get executed under certain conditions. \n",
    "\n",
    "You can do this using so-called **if** statements:\n",
    "\n",
    "```\n",
    "if condition is True:\n",
    "    do this!\n",
    "```\n",
    "\n",
    "You can also use **if-else** statements:\n",
    "\n",
    "```\n",
    "if condition is True:\n",
    "    do this!\n",
    "else:\n",
    "    do that instead!\n",
    "```\n",
    "\n",
    "> **Attention:** Note that the blocks of code inside the if-else clauses are indented with four spaces."
   ]
  },
  {
   "cell_type": "code",
   "execution_count": null,
   "id": "02ff3d85-4953-49ab-aa96-a9efe52d5d7f",
   "metadata": {},
   "outputs": [],
   "source": [
    "x = 5\n",
    "y = 7\n",
    "\n",
    "if x > y:\n",
    "    print('x is larger than y')\n",
    "else:\n",
    "    print('x is smaller or equal to y')"
   ]
  },
  {
   "cell_type": "markdown",
   "id": "beb1bfea-90a4-40f7-b2e5-3cca3459ed7e",
   "metadata": {},
   "source": [
    "#### 3.2 iterating with loops\n",
    "\n",
    "Sometimes you want to execute something multiple times. \n",
    "\n",
    "You can do this using **for** loops:\n",
    "\n",
    "```\n",
    "for element in list:\n",
    "    do something\n",
    "```\n",
    "\n",
    "Or you can use the **while** statement:\n",
    "\n",
    "```\n",
    "while condition is True:\n",
    "    do something\n",
    "```"
   ]
  },
  {
   "cell_type": "code",
   "execution_count": null,
   "id": "f12df0bc-0a79-4214-8749-61f2ec9d92ba",
   "metadata": {},
   "outputs": [],
   "source": [
    "for x in [1, 2, 3]:\n",
    "    print('x =', x)\n",
    "    \n",
    "y = 0\n",
    "while y < 3:\n",
    "    y = y + 1\n",
    "    print('y =', y)"
   ]
  },
  {
   "cell_type": "markdown",
   "id": "3a8b41cf-135c-41a5-b721-2eedc4742231",
   "metadata": {},
   "source": [
    "You can also terminate loops using **break** statements:"
   ]
  },
  {
   "cell_type": "code",
   "execution_count": null,
   "id": "5f9a0eaf-6512-46ec-8fd2-bf0c332f4d83",
   "metadata": {},
   "outputs": [],
   "source": [
    "for x in [1, 2, 3, -1, 4, 5]:\n",
    "    if x < 0:\n",
    "        print(\"I didn't expect a negative number.\")\n",
    "        break\n",
    "    print('x =', x)"
   ]
  },
  {
   "cell_type": "markdown",
   "id": "3b710e4c-dd28-4e0c-9156-d7f730e47dad",
   "metadata": {},
   "source": [
    "> **Important**: don't forget the correct indentation when you start creating nested statements!"
   ]
  },
  {
   "cell_type": "markdown",
   "id": "ed2dcc8f-3463-4790-bab6-8db274aef1d9",
   "metadata": {},
   "source": [
    "### 4. Functions\n",
    "\n",
    "Very often you will want to reuse a piece of code that performs some task that you use multiple times. \n",
    "Or you may want to divide a long piece of code into smaller blocks that are easier to read. \n",
    "In both cases, it is very convenient to store that piece of code as a **function**.\n",
    "\n",
    "The general definition of a function is as follows:\n",
    "\n",
    "```\n",
    "def function_name(argument 1, argument 2, ...):\n",
    "    # some lines of code\n",
    "    # more lines of code\n",
    "    \n",
    "    return value\n",
    "```"
   ]
  },
  {
   "cell_type": "code",
   "execution_count": null,
   "id": "b3e82185-983e-4295-b0d4-3b281dda146b",
   "metadata": {},
   "outputs": [],
   "source": [
    "def double(x): # this function doubles every number it receives\n",
    "    return 2 * x\n",
    "\n",
    "x = double(1)\n",
    "y = double(-5)\n",
    "z = double(double(3))\n",
    "\n",
    "print('x =', x, 'y =', y, 'z =', z)\n",
    "\n",
    "def trouble(x, y, z): \n",
    "    a = x**2 + y**2\n",
    "    b = a / (z + 1)\n",
    "    return b\n",
    "\n",
    "w = trouble(1, 2, 4)\n",
    "print('w =', w)"
   ]
  },
  {
   "cell_type": "markdown",
   "id": "1eea7dcf-75e5-425b-9627-6b054ec8fc4a",
   "metadata": {},
   "source": [
    "In Python functions are variables too, so you can use functions as arguments to other functions:"
   ]
  },
  {
   "cell_type": "code",
   "execution_count": null,
   "id": "6c839918-8f9b-4b11-a7e0-0f99012e5a71",
   "metadata": {},
   "outputs": [],
   "source": [
    "def is_even(x):\n",
    "    if x%2 == 0:\n",
    "        print(f'{x} is even')\n",
    "    else:\n",
    "        print(f'{x} is not even')\n",
    "        \n",
    "def test_all(f, values):\n",
    "    for value in values:\n",
    "        f(value)\n",
    "\n",
    "x = [1, 2, 3, 4, 5]\n",
    "test_all(is_even, x)"
   ]
  },
  {
   "cell_type": "markdown",
   "id": "4304e245-0568-4808-baf8-a75fa3e76bd9",
   "metadata": {},
   "source": [
    "### 5. Modules\n",
    "\n",
    "For the sake of organization, python functions can be grouped together into **modules** (which can be further divided into sub-modules, and sub-submodules, etc..).\n",
    "\n",
    "Python's motto is *Batteries Included*, take a look at modules that come with [The Python Standard Library](https://docs.python.org/3/library/index.html#library-index).\n",
    "\n",
    "There are two main ways of importing functions from modules:\n",
    "\n",
    "```\n",
    "import module\n",
    "\n",
    "# use with module name as prefix\n",
    "y = module.function(x)\n",
    "\n",
    "from module import function\n",
    "\n",
    "# use with function name only\n",
    "y = function(x)\n",
    "```"
   ]
  },
  {
   "cell_type": "code",
   "execution_count": null,
   "id": "b0a3b08b-9f3e-4917-b6b4-0ad35bcfd1c4",
   "metadata": {},
   "outputs": [],
   "source": [
    "from random import randint\n",
    "\n",
    "for i in range(10):\n",
    "    x = randint(1, 2)\n",
    "    if x == 1:\n",
    "        print('heads')\n",
    "    else:\n",
    "        print('tails')"
   ]
  },
  {
   "cell_type": "code",
   "execution_count": null,
   "id": "2111d5bb-bf32-40be-aed4-2e07478908a1",
   "metadata": {},
   "outputs": [],
   "source": [
    "import math\n",
    "\n",
    "values = [math.factorial(x) for x in range(10)]\n",
    "    \n",
    "print(values)"
   ]
  },
  {
   "cell_type": "markdown",
   "id": "115d486c-0456-45d8-8224-bce4ef454a02",
   "metadata": {},
   "source": [
    "### 6. Classes\n",
    "\n",
    "#### 6.1 Short introduction\n",
    "\n",
    "Python is a *multi-paradigm programming* language. This means that it borrows concepts from other languages, including *functional programming* and *object-oriented programming*. \n",
    "\n",
    "Understanding the difference between different programming paradigms is out of the scope of this course. But you will often have to use *objects* so it is important to clarify some basic points.\n",
    "\n",
    "- In **functional programming** you apply a *function* to a variable and the result is a new variable: `y = function(x)` \n",
    "- In **object-oriented programming** variables are structured objects that have an internal *state* and implement *methods* that modify their state: `x.method()`\n",
    "\n",
    "For instance, if you want to add a new element (`x`) to a list (`L`) you have two options:\n",
    "\n",
    "- **functional**: `L2 = L + [x]`\n",
    "- **object-oriented**: `L.append(x)`\n",
    "\n",
    "The first option looks more like a mathematical formulation, and often resuls in a more ***elegant*** coding style (because [math is beautiful](https://en.wikipedia.org/wiki/Mathematical_beauty)). Here we create a new list `L2` that is the result of merging `L` and `[x]`. In the second option, we use the method `append` implemented by the list object to modify its internal state by adding element `x`. This alternative is more ***efficient*** because the content of the original list does not have to be copied into a new list. \n",
    "\n",
    "#### 6.2 Example\n",
    "\n",
    "Let's create a class to represent rectangles. This class will contain two internal variables (called *attributes*) to represent the dimensions of a rectangle.\n"
   ]
  },
  {
   "cell_type": "code",
   "execution_count": null,
   "id": "95b1ea5f-cc1c-4c71-91d2-a6b12bb24d52",
   "metadata": {},
   "outputs": [],
   "source": [
    "class Rectangle:\n",
    "    def __init__(self, l, w):\n",
    "        self.length = l\n",
    "        self.width = w"
   ]
  },
  {
   "cell_type": "markdown",
   "id": "f3c66b56-62bb-4b3c-bb7d-eae166b07826",
   "metadata": {},
   "source": [
    "We can now create rectangle *objects* that are *instances* of class `Rectangle`:"
   ]
  },
  {
   "cell_type": "code",
   "execution_count": null,
   "id": "a1965ccc-6ab3-42bf-9ba7-da0eeb28e2c7",
   "metadata": {},
   "outputs": [],
   "source": [
    "r1 = Rectangle(10, 20)\n",
    "r2 = Rectangle(6, 4)\n",
    "\n",
    "print(f'r1 dimensions: {r1.length} x {r1.width}')\n",
    "print(f'r2 dimensions: {r2.length} x {r2.width}')"
   ]
  },
  {
   "cell_type": "markdown",
   "id": "c5972df0-f01a-4467-9e18-27da69cabb43",
   "metadata": {},
   "source": [
    "This is not a very useful rectangle class, if we just want to store the two dimensions we could simply have used a *tuple (lenght, width)* instead. But now we can add some functionality to our class. We can implement methods to calculate area, perimeter, or re-scale  rectangles to a different size:"
   ]
  },
  {
   "cell_type": "code",
   "execution_count": null,
   "id": "9e6693f9-cc4d-49b9-92eb-02b8a2e8c510",
   "metadata": {},
   "outputs": [],
   "source": [
    "class Rectangle:\n",
    "    def __init__(self, l, w):\n",
    "        self.length = l\n",
    "        self.width = w\n",
    "\n",
    "    def area(self):\n",
    "        return self.length * self.width\n",
    "\n",
    "    def perimeter(self):\n",
    "        return 2 * (self.length + self.width)\n",
    "\n",
    "    def rescale(self, factor):\n",
    "        self.length = self.length * factor\n",
    "        self.width = self.width * factor"
   ]
  },
  {
   "cell_type": "markdown",
   "id": "cbbbd306-003f-42a1-9727-5f0a1cb1c491",
   "metadata": {},
   "source": [
    "Now there is a lot more we can do:"
   ]
  },
  {
   "cell_type": "code",
   "execution_count": null,
   "id": "bdb79afe-9a15-4e06-a55c-f31079d2864f",
   "metadata": {},
   "outputs": [],
   "source": [
    "r1 = Rectangle(10, 20)\n",
    "print(f'dimensions: {r1.length} x {r1.width}')\n",
    "print('area:', r1.area())\n",
    "print('perimeter:', r1.perimeter())\n",
    "\n",
    "r1.rescale(0.5)\n",
    "print(f'dimensions: {r1.length} x {r1.width}')\n",
    "print('area:', r1.area())\n",
    "print('perimeter:', r1.perimeter())"
   ]
  },
  {
   "cell_type": "markdown",
   "id": "69c9c1ef-03bc-43d6-bb19-c3f7b95eb07f",
   "metadata": {},
   "source": [
    "There is a lot more we could discuss about object-oriented programming, but if you understand the concepts of *object*, *class*, *instance*, *method*, and *attribute*, you are ready for the rest of this course ;)"
   ]
  },
  {
   "cell_type": "markdown",
   "id": "54d1e474-6987-4822-9e88-179994ccadc3",
   "metadata": {},
   "source": [
    "# Exercises\n",
    "\n",
    "## Exercise 1 (easy)\n",
    "\n",
    "Your equipment has collected several measurements, but you know the detection signal is noisy and you want to remove all the values lower than a given noise threshold. \n",
    "\n",
    "Implement a function called `noise_filter` that receives two inputs, a list of measurements and a threshold value, and returns all measurements that are above the threshold."
   ]
  },
  {
   "cell_type": "code",
   "execution_count": null,
   "id": "9f9813ce-de8a-4e7f-96ee-34e95baea80d",
   "metadata": {},
   "outputs": [],
   "source": [
    "# type your code here"
   ]
  },
  {
   "cell_type": "markdown",
   "id": "1f1537b5-876b-48c7-9095-743af102c665",
   "metadata": {},
   "source": [
    "Time to test your solution:"
   ]
  },
  {
   "cell_type": "code",
   "execution_count": null,
   "id": "2a09b804-4e03-47ce-81a7-9f5f00461712",
   "metadata": {},
   "outputs": [],
   "source": [
    "from random import uniform\n",
    "\n",
    "measured = [uniform(0, 100) for i in range(30)]\n",
    "threshold = 12.5\n",
    "filtered = noise_filter(measured, threshold)\n",
    "\n",
    "def beautify(x):\n",
    "    return '\\t'.join([f'{y:.2f}' for y in x])\n",
    "\n",
    "print('measured:', beautify(measured))\n",
    "print()\n",
    "print('filtered:', beautify(filtered))"
   ]
  },
  {
   "cell_type": "markdown",
   "id": "a0543f4c-0c91-4884-a3e7-ac05fe4ea8c2",
   "metadata": {},
   "source": [
    "### Solution:\n",
    "Click to reveal (please note that this only works with Jupyter lab)."
   ]
  },
  {
   "cell_type": "code",
   "execution_count": null,
   "id": "a17e5180-9933-47d7-914d-6437c7b22952",
   "metadata": {
    "jupyter": {
     "source_hidden": true
    },
    "tags": []
   },
   "outputs": [],
   "source": [
    "# possible solution\n",
    "\n",
    "def noise_filter(values, t):\n",
    "    new_values = []\n",
    "    for x in values:\n",
    "        if x > t:\n",
    "            new_values.append(x)\n",
    "    return new_values\n",
    "\n",
    "\n",
    "# alternative solution\n",
    "\n",
    "def noise_filter(values, t):\n",
    "    return [x for x in values if x > t]"
   ]
  },
  {
   "cell_type": "markdown",
   "id": "4fc3e27c-03ef-484a-9503-0a8159295abb",
   "metadata": {
    "tags": []
   },
   "source": [
    "## Exercise 2 (hard)\n",
    "\n",
    "You are trying to see if there is an association between the city where people live and their height. So you reached out to 10 friends and collected some data:\n",
    "\n",
    "Name | City | Height (cm)\n",
    "--- | --- | ---\n",
    "Anna | Oslo | 168\n",
    "Bruno | Oslo | 172\n",
    "Charlie | Bergen | 190\n",
    "Daniel | Trondheim | 170\n",
    "Eva | Bergen | 174\n",
    "Fred | Oslo | 167\n",
    "Greg | Trondheim | 182\n",
    "Hugo | Oslo | 176\n",
    "Ida | Trondheim | 165\n",
    "Jake | Trondheim | 177\n",
    "\n",
    "Now try to calculate the average height for each city and print them by ascending order. \n",
    "\n",
    "> Suggestion: use dictionaries to represent your data."
   ]
  },
  {
   "cell_type": "code",
   "execution_count": null,
   "id": "46061299-222b-4c32-b48d-2c0a9ac967be",
   "metadata": {},
   "outputs": [],
   "source": [
    "# type your code here"
   ]
  },
  {
   "cell_type": "markdown",
   "id": "27a79975-fef3-4544-9e77-d29306cd97aa",
   "metadata": {},
   "source": [
    "### Solution:\n",
    "\n",
    "Click to reveal (please note that this only works with Jupyter lab)."
   ]
  },
  {
   "cell_type": "code",
   "execution_count": null,
   "id": "2bf6820d-1001-4f28-8cbc-1e0b5fc2f80b",
   "metadata": {
    "jupyter": {
     "source_hidden": true
    },
    "tags": []
   },
   "outputs": [],
   "source": [
    "# possible solution\n",
    "\n",
    "cities = {\n",
    "    'Anna': 'Oslo',\n",
    "    'Bruno': 'Oslo',\n",
    "    'Charlie': 'Bergen',\n",
    "    'Daniel': 'Trondheim',\n",
    "    'Eva': 'Bergen',\n",
    "    'Fred': 'Oslo',\n",
    "    'Greg': 'Trondheim',\n",
    "    'Hugo': 'Oslo',\n",
    "    'Ida': 'Trondheim',\n",
    "    'Jake': 'Trondheim',\n",
    "}\n",
    "\n",
    "heights = {\n",
    "    'Anna': 168,\n",
    "    'Bruno': 172,\n",
    "    'Charlie': 190,\n",
    "    'Daniel': 170,\n",
    "    'Eva': 174,\n",
    "    'Fred': 167,\n",
    "    'Greg': 182,\n",
    "    'Hugo': 176,\n",
    "    'Ida': 165,\n",
    "    'Jake': 177,\n",
    "}\n",
    "\n",
    "grouped = {}\n",
    "\n",
    "for name, city in cities.items():\n",
    "    if city not in grouped:\n",
    "        grouped[city] = []\n",
    "    \n",
    "    height = heights[name]\n",
    "    grouped[city].append(height)\n",
    "\n",
    "averages = [] \n",
    "for city, values in grouped.items():\n",
    "    height = sum(values) / len(values)\n",
    "    averages.append((city, height))\n",
    "\n",
    "averages.sort(key=lambda x: x[1])\n",
    "\n",
    "for city, height in averages:\n",
    "    print(f'{city:<10} {height:.1f}')"
   ]
  }
 ],
 "metadata": {
  "kernelspec": {
   "display_name": "Python 3 (ipykernel)",
   "language": "python",
   "name": "python3"
  },
  "language_info": {
   "codemirror_mode": {
    "name": "ipython",
    "version": 3
   },
   "file_extension": ".py",
   "mimetype": "text/x-python",
   "name": "python",
   "nbconvert_exporter": "python",
   "pygments_lexer": "ipython3",
   "version": "3.11.0"
  }
 },
 "nbformat": 4,
 "nbformat_minor": 5
}
