{
 "cells": [
  {
   "cell_type": "markdown",
   "id": "102a299b-c007-4e96-88ae-b9f93f3eea97",
   "metadata": {},
   "source": [
    "# Welcome to BT2100 - Computational Biotechnology"
   ]
  },
  {
   "cell_type": "code",
   "execution_count": 1,
   "id": "14ac4349-594d-4c78-8ae6-2dc8f043b2d4",
   "metadata": {},
   "outputs": [],
   "source": [
    "import pandas as pd"
   ]
  },
  {
   "cell_type": "code",
   "execution_count": 2,
   "id": "8a3188f5-7a34-4b4c-94b7-1054d129ef15",
   "metadata": {},
   "outputs": [],
   "source": [
    "df = pd.DataFrame([[1,1], [2,4], [3,9]], columns=['x', 'y'])"
   ]
  },
  {
   "cell_type": "code",
   "execution_count": 4,
   "id": "4c181082-a796-432a-a6f6-044a431db867",
   "metadata": {},
   "outputs": [
    {
     "data": {
      "text/plain": [
       "<AxesSubplot:xlabel='x', ylabel='y'>"
      ]
     },
     "execution_count": 4,
     "metadata": {},
     "output_type": "execute_result"
    },
    {
     "data": {
      "image/png": "[encoded data removed]",
      "text/plain": [
       "<Figure size 432x288 with 1 Axes>"
      ]
     },
     "metadata": {
      "needs_background": "light"
     },
     "output_type": "display_data"
    }
   ],
   "source": [
    "df.plot.scatter('x', 'y')"
   ]
  },
  {
   "cell_type": "code",
   "execution_count": null,
   "id": "db9d059b-ab1e-4633-ab75-f950458690c3",
   "metadata": {},
   "outputs": [],
   "source": []
  }
 ],
 "metadata": {
  "kernelspec": {
   "display_name": "Python 3",
   "language": "python",
   "name": "python3"
  },
  "language_info": {
   "codemirror_mode": {
    "name": "ipython",
    "version": 3
   },
   "file_extension": ".py",
   "mimetype": "text/x-python",
   "name": "python",
   "nbconvert_exporter": "python",
   "pygments_lexer": "ipython3",
   "version": "3.8.8"
  }
 },
 "nbformat": 4,
 "nbformat_minor": 5
}
