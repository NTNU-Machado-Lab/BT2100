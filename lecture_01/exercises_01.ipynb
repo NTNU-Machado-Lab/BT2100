{
 "cells": [
  {
   "cell_type": "markdown",
   "id": "102a299b-c007-4e96-88ae-b9f93f3eea97",
   "metadata": {},
   "source": [
    "# Welcome to BT2100 - Computational Biotechnology"
   ]
  },
  {
   "cell_type": "markdown",
   "id": "5a0a43d5-d701-465f-b887-387a2ca834a8",
   "metadata": {},
   "source": [
    "### Before we start...\n",
    "\n",
    "During this course we will use **Jupyter notebooks** for practical exercises. If you haven't used Jupyter before, take a moment to get a quick look of its features in the [Jupyter website](https://jupyter.org/). \n",
    "\n",
    "![jupyter logo](files/jupyter_logo.png)\n",
    "\n",
    "You can run these notebooks on the cloud by clicking on the binder badge in our GitHub repository: \n",
    "[![Binder](https://mybinder.org/badge_logo.svg)](https://mybinder.org/v2/gh/NTNU-Machado-Lab/BT2100/HEAD)\n",
    "\n",
    "This solution uses computing resources kindly provided by [The BinderHub Federation](https://binderhub.readthedocs.io/en/stable/federation/federation.html). However, this service can often be unstable and the available resources are limited. Ideally, you should try to locally install Jupyter and run these notebooks on your own computer. \n",
    "\n",
    "The easiest option is to install Anaconda, which includes a Python distribution pre-packaged with several scientific libraries and utilities like the conda package manager and Jupyter. Here you can find the individual (free) edition: https://www.anaconda.com/products/individual.\n",
    "\n",
    "![anaconda logo](files/anaconda_logo.png)\n"
   ]
  },
  {
   "cell_type": "markdown",
   "id": "612037f0-fe76-4249-bf3d-28b4486af833",
   "metadata": {},
   "source": [
    "## Exercises"
   ]
  },
  {
   "cell_type": "markdown",
   "id": "814bbd8e-68f6-4f0f-a543-dc25dfd9b023",
   "metadata": {},
   "source": [
    "Do something..."
   ]
  },
  {
   "cell_type": "code",
   "execution_count": 3,
   "id": "2aa503fd-c354-4c84-86d4-74b680890a08",
   "metadata": {
    "tags": []
   },
   "outputs": [],
   "source": [
    "#type your answer here..."
   ]
  },
  {
   "cell_type": "markdown",
   "id": "0e9d1ae6-cb8c-4be7-90b8-8ac996a1438b",
   "metadata": {},
   "source": [
    "Click to reveal solution bellow."
   ]
  },
  {
   "cell_type": "code",
   "execution_count": null,
   "id": "a5f5a48f-2684-4d4b-857c-fbbf064193d7",
   "metadata": {
    "jupyter": {
     "source_hidden": true
    },
    "tags": []
   },
   "outputs": [],
   "source": [
    "1+1 "
   ]
  },
  {
   "cell_type": "code",
   "execution_count": null,
   "id": "f1e9a52c-d753-43e5-9d1b-a5c6ef94183a",
   "metadata": {},
   "outputs": [],
   "source": []
  }
 ],
 "metadata": {
  "kernelspec": {
   "display_name": "Python 3",
   "language": "python",
   "name": "python3"
  },
  "language_info": {
   "codemirror_mode": {
    "name": "ipython",
    "version": 3
   },
   "file_extension": ".py",
   "mimetype": "text/x-python",
   "name": "python",
   "nbconvert_exporter": "python",
   "pygments_lexer": "ipython3",
   "version": "3.8.8"
  }
 },
 "nbformat": 4,
 "nbformat_minor": 5
}
