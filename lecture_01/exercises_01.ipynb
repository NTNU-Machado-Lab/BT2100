{
 "cells": [
  {
   "cell_type": "markdown",
   "id": "102a299b-c007-4e96-88ae-b9f93f3eea97",
   "metadata": {},
   "source": [
    "# Welcome to BT2100 - Computational Biotechnology"
   ]
  },
  {
   "cell_type": "markdown",
   "id": "5a0a43d5-d701-465f-b887-387a2ca834a8",
   "metadata": {},
   "source": [
    "---\n",
    "\n",
    "### Before we start...\n",
    "\n",
    "During this course we will use **Jupyter notebooks** for practical exercises. If you haven't used Jupyter before, take a moment to get a quick look of its features in the [Jupyter website](https://jupyter.org/). \n",
    "\n",
    "![jupyter logo](files/jupyter_logo.png)\n",
    "\n",
    "You can run these notebooks on the cloud by clicking on the binder badge [![Binder](https://mybinder.org/badge_logo.svg)](https://mybinder.org/v2/gh/NTNU-Machado-Lab/BT2100/HEAD?urlpath=lab) in our [GitHub repository](https://github.com/NTNU-Machado-Lab/BT2100).\n",
    "\n",
    "This solution uses computing resources kindly provided by [The BinderHub Federation](https://binderhub.readthedocs.io/en/stable/federation/federation.html). However, this service can often be unstable and the available resources are limited. Ideally, you should try to install Jupyter locally and run these notebooks on your own computer. \n",
    "\n",
    "The easiest option is to install Anaconda, which includes a Python distribution pre-packaged with several scientific libraries and utilities like the conda package manager and Jupyter. Here you can find the individual (free) edition: https://www.anaconda.com/products/individual.\n",
    "\n",
    "![anaconda logo](files/anaconda_logo.png)\n",
    "\n",
    "---"
   ]
  },
  {
   "cell_type": "markdown",
   "id": "612037f0-fe76-4249-bf3d-28b4486af833",
   "metadata": {},
   "source": [
    "## Exercises"
   ]
  },
  {
   "cell_type": "markdown",
   "id": "63ec90fc-3da5-4b7f-9f9f-72c2010797b2",
   "metadata": {},
   "source": [
    "During this course, we will have several exercises that you need to solve by typing a few lines of code. These exercises are not graded, they are here to help you practice your coding skills. \n",
    "\n",
    "> **Attention**: If you are running this notebook on the cloud, your work will disappear once you close the session (or if it expires)! If you want to save your work, go to `File -> Download` and save the notebook on your computer.\n",
    "\n",
    "Each exercise will have a description followed by a code cell where you can type and execute your code. An example solution is provided in a hidden cell after each exercise so you can self-evaluate your progress. \n",
    "\n",
    "> **Attention**: Make sure you are running the new **Jupyter lab** interface and not the classic **Jupyter notebook** interface. The latter does not support hidden code cells, and you will immediately see all the solutions."
   ]
  },
  {
   "cell_type": "markdown",
   "id": "b80be82b-7003-43b1-a284-6847e650513f",
   "metadata": {},
   "source": [
    "---\n",
    "## A quick introduction to Python\n",
    "\n",
    "Our goal for this session is to cover the basics of Python programming. If some exercises seem too easy for you just skip them.\n",
    "\n",
    "If you need to improve your Python skills, the [official tutorial](https://docs.python.org/3/tutorial/index.html) is a good place to start!"
   ]
  },
  {
   "cell_type": "markdown",
   "id": "ab0b6a8c-c6b4-42a7-9440-29355ce1fc9f",
   "metadata": {},
   "source": [
    "### 1. Just a fancy calculator\n",
    "\n",
    "Python is an interpreted programming language (just like *Matlab* and *R*), which means you can simply use it as a calculator. \n",
    "\n",
    "You type something, and you get a result:"
   ]
  },
  {
   "cell_type": "code",
   "execution_count": 6,
   "id": "2aa503fd-c354-4c84-86d4-74b680890a08",
   "metadata": {
    "tags": []
   },
   "outputs": [
    {
     "data": {
      "text/plain": [
       "2"
      ]
     },
     "execution_count": 6,
     "metadata": {},
     "output_type": "execute_result"
    }
   ],
   "source": [
    "1 + 1"
   ]
  },
  {
   "cell_type": "markdown",
   "id": "27e1e8f7-5a0d-411b-8f6f-2ab9d143553a",
   "metadata": {},
   "source": [
    "You can also declare variables that store values and use them to create more complex expressions:"
   ]
  },
  {
   "cell_type": "code",
   "execution_count": 10,
   "id": "a5f5a48f-2684-4d4b-857c-fbbf064193d7",
   "metadata": {
    "tags": []
   },
   "outputs": [
    {
     "name": "stdout",
     "output_type": "stream",
     "text": [
      "5.25\n"
     ]
    }
   ],
   "source": [
    "x = 1.5\n",
    "y = 2.0 * x\n",
    "z = x**2 + y   # this means \"x squared\"\n",
    "\n",
    "print(z)"
   ]
  },
  {
   "cell_type": "markdown",
   "id": "75257f8e-e051-43e0-8526-168238869495",
   "metadata": {},
   "source": [
    "It's your turn! Just use the space bellow to try something yourself:"
   ]
  },
  {
   "cell_type": "code",
   "execution_count": 8,
   "id": "f1e9a52c-d753-43e5-9d1b-a5c6ef94183a",
   "metadata": {
    "tags": []
   },
   "outputs": [],
   "source": [
    "# type some code here... \n"
   ]
  },
  {
   "cell_type": "markdown",
   "id": "2d6a859c-3dbd-42d3-b73e-f9960f1da6df",
   "metadata": {},
   "source": [
    "### 2. Variable types\n",
    "\n",
    "The most simple variable types in Python are:\n",
    "\n",
    "* bool: True, False\n",
    "* int: 1, 2, 3, ...\n",
    "* float: 1.0, 2.25, -15.347, 2e-5, ..."
   ]
  },
  {
   "cell_type": "code",
   "execution_count": 15,
   "id": "d39a1ebd-d88b-487c-9c83-35259311306f",
   "metadata": {},
   "outputs": [
    {
     "name": "stdout",
     "output_type": "stream",
     "text": [
      "0 2.3 False\n"
     ]
    }
   ],
   "source": [
    "x = 0\n",
    "y = 2.3\n",
    "z = (x == y)  # compare x and y\n",
    "\n",
    "print(x, y, z)"
   ]
  },
  {
   "cell_type": "markdown",
   "id": "44c863cb-45c7-4a0b-abf1-4a662061a1e4",
   "metadata": {},
   "source": [
    "#### 2.1 Lists \n",
    "\n",
    "Lists are used to group several values together. They are quite flexible, you can *merge* them, *slice* them, etc. "
   ]
  },
  {
   "cell_type": "code",
   "execution_count": 51,
   "id": "119c6123-9b52-4fa4-9ddb-b09c139aab8d",
   "metadata": {},
   "outputs": [
    {
     "name": "stdout",
     "output_type": "stream",
     "text": [
      "c = [0, 1, 2, 3, 4, 5, 6, 7, 8, 9]\n",
      "d = [3, 4, 5, 6]\n",
      "e = [0, 9]\n"
     ]
    }
   ],
   "source": [
    "a = [0, 1, 2, 3, 4]\n",
    "b = [5, 6, 7, 8, 9]\n",
    "c = a + b            # merge two lists\n",
    "d = c[3:7]           # get elements from position 3 to 6 (the 7th element is excluded, yes this is weird)\n",
    "e = [c[0], c[-1]]    # combine the first (0-based indexing) and last element (position -1)\n",
    "\n",
    "print('c =', c)\n",
    "print('d =', d)\n",
    "print('e =', e)"
   ]
  },
  {
   "cell_type": "markdown",
   "id": "1df8c5ea-e12b-4090-802c-406d5c299a84",
   "metadata": {},
   "source": [
    "List comprehensions are a really powerful syntax to build complex lists:"
   ]
  },
  {
   "cell_type": "code",
   "execution_count": 47,
   "id": "39f9971e-c72c-41f3-8f42-c4a0f21d84b1",
   "metadata": {},
   "outputs": [
    {
     "name": "stdout",
     "output_type": "stream",
     "text": [
      "b = [2, 4, 6, 8, 10, 12, 14, 16, 18, 20]\n",
      "c = [2, 4, 6, 8, 10]\n",
      "d = [(1, 'a'), (1, 'b'), (2, 'a'), (2, 'b'), (3, 'a'), (3, 'b')]\n"
     ]
    }
   ],
   "source": [
    "a = range(1, 11)                 # numbers from 1 to 10 (remember, the 11 is excluded)\n",
    "b = [2 * x for x in a]           # create a list with the double of every number in a\n",
    "c = [x for x in a if x%2 == 0]   # get all the even numbers in a \n",
    "print('b =', b)\n",
    "print('c =', c)\n",
    "\n",
    "# combine all elements in [1,2,3] with all elements in ['a', 'b']\n",
    "d = [(x, y) for x in [1,2,3] for y in ['a', 'b']] \n",
    "print('d =', d)"
   ]
  },
  {
   "cell_type": "markdown",
   "id": "442dd5fe-4bdf-445e-9ddf-78751fc4076d",
   "metadata": {},
   "source": [
    "#### 2.2 Tuples\n",
    "\n",
    "Tuples are also groups of values, similar to lists, but once created they cannot be changed."
   ]
  },
  {
   "cell_type": "code",
   "execution_count": 27,
   "id": "6f4dd3d6-c98b-4537-8ae8-f7aa223215d0",
   "metadata": {},
   "outputs": [
    {
     "name": "stdout",
     "output_type": "stream",
     "text": [
      "((1, 2, 3), (1, 2, 3))\n"
     ]
    }
   ],
   "source": [
    "x = (1, 2, 3)\n",
    "y = (x, x)\n",
    "\n",
    "print(y)"
   ]
  },
  {
   "cell_type": "markdown",
   "id": "748d7cec-bb34-4bdf-ac71-97126436d746",
   "metadata": {},
   "source": [
    "#### 2.3 Sets\n",
    "\n",
    "Sets are also similar to lists, but they cannot contain repeated values and they are not ordered (so they cannot be indexed or sliced). \n",
    "\n",
    "However, sets are very useful when you need to calculate unions and intersections."
   ]
  },
  {
   "cell_type": "code",
   "execution_count": 52,
   "id": "e9fe5ff1-7e9f-484d-99c0-36bceb755a87",
   "metadata": {},
   "outputs": [
    {
     "name": "stdout",
     "output_type": "stream",
     "text": [
      "c = {4, 5, 6}\n",
      "d = {1, 2, 3, 4, 5, 6, 7, 8, 9, 10}\n",
      "e = {1, 2, 3, 7, 8, 9, 10}\n"
     ]
    }
   ],
   "source": [
    "a = {1, 2, 3, 4, 5, 6}\n",
    "b = {4, 5, 6, 7, 8, 9, 10}\n",
    "\n",
    "c = a & b  # intersection\n",
    "d = a | b  # union\n",
    "e = a ^ b  # mutual exclusion\n",
    "\n",
    "print('c =', c)\n",
    "print('d =', d)\n",
    "print('e =', e)"
   ]
  },
  {
   "cell_type": "markdown",
   "id": "ce8301d8-3a05-4e6d-a75e-8a8ce7ca60f0",
   "metadata": {},
   "source": [
    "#### 2.4 Dictionaries\n",
    "\n",
    "Dictionaries are mappings between *keys* and *values*. They work similary to lists, but you use the keys instead of a numbered index to retrieve  values:"
   ]
  },
  {
   "cell_type": "code",
   "execution_count": 50,
   "id": "2c076461-4172-4249-a0e2-4bdd02d56df1",
   "metadata": {},
   "outputs": [
    {
     "name": "stdout",
     "output_type": "stream",
     "text": [
      "the banana is yellow\n"
     ]
    }
   ],
   "source": [
    "colors = {'apple': 'green', 'banana': 'yellow', 'strawberry': 'red'}  # create a dictionary\n",
    "\n",
    "colors['blueberry'] = 'blue' # we can always add more items\n",
    "colors['orange'] = 'orange'  # after the dictionary was created\n",
    "\n",
    "x = 'banana'\n",
    "print('the', x, 'is', colors[x])"
   ]
  },
  {
   "cell_type": "markdown",
   "id": "10848ef2-6358-415b-b7b3-a26e0f2fa108",
   "metadata": {},
   "source": [
    "#### 2.5 Strings\n",
    "\n",
    "Strings are used to represent text, and they are essentially lists of characters:"
   ]
  },
  {
   "cell_type": "code",
   "execution_count": 83,
   "id": "3be68fb3-010b-4fa3-9ba4-7c8f5326a647",
   "metadata": {},
   "outputs": [
    {
     "name": "stdout",
     "output_type": "stream",
     "text": [
      "I am a string, and I am also a string.\n",
      "I am a string, and I am also.\n",
      "['I', 'am', 'a', 'string,', 'and', 'I', 'am', 'also', 'a', 'string.']\n"
     ]
    }
   ],
   "source": [
    "x = \"I am a string\"        # you can use double quotes\n",
    "y = 'I am also a string.'   # or single quotes\n",
    "z = x + ', and ' + y       # and you can append strings together\n",
    "\n",
    "print(z)\n",
    "print(z[:28] + '.')\n",
    "print(z.split())"
   ]
  },
  {
   "cell_type": "markdown",
   "id": "2a8fe9cd-5c97-4e42-87ad-55a4297cf2ef",
   "metadata": {},
   "source": [
    "Strings are so versatile that they come with their own [format mini-language](https://docs.python.org/3/library/string.html#format-specification-mini-language)."
   ]
  },
  {
   "cell_type": "code",
   "execution_count": 69,
   "id": "5a4c163f-5aec-4cfd-afc7-3883eb54d87a",
   "metadata": {},
   "outputs": [
    {
     "name": "stdout",
     "output_type": "stream",
     "text": [
      "1000 / 3 is approximately 333.33333 or 3.3e+02\n",
      "1000 / 3 is approximately 333.33333 or 3.3e+02\n"
     ]
    }
   ],
   "source": [
    "x = 1000\n",
    "y = 3\n",
    "z = x/y\n",
    "\n",
    "# option 1\n",
    "print('{} / {} is approximately {:.5f} or {:.2g}'.format(x, y, z, z))\n",
    "\n",
    "# option 2\n",
    "print(f'{x} / {y} is approximately {z:.5f} or {z:.2g}')"
   ]
  },
  {
   "cell_type": "markdown",
   "id": "c246f432-c339-467c-8f70-7528ebf558f8",
   "metadata": {},
   "source": [
    "### 3 Control flow"
   ]
  },
  {
   "cell_type": "markdown",
   "id": "a6fac120-f410-4fb6-a29f-a4f3b7a98bdf",
   "metadata": {},
   "source": [
    "#### 3.1 if-else statements\n",
    "\n",
    "As you start developing more complex code, you will need to create pieces of code that only get executed under certain conditions. \n",
    "\n",
    "You can do this using so called **if** statements:\n",
    "\n",
    "```\n",
    "if condition is True:\n",
    "    do this!\n",
    "```\n",
    "\n",
    "You can also use **if-else** statements:\n",
    "\n",
    "```\n",
    "if condition is True:\n",
    "    do this!\n",
    "else:\n",
    "    do that instead!\n",
    "```\n",
    "\n",
    "> **Attention:** Note that the blocks of code inside the if-else clauses are indented with four spaces."
   ]
  },
  {
   "cell_type": "code",
   "execution_count": 86,
   "id": "02ff3d85-4953-49ab-aa96-a9efe52d5d7f",
   "metadata": {},
   "outputs": [
    {
     "name": "stdout",
     "output_type": "stream",
     "text": [
      "x is smaller or equal to y\n"
     ]
    }
   ],
   "source": [
    "x = 5\n",
    "y = 7\n",
    "\n",
    "if x > y:\n",
    "    print('x is larger than y')\n",
    "else:\n",
    "    print('x is smaller or equal to y')"
   ]
  },
  {
   "cell_type": "markdown",
   "id": "beb1bfea-90a4-40f7-b2e5-3cca3459ed7e",
   "metadata": {},
   "source": [
    "#### 3.2 iterating with loops\n",
    "\n",
    "Sometimes you want to execute something multiple times. \n",
    "\n",
    "You can do this using **for** loops:\n",
    "\n",
    "```\n",
    "for element in list:\n",
    "    do something\n",
    "```\n",
    "\n",
    "Or you can use the **while** statement:\n",
    "\n",
    "```\n",
    "while condition is True:\n",
    "    do something\n",
    "```"
   ]
  },
  {
   "cell_type": "code",
   "execution_count": 93,
   "id": "f12df0bc-0a79-4214-8749-61f2ec9d92ba",
   "metadata": {},
   "outputs": [
    {
     "name": "stdout",
     "output_type": "stream",
     "text": [
      "x = 1\n",
      "x = 2\n",
      "x = 3\n",
      "y = 1\n",
      "y = 2\n",
      "y = 3\n"
     ]
    }
   ],
   "source": [
    "for x in [1, 2, 3]:\n",
    "    print('x =', x)\n",
    "    \n",
    "y = 0\n",
    "while y < 3:\n",
    "    y = y + 1\n",
    "    print('y =', y)"
   ]
  },
  {
   "cell_type": "markdown",
   "id": "3a8b41cf-135c-41a5-b721-2eedc4742231",
   "metadata": {},
   "source": [
    "You can also terminate loops using **break** statements:"
   ]
  },
  {
   "cell_type": "code",
   "execution_count": 96,
   "id": "5f9a0eaf-6512-46ec-8fd2-bf0c332f4d83",
   "metadata": {},
   "outputs": [
    {
     "name": "stdout",
     "output_type": "stream",
     "text": [
      "x = 1\n",
      "x = 2\n",
      "x = 3\n",
      "I didn't expect a negative number.\n"
     ]
    }
   ],
   "source": [
    "for x in [1, 2, 3, -1, 4, 5]:\n",
    "    if x < 0:\n",
    "        print(\"I didn't expect a negative number.\")\n",
    "        break\n",
    "    print('x =', x)"
   ]
  },
  {
   "cell_type": "markdown",
   "id": "3b710e4c-dd28-4e0c-9156-d7f730e47dad",
   "metadata": {},
   "source": [
    "> **Important**: don't forget the correct indentation when you start creating nested statements!"
   ]
  },
  {
   "cell_type": "markdown",
   "id": "ed2dcc8f-3463-4790-bab6-8db274aef1d9",
   "metadata": {},
   "source": [
    "### 4. Functions\n",
    "\n",
    "Very often you will want to reuse a piece of code that performs some task that you use multiple times. \n",
    "Or you may want to divide a long piece of code into smaller blocks that are easier to read. \n",
    "In both cases, it is very convenient to store that piece of code as a **function**.\n",
    "\n",
    "The general definition of a function is as follows:\n",
    "\n",
    "```\n",
    "def function_name(argument 1, argument 2, ...):\n",
    "    # some lines of code\n",
    "    # more lines of code\n",
    "    \n",
    "    return value\n",
    "```"
   ]
  },
  {
   "cell_type": "code",
   "execution_count": 108,
   "id": "b3e82185-983e-4295-b0d4-3b281dda146b",
   "metadata": {},
   "outputs": [
    {
     "name": "stdout",
     "output_type": "stream",
     "text": [
      "x = 2 y = -10 z = 12\n",
      "w = 1.0\n"
     ]
    }
   ],
   "source": [
    "def double(x): # this function doubles every number it receives\n",
    "    return 2 * x\n",
    "\n",
    "x = double(1)\n",
    "y = double(-5)\n",
    "z = double(double(3))\n",
    "\n",
    "print('x =', x, 'y =', y, 'z =', z)\n",
    "\n",
    "def trouble(x, y, z): \n",
    "    a = x**2 + y**2\n",
    "    b = a / (z + 1)\n",
    "    return b\n",
    "\n",
    "w = trouble(1, 2, 4)\n",
    "print('w =', w)"
   ]
  },
  {
   "cell_type": "markdown",
   "id": "1eea7dcf-75e5-425b-9627-6b054ec8fc4a",
   "metadata": {},
   "source": [
    "In Python functions are variables too, so you can use functions as arguments to other functions:"
   ]
  },
  {
   "cell_type": "code",
   "execution_count": 110,
   "id": "6c839918-8f9b-4b11-a7e0-0f99012e5a71",
   "metadata": {},
   "outputs": [
    {
     "name": "stdout",
     "output_type": "stream",
     "text": [
      "1 is not even\n",
      "2 is even\n",
      "3 is not even\n",
      "4 is even\n",
      "5 is not even\n"
     ]
    }
   ],
   "source": [
    "def is_even(x):\n",
    "    if x%2 == 0:\n",
    "        print(f'{x} is even')\n",
    "    else:\n",
    "        print(f'{x} is not even')\n",
    "        \n",
    "def test(f, values):\n",
    "    for value in values:\n",
    "        f(value)\n",
    "\n",
    "x = [1, 2, 3, 4, 5]\n",
    "test(is_even, x)"
   ]
  },
  {
   "cell_type": "markdown",
   "id": "4304e245-0568-4808-baf8-a75fa3e76bd9",
   "metadata": {},
   "source": [
    "### 5. Modules\n",
    "\n",
    "For the sake of organization, python functions can be grouped together into **modules** (which can be further divided into sub-modules, and sub-submodules, etc..).\n",
    "\n",
    "Python's motto is **Batteries Included**, take a look at modules that come with [The Python Standard Library](https://docs.python.org/3/library/index.html#library-index).\n",
    "\n",
    "There are two main ways of importing functions from modules:\n",
    "\n",
    "```\n",
    "import module\n",
    "\n",
    "# usage with module name as prefix\n",
    "y = module.function(x)\n",
    "\n",
    "from module import function\n",
    "\n",
    "# usage with function name only\n",
    "y = function(x)\n",
    "```"
   ]
  },
  {
   "cell_type": "code",
   "execution_count": 122,
   "id": "b0a3b08b-9f3e-4917-b6b4-0ad35bcfd1c4",
   "metadata": {},
   "outputs": [
    {
     "name": "stdout",
     "output_type": "stream",
     "text": [
      "heads\n",
      "tail\n",
      "heads\n",
      "tail\n",
      "tail\n",
      "tail\n",
      "heads\n",
      "tail\n",
      "heads\n",
      "tail\n"
     ]
    }
   ],
   "source": [
    "from random import randint\n",
    "\n",
    "for i in range(10):\n",
    "    x = randint(1, 2)\n",
    "    if x == 1:\n",
    "        print('heads')\n",
    "    else:\n",
    "        print('tail')"
   ]
  },
  {
   "cell_type": "code",
   "execution_count": 126,
   "id": "2111d5bb-bf32-40be-aed4-2e07478908a1",
   "metadata": {},
   "outputs": [
    {
     "name": "stdout",
     "output_type": "stream",
     "text": [
      "[1, 1, 2, 6, 24, 120, 720, 5040, 40320, 362880]\n"
     ]
    }
   ],
   "source": [
    "import math\n",
    "\n",
    "values = [math.factorial(x) for x in range(10)]\n",
    "    \n",
    "print(values)"
   ]
  },
  {
   "cell_type": "markdown",
   "id": "115d486c-0456-45d8-8224-bce4ef454a02",
   "metadata": {},
   "source": [
    "### 6. Classes"
   ]
  },
  {
   "cell_type": "code",
   "execution_count": null,
   "id": "8194d91f-dfe2-411f-bfc2-70bafc0983ef",
   "metadata": {},
   "outputs": [],
   "source": []
  }
 ],
 "metadata": {
  "kernelspec": {
   "display_name": "Python 3",
   "language": "python",
   "name": "python3"
  },
  "language_info": {
   "codemirror_mode": {
    "name": "ipython",
    "version": 3
   },
   "file_extension": ".py",
   "mimetype": "text/x-python",
   "name": "python",
   "nbconvert_exporter": "python",
   "pygments_lexer": "ipython3",
   "version": "3.8.8"
  }
 },
 "nbformat": 4,
 "nbformat_minor": 5
}
