{
 "cells": [
  {
   "cell_type": "markdown",
   "id": "14c50ca2-0991-4aff-87af-5ae3ec6d232a",
   "metadata": {},
   "source": [
    "# Lecture 7 - Functional gene annotation\n",
    "\n",
    "In this lecture you learned about annotating gene function using controlled vocabularies like **EC numbers** and **GO terms**.\n",
    "\n",
    "### Learning objectives:\n",
    "\n",
    "- Practice basic programming skills (parsing, filtering, ...)\n",
    "- Using recursive functions\n",
    "\n",
    "\n",
    "## Exercise 1:\n",
    "\n",
    "In lecture 3 (exercise 1, option 2), we used [**Prokka**](https://academic.oup.com/bioinformatics/article/30/14/2068/2390517) to identify all the genes (open reading frames) present in an assembled genome. \n",
    "\n",
    "In addition to identifying gene sequences, Prokka also annotates those sequences (using homology-based annotation transfer) by BLASTing them against reference databases (UniProt, RefSeq, Pfam). You might have noticed that, along the FASTA file with the detected ORFs, it also generated an annotation file in [**GenBank**](https://www.ncbi.nlm.nih.gov/Sitemap/samplerecord.html) format. \n",
    "This file format is more detailed than a simple FASTA file, and contains several annotated **features** (genes and respective functions) for each contig in the original fasta file.\n",
    "\n",
    "Let's start by loading that file: "
   ]
  },
  {
   "cell_type": "code",
   "execution_count": null,
   "id": "0fe31728-5de0-401e-8298-2be0fdd24362",
   "metadata": {},
   "outputs": [],
   "source": [
    "from Bio import SeqIO\n",
    "\n",
    "contigs = list(SeqIO.parse('files/annotated.gbk', 'genbank'))"
   ]
  },
  {
   "cell_type": "markdown",
   "id": "6d0b7446",
   "metadata": {},
   "source": [
    "We can print the first annotated contig for an overview of the number of annotated features:"
   ]
  },
  {
   "cell_type": "code",
   "execution_count": null,
   "id": "db99ccdb",
   "metadata": {},
   "outputs": [],
   "source": [
    "print(contigs[0])"
   ]
  },
  {
   "cell_type": "markdown",
   "id": "f295c7a5",
   "metadata": {},
   "source": [
    "> Remember: the genome we annotated in Lecture 3 was not a fully assembled genome, it was a FASTA file with (the best possible) assembly of the raw sequencing data we assembled in Lecture 2.\n",
    "> The result was a FASTA file with multiple contigs (by decreasing order of size) and, therefore, the annotated features in this GenBank file are grouped by contig.\n",
    "\n",
    "Let's check how many features are present in each contig:"
   ]
  },
  {
   "cell_type": "code",
   "execution_count": null,
   "id": "8b029571-3131-44b5-933f-ab87f5f9d0ae",
   "metadata": {},
   "outputs": [],
   "source": [
    "feats_per_contig = [len(contig.features) for contig in contigs]\n",
    "print(feats_per_contig)"
   ]
  },
  {
   "cell_type": "markdown",
   "id": "813eaf10-d6f2-4d10-bd5e-69249a0265b1",
   "metadata": {},
   "source": [
    "**Fundamental law** of the universe: It's always best to plot your data!"
   ]
  },
  {
   "cell_type": "code",
   "execution_count": null,
   "id": "9ab9fc0a-bb24-4ca8-8475-d5d02b8050ad",
   "metadata": {},
   "outputs": [],
   "source": [
    "import matplotlib.pyplot as plt\n",
    "\n",
    "plt.hist(feats_per_contig)\n",
    "plt.xlabel('number of features')\n",
    "plt.ylabel('number of contigs')"
   ]
  },
  {
   "cell_type": "markdown",
   "id": "240058fa-8bc2-4ca4-a047-7d8d023d1cc8",
   "metadata": {},
   "source": [
    "Here is how we could look at the first 5 features of the 3rd contig: \n",
    "\n",
    "> Note: the first feature (*source*) is actually just the original contig."
   ]
  },
  {
   "cell_type": "code",
   "execution_count": null,
   "id": "20cd7f0a-b19a-4c21-8378-8c5eb34ebe59",
   "metadata": {},
   "outputs": [],
   "source": [
    "for feature in contigs[2].features[:5]:\n",
    "    print(feature)"
   ]
  },
  {
   "cell_type": "markdown",
   "id": "45917e9b",
   "metadata": {},
   "source": [
    "### 1.1\n",
    "\n",
    "Each feature is represented as a [**SeqFeature**](https://biopython.org/docs/1.75/api/Bio.SeqFeature.html) object.\n",
    "\n",
    "- Take a look at the documentation of [**SeqFeature**](https://biopython.org/docs/1.75/api/Bio.SeqFeature.html)\n",
    "- Make a loop that iterates over the features of the first contig\n",
    "- Print the first **EC number** you find (and stop). "
   ]
  },
  {
   "cell_type": "code",
   "execution_count": null,
   "id": "eb5b7acb-b2ce-4197-a841-5c46ae9f8039",
   "metadata": {},
   "outputs": [],
   "source": [
    "# type your code here"
   ]
  },
  {
   "cell_type": "markdown",
   "id": "fc95c757-4527-4b3d-8836-30d36f9f8593",
   "metadata": {},
   "source": [
    "Click below to see a solution:"
   ]
  },
  {
   "cell_type": "code",
   "execution_count": null,
   "id": "0193cfe6",
   "metadata": {
    "jupyter": {
     "source_hidden": true
    }
   },
   "outputs": [],
   "source": [
    "\n",
    "for feature in contigs[0].features:\n",
    "    if 'EC_number' in feature.qualifiers:\n",
    "        print(feature.qualifiers['EC_number'])\n",
    "        break"
   ]
  },
  {
   "cell_type": "markdown",
   "id": "d45a1077-f3fa-4d35-b559-58740cc1e06a",
   "metadata": {},
   "source": [
    "\n",
    "### 1.2\n",
    "\n",
    "Let's analyse the functional potential of the organism (in terms of metabolic function diversity):\n",
    "\n",
    "- Create a list (or set) of unique (i.e. not repeated) EC numbers across all contigs\n",
    "- Print the total number of EC numbers in each class\n",
    "\n",
    "Reminder, these are the top classes:\n",
    "\n",
    "- EC 1 - Oxidoreductases\n",
    "- EC 2 - Transferases\n",
    "- EC 3 - Hydrolases\n",
    "- EC 4 - Lyases\n",
    "- EC 5 - Isomerases\n",
    "- EC 6 - Ligases\n",
    "- EC 7 - Translocases"
   ]
  },
  {
   "cell_type": "code",
   "execution_count": null,
   "id": "ce74fba1-b978-4f40-997c-93f3e9e46bb2",
   "metadata": {},
   "outputs": [],
   "source": [
    "# type your code here..."
   ]
  },
  {
   "cell_type": "markdown",
   "id": "66fb3fc6-c907-4ff1-9783-0da0f4cd0723",
   "metadata": {},
   "source": [
    "Click the cell below to see the solution:"
   ]
  },
  {
   "cell_type": "code",
   "execution_count": null,
   "id": "9d05422f-ddc7-4847-a081-07ed85dac5ae",
   "metadata": {
    "jupyter": {
     "source_hidden": true
    },
    "tags": []
   },
   "outputs": [],
   "source": [
    "\n",
    "ec_numbers = set()\n",
    "\n",
    "for contig in contigs:\n",
    "    for feature in contig.features:\n",
    "        if 'EC_number' in feature.qualifiers:\n",
    "            ec_numbers.update(feature.qualifiers['EC_number'])\n",
    "            \n",
    "for i in range(1,8):\n",
    "    ecs_i = [x for x in ec_numbers if x.split('.')[0] == str(i)]\n",
    "    print(f'EC {i}: {len(ecs_i)}')"
   ]
  },
  {
   "cell_type": "markdown",
   "id": "1b9e3aa1-3e94-4953-8a64-ccd62b0c01cb",
   "metadata": {},
   "source": [
    "---------\n",
    "\n",
    "## Exercise 2 - Gene Ontology\n",
    "\n",
    "[**GOATOOLS**](https://www.nature.com/articles/s41598-018-28948-z) is a useful Python library to work with the [Gene Ontology](https://geneontology.org/).\n",
    "\n",
    "Let's start by loading the latest version (well... at least it was when I wrote this) of the complete ontology from a local file (downloaded from [here](https://geneontology.org/docs/download-ontology/)):"
   ]
  },
  {
   "cell_type": "code",
   "execution_count": null,
   "id": "7797a431-5766-44d5-bc70-6e4d1a36b063",
   "metadata": {},
   "outputs": [],
   "source": [
    "from goatools import obo_parser\n",
    "go_terms = obo_parser.GODag('files/go-basic.obo', optional_attrs='xref')"
   ]
  },
  {
   "cell_type": "markdown",
   "id": "08735297",
   "metadata": {},
   "source": [
    "Let's inspect the first term..."
   ]
  },
  {
   "cell_type": "code",
   "execution_count": null,
   "id": "8d089e9c-89b3-46ce-816d-91850bfd2e39",
   "metadata": {},
   "outputs": [],
   "source": [
    "go_terms['GO:0000001']"
   ]
  },
  {
   "cell_type": "markdown",
   "id": "1a7dd490-5bdd-4bb4-9291-2a97b2a3614d",
   "metadata": {},
   "source": [
    "### 2.1\n",
    "\n",
    "In the genome annotations we obtained EC numbers but not GO terms (unfortuntely Prokka does not annotate with GO terms), but we can use the GO library to find which GO terms are associated with those EC numbers.\n",
    "\n",
    "Let's search for our good old friend **2.7.1.11** (*PFK1*, obviously). Can you find the GO term that corresponds to this enzyme?\n",
    "\n",
    "> **Tips**: `go_terms` is a dictionary from GO term ids to GO term objects, you can find the respective EC number (if it exists) in the `xref` attribute and it starts with `EC:`."
   ]
  },
  {
   "cell_type": "code",
   "execution_count": null,
   "id": "579bfcf8-c0a3-45e9-b803-fc1a08408301",
   "metadata": {},
   "outputs": [],
   "source": [
    "# type your code here..."
   ]
  },
  {
   "cell_type": "markdown",
   "id": "0332b040-f28c-4d09-982a-87bbe7abc244",
   "metadata": {},
   "source": [
    "Click below to see the solution:"
   ]
  },
  {
   "cell_type": "code",
   "execution_count": null,
   "id": "c4ca60d0-46ec-443b-bc1b-f9808acb4f26",
   "metadata": {
    "jupyter": {
     "source_hidden": true
    },
    "tags": []
   },
   "outputs": [],
   "source": [
    "\n",
    "for go_id, go_term in go_terms.items():\n",
    "    if 'EC:2.7.1.11' in go_term.xref:\n",
    "        print(go_term)\n",
    "        break"
   ]
  },
  {
   "cell_type": "markdown",
   "id": "be67d646-eb3d-4cc6-b1c2-e3ce6247114c",
   "metadata": {},
   "source": [
    "### 2.2\n",
    "\n",
    "Remember that GO terms are organized in a hierarchy. Each GO term contains the attributes `.parents` and `.children` with a *set* of GO terms that are (immediately) above or below. \n",
    "\n",
    "Create a loop that prints a list (including id and name) of all the ancestors (parents, grandparents, ...) of the GO term you just found.\n",
    "\n",
    "> Tip: this looks like a job for a recursive function (*i.e.* a function that calls itself)."
   ]
  },
  {
   "cell_type": "code",
   "execution_count": null,
   "id": "afc5c863-26e3-4b77-9373-98db4721e048",
   "metadata": {},
   "outputs": [],
   "source": [
    "# type your code here..."
   ]
  },
  {
   "cell_type": "markdown",
   "id": "8b51f445-6b0f-42e8-958f-40a57bf0aff7",
   "metadata": {},
   "source": [
    "Click below to see the solution:"
   ]
  },
  {
   "cell_type": "code",
   "execution_count": null,
   "id": "3ee83335-1d29-4e8b-805a-871c870ff2f5",
   "metadata": {
    "jupyter": {
     "source_hidden": true
    },
    "tags": []
   },
   "outputs": [],
   "source": [
    "\n",
    "def get_parents(go_term, indent=0):\n",
    "    # indent is just a visual aid, you can ignore that\n",
    "    spacing = ' '*14*indent\n",
    "    \n",
    "    for parent in go_term.parents:\n",
    "        print(f\"{spacing}{go_term.id} -> {parent.id}: {parent.name}\")\n",
    "        get_parents(parent, indent+1)\n",
    "\n",
    "go = go_terms['GO:0003872']\n",
    "get_parents(go)"
   ]
  },
  {
   "cell_type": "markdown",
   "id": "8f6d9bab-66d8-4686-acf1-87ea40100468",
   "metadata": {},
   "source": [
    "### 2.3\n",
    "\n",
    "Inspect the tree of your term in [QuickGO](https://www.ebi.ac.uk/QuickGO/) to confirm that you got all the correct terms. \n",
    "\n",
    "- 🤔 Did you get a similar tree ?  \n",
    "- 🧠 What is the main difference ?"
   ]
  },
  {
   "cell_type": "markdown",
   "id": "5ea2e02e-5dff-4f95-b0d0-ca79777ca1b2",
   "metadata": {},
   "source": [
    "## Wrap-up\n",
    "\n",
    "This session was mostly to practice some Python skills. If you got stuck in an exercise, just ask for help. Or, if you found the exercises too simple, maybe *you* can help someone. 😉"
   ]
  }
 ],
 "metadata": {
  "kernelspec": {
   "display_name": "Python 3 (ipykernel)",
   "language": "python",
   "name": "python3"
  },
  "language_info": {
   "codemirror_mode": {
    "name": "ipython",
    "version": 3
   },
   "file_extension": ".py",
   "mimetype": "text/x-python",
   "name": "python",
   "nbconvert_exporter": "python",
   "pygments_lexer": "ipython3",
   "version": "3.12.0"
  },
  "vscode": {
   "interpreter": {
    "hash": "9f894c7364278704108a83365f2f09f6b409d9aa4f470696e61cf208042e86d6"
   }
  }
 },
 "nbformat": 4,
 "nbformat_minor": 5
}
