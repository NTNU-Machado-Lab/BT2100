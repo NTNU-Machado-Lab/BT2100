{
 "cells": [
  {
   "cell_type": "markdown",
   "id": "e27a9e3a-0db2-4032-a4a7-523d2881b81c",
   "metadata": {},
   "source": [
    "# Lecture 4 - Sequence alignment"
   ]
  },
  {
   "cell_type": "markdown",
   "id": "158381b5-ec07-4fb6-900d-c8edf9535290",
   "metadata": {},
   "source": [
    "In this tutorial we will learn how to align nucleotide and protein sequences against each other (pairwise alignment) or against a sequence database. \n",
    "\n",
    "We will use the popular NCBI BLAST: https://blast.ncbi.nlm.nih.gov/"
   ]
  },
  {
   "cell_type": "markdown",
   "id": "7df6ffb2-f68c-4d91-8637-bcbcb4d3d5d5",
   "metadata": {},
   "source": [
    "## Exercise 1: Pairwise alignment\n",
    "\n",
    "Let's start by loading a protein sequence from a fasta file. This is the sequence of protein [P21880](https://www.uniprot.org/uniprot/P21880) from UniProt."
   ]
  },
  {
   "cell_type": "code",
   "execution_count": null,
   "id": "c068337e-3b0c-4d63-a92a-bc80dd7c7120",
   "metadata": {},
   "outputs": [],
   "source": [
    "from Bio import SeqIO\n",
    "\n",
    "protein = SeqIO.read('files/P21880.faa', 'fasta')\n",
    "\n",
    "print('> original', protein.seq, sep='\\n')"
   ]
  },
  {
   "cell_type": "markdown",
   "id": "b5cd486c-eadc-45b9-9334-90fe633fcd92",
   "metadata": {},
   "source": [
    "### Exercise 1.1\n",
    "\n",
    "Let's introduce some random mutations to this protein..."
   ]
  },
  {
   "cell_type": "code",
   "execution_count": null,
   "id": "3d299259-f73b-4489-b5db-bd11421d055a",
   "metadata": {},
   "outputs": [],
   "source": [
    "from random import randint\n",
    "\n",
    "def random_AA():\n",
    "    \"\"\" Generate one random amino acid. \"\"\"\n",
    "    \n",
    "    AAs = 'ACDEFGHIKLMNPQRSTVWY'\n",
    "    return AAs[randint(0, 19)]\n",
    "\n",
    "def mutate_protein(seq, n=1):\n",
    "    \"\"\" Randomly mutate a sequence N times \"\"\"\n",
    "    \n",
    "    seq = list(seq)\n",
    "    \n",
    "    for i in range(n):\n",
    "        seq[randint(0, len(seq)-1)] = random_AA()\n",
    "        \n",
    "    return ''.join(seq)\n",
    "\n",
    "mutant = mutate_protein(protein.seq, 10)\n",
    "\n",
    "print('> mutant', mutant, sep='\\n')"
   ]
  },
  {
   "attachments": {},
   "cell_type": "markdown",
   "id": "ae44012b-f3d6-4344-a70f-0f525bd71fc6",
   "metadata": {},
   "source": [
    "Go to [NCBI BLAST](https://blast.ncbi.nlm.nih.gov/) and:\n",
    "\n",
    "- Enter the sequence of the mutant protein under **Query Sequence**\n",
    "- Select *Align two or more sequences*\n",
    "- Enter the sequence of the original protein under **Subject Sequence**\n",
    "- Run BLAST and wait for result\n",
    "- Go to *Alignments* and select view: *Pairwise with dots for identities*\n",
    "- Can you find all the 10 mutations?\n"
   ]
  },
  {
   "cell_type": "markdown",
   "id": "a6c7fe7b-1894-45d1-8492-0654aadd0be3",
   "metadata": {},
   "source": [
    "-------\n",
    "\n",
    "### Exercise 1.2\n",
    "\n",
    "You could see that despite those mutations the two sequences still align quite well.\n",
    "\n",
    "Let's see now what happens when we also mutate the sequence by randomly adding and removing short streches of amino acids."
   ]
  },
  {
   "cell_type": "code",
   "execution_count": null,
   "id": "9c357790-62e9-4b2d-a781-53ba96507018",
   "metadata": {},
   "outputs": [],
   "source": [
    "def delete_chunks(seq, size=1):\n",
    "    seq = list(seq) \n",
    "    p = randint(0, len(seq)-size)\n",
    "    seq = seq[:p] + seq[p+size:]\n",
    "    return ''.join(seq)\n",
    "\n",
    "\n",
    "def add_chunks(seq, size=1):\n",
    "    seq = list(seq)\n",
    "    p = randint(0, len(seq)-1)\n",
    "    chunk = [random_AA() for i in range(size)]\n",
    "    seq = seq[:p] + chunk + seq[p:]\n",
    "    return ''.join(seq)\n",
    "\n",
    "mutant = mutate_protein(protein.seq, 50)\n",
    "\n",
    "for i in range(5):\n",
    "    mutant = delete_chunks(mutant, 10)\n",
    "    mutant = add_chunks(mutant, 10)\n",
    "\n",
    "print('> mutant 2')\n",
    "print(mutant)"
   ]
  },
  {
   "cell_type": "markdown",
   "id": "75c518fa-d0e9-456c-9a04-34823138bb4a",
   "metadata": {},
   "source": [
    "Go to [NCBI BLAST](https://blast.ncbi.nlm.nih.gov/) and:\n",
    "\n",
    "- Enter the sequence of mutant 2 under **Query Sequence**\n",
    "- Select *Align two or more sequences*\n",
    "- Enter the sequence of the original protein under **Target Sequence**\n",
    "- Run BLAST and wait for result\n",
    "- Go to *Alignments* -> can you find all the added and deleted stretches?\n",
    "- Go to *Dot Plot* -> can you distinguish the locations of added and deleted stretches ?"
   ]
  },
  {
   "cell_type": "markdown",
   "id": "25f8afe2-425f-4fc6-963c-b5223474e661",
   "metadata": {},
   "source": [
    "-------\n",
    "\n",
    "## Exercise 2: Database alignment"
   ]
  },
  {
   "cell_type": "markdown",
   "id": "02c9d07f-934e-4d57-bd1b-f6f8de4431b0",
   "metadata": {},
   "source": [
    "Instead of simply aligning two sequences, you can try to align a sequence against all known protein sequences available in a given database. This is how we discover the function of unknown sequences."
   ]
  },
  {
   "cell_type": "markdown",
   "id": "2e40b37c-f12c-4a3b-b549-5eb8eb24c605",
   "metadata": {},
   "source": [
    "### Exercise 2.1:\n",
    "\n",
    "Go to [NCBI BLAST](https://blast.ncbi.nlm.nih.gov/) and:\n",
    "\n",
    "- Enter the sequence of mutant 2 under **Query Sequence**\n",
    "- Do *NOT* select *Align two or more sequences*\n",
    "- Change the database to UniProtKB/SwissProt\n",
    "- Run BLAST and wait for result (this could take some time)\n",
    "- Can you identify the name and function of this protein ?"
   ]
  },
  {
   "cell_type": "markdown",
   "id": "225f3d04-d1b1-4f01-b68f-7b0f69734135",
   "metadata": {},
   "source": [
    "### Exercise 2.2:\n",
    "\n",
    "As you could see, the sequence above was easy to match to existing sequences. Let's try to mutate it even further..."
   ]
  },
  {
   "cell_type": "code",
   "execution_count": null,
   "id": "5224e68d-19bc-4a3c-b5df-bda708a5ddb3",
   "metadata": {},
   "outputs": [],
   "source": [
    "mutant = mutate_protein(protein.seq, 100)\n",
    "\n",
    "for i in range(10):\n",
    "    mutant = delete_chunks(mutant, 10)\n",
    "    mutant = add_chunks(mutant, 5)\n",
    "    \n",
    "print('> mutant 3')\n",
    "print(mutant)"
   ]
  },
  {
   "cell_type": "markdown",
   "id": "acf1ed36-2e4e-4222-9601-074acf337a15",
   "metadata": {},
   "source": [
    "Go to [NCBI BLAST](https://blast.ncbi.nlm.nih.gov/) and:\n",
    "\n",
    "- Enter the sequence of mutant 3 under **Query Sequence**\n",
    "- Do *NOT* select *Align two or more sequences*\n",
    "- Change the database to UniProtKB/SwissProt\n",
    "- Run BLAST and wait for result (this could take some time)\n",
    "- Can you see a difference in alignment scores and E-values compared to mutant 2 ?"
   ]
  },
  {
   "cell_type": "markdown",
   "id": "220a6064-625f-49f6-ba2d-7ca07abb519c",
   "metadata": {},
   "source": [
    "### Exercise 2.3:\n",
    "\n",
    "What happens if we take this even further? Let's build an entirely fake protein with a randomly generated sequence..."
   ]
  },
  {
   "cell_type": "code",
   "execution_count": null,
   "id": "75941426-e6df-4397-bc1b-07c50ece91fb",
   "metadata": {},
   "outputs": [],
   "source": [
    "def random_protein(size):\n",
    "    seq = [random_AA() for i in range(size)]\n",
    "    return ''.join(seq)\n",
    "\n",
    "protein = random_protein(100)\n",
    "print('> fake protein')\n",
    "print(protein)"
   ]
  },
  {
   "cell_type": "markdown",
   "id": "3bcbf987-8ab4-4d84-ad66-713cf0bf0721",
   "metadata": {},
   "source": [
    "Go to [NCBI BLAST](https://blast.ncbi.nlm.nih.gov/) and:\n",
    "\n",
    "- Enter the sequence of the *fake protein* under **Query Sequence**\n",
    "- Do *NOT* select *Align two or more sequences*\n",
    "- Change the database to UniProtKB/SwissProt\n",
    "- Go to *Algorithm parameters* and change *Expected threshold* to **100**.\n",
    "- Run BLAST and wait for result (this could take some time)\n",
    "- Go to graphic summary to see an overview of all alignments\n",
    "\n",
    "Notes:\n",
    "\n",
    "- Repeat this exercise selecting different databases\n",
    "- If you don't get any matches try generating a new fake protein"
   ]
  },
  {
   "cell_type": "code",
   "execution_count": null,
   "id": "e877d970-2c6f-453d-a867-ce84b07183d4",
   "metadata": {},
   "outputs": [],
   "source": []
  }
 ],
 "metadata": {
  "kernelspec": {
   "display_name": "bt2100",
   "language": "python",
   "name": "python3"
  },
  "language_info": {
   "codemirror_mode": {
    "name": "ipython",
    "version": 3
   },
   "file_extension": ".py",
   "mimetype": "text/x-python",
   "name": "python",
   "nbconvert_exporter": "python",
   "pygments_lexer": "ipython3",
   "version": "3.11.0"
  },
  "vscode": {
   "interpreter": {
    "hash": "9f894c7364278704108a83365f2f09f6b409d9aa4f470696e61cf208042e86d6"
   }
  }
 },
 "nbformat": 4,
 "nbformat_minor": 5
}
