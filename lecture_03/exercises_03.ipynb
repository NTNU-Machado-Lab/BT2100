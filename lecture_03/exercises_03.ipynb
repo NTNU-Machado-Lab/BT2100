{
 "cells": [
  {
   "cell_type": "markdown",
   "id": "e27a9e3a-0db2-4032-a4a7-523d2881b81c",
   "metadata": {},
   "source": [
    "# Lecture 3 - From sequences to genes"
   ]
  },
  {
   "cell_type": "markdown",
   "id": "158381b5-ec07-4fb6-900d-c8edf9535290",
   "metadata": {},
   "source": [
    "In the previous lecture, you learned how to assemble raw sequencing data into *contigs* (longer fragments of a chromosome). In this session, you will learn how to identify the coding regions of the genome, also called ORFs (*open reading frames*), which enconde for individual gene sequences. \n",
    "\n",
    "## Learning objectives:\n",
    "\n",
    "- Learn to find open reading frames in a genome assembly\n",
    "- Loading and handling sequence data with Biopython"
   ]
  },
  {
   "cell_type": "markdown",
   "id": "bed2eaca-dd48-4222-a482-0307912a81c3",
   "metadata": {},
   "source": [
    "## Exercise 1 - Gene prediction with Prodigal:\n",
    "\n",
    "Here, we will use a popular gene prediction method called [**Prodigal**](https://bmcbioinformatics.biomedcentral.com/articles/10.1186/1471-2105-11-119). \n",
    "\n",
    "> Note: before proceeding with the exercises, always open the links (like the one above) to become more familiar with the tools/methods we are working with."
   ]
  },
  {
   "cell_type": "markdown",
   "id": "eb9ab304-6d62-4f4f-9038-11a4f9b9e21a",
   "metadata": {},
   "source": [
    "### Option 1:\n",
    "\n",
    "Just like we did in the previous lecture, we will explore two options for this exercise. The first (and recommended) option is to run it directly from the command line. If everything is installed correctly you should have [**Pyrodigal**](https://pyrodigal.readthedocs.io/en/stable/) (a python implementation of Prodigal) already available. \n",
    "\n",
    "Let's test it:"
   ]
  },
  {
   "cell_type": "code",
   "execution_count": null,
   "id": "9b2ddac8-3633-4d8a-9a4f-52bbf4f38800",
   "metadata": {},
   "outputs": [],
   "source": [
    "!pyrodigal -h"
   ]
  },
  {
   "cell_type": "markdown",
   "id": "111e9474-e308-4038-8dd2-924a9e623749",
   "metadata": {},
   "source": [
    "Now lets run it using as input (`-i` flag) the contigs FASTA file that we assembled in the previous lecture:"
   ]
  },
  {
   "cell_type": "code",
   "execution_count": null,
   "id": "375a82c2-04a8-47f8-bf21-ce316b570c71",
   "metadata": {
    "tags": []
   },
   "outputs": [],
   "source": [
    "!pyrodigal -i files/input/contigs.fasta \\\n",
    "           -o files/output/ORFs.gbk     \\\n",
    "           -d files/output/ORFs.ffn     \\\n",
    "           -a files/output/ORFs.faa"
   ]
  },
  {
   "cell_type": "markdown",
   "id": "6c95a088-eaeb-4566-bcf4-33aa73427549",
   "metadata": {},
   "source": [
    "If everything went well you will now find several files. One of them is a FASTA file with the DNA sequence of the ORFs. \n",
    "\n",
    "We will use the linux `head` command to print the first 20 lines of the file:"
   ]
  },
  {
   "cell_type": "code",
   "execution_count": null,
   "id": "f1772f05-1779-4e21-95fc-1a2abc710565",
   "metadata": {},
   "outputs": [],
   "source": [
    "!head -20 files/output/ORFs.ffn"
   ]
  },
  {
   "cell_type": "markdown",
   "id": "4cf4545d",
   "metadata": {},
   "source": [
    "You can also find another FASTA file with the translated amino acid sequence of the ORFs:"
   ]
  },
  {
   "cell_type": "code",
   "execution_count": null,
   "id": "1b1081b7",
   "metadata": {},
   "outputs": [],
   "source": [
    "!head -10 files/output/ORFs.faa"
   ]
  },
  {
   "cell_type": "markdown",
   "id": "f8c89c72-3f1c-4364-bae3-c37854421e62",
   "metadata": {},
   "source": [
    "### Option 2: Using Galaxy\n",
    "\n",
    "Here we use [**Prokka**](https://academic.oup.com/bioinformatics/article/30/14/2068/2390517), a genome annotation tool available in **Galaxy** (that uses **Prodigal** under the hood) to find and *annotate*(*) genes in a genome. \n",
    "\n",
    "- Go to [usegalaxy.no](https://usegalaxy.no/) and login with your FEIDE credentials\n",
    "- Download file `files/input/contigs.fasta` and upload it in Galaxy\n",
    "- Search for `prokka` in the tools menu and open the main dialog\n",
    "- Under **Contigs to annotate** select the file you just uploaded \n",
    "- Select the option **--compliant**\n",
    "- Scroll down and click **Execute** (this will take several minutes)\n",
    "- Explore the different output files that were generated\n",
    "- Download the file with `.ffn` extension\n",
    "\n",
    "(*) We will discuss *gene annotation* in the next lecture."
   ]
  },
  {
   "cell_type": "markdown",
   "id": "52096000-c0db-42fc-b63d-394ae3313e56",
   "metadata": {},
   "source": [
    "## Exercise 2 - Biopython"
   ]
  },
  {
   "cell_type": "markdown",
   "id": "d469b5ce-104e-47d5-9e7b-15c8019939fd",
   "metadata": {},
   "source": [
    "Let's start by reading the generated file that contains the predicted gene sequences in FASTA format (and we will also load the original *contigs* for comparison).\n",
    "\n",
    "We will again use the [**Biopython**](https://biopython.org/) library we used in the previous lecture:"
   ]
  },
  {
   "cell_type": "code",
   "execution_count": null,
   "id": "35215616-e4b8-491c-b8a2-e31e7af9a85a",
   "metadata": {},
   "outputs": [],
   "source": [
    "from Bio import SeqIO\n",
    "\n",
    "contigs = list(SeqIO.parse('files/input/contigs.fasta', 'fasta'))\n",
    "\n",
    "annotated = list(SeqIO.parse('files/output/ORFs.ffn', 'fasta'))"
   ]
  },
  {
   "cell_type": "markdown",
   "id": "2fda5bcd-a8cb-48d9-bda9-1af67df5c4ad",
   "metadata": {},
   "source": [
    "Let's check how many genes where predicted:"
   ]
  },
  {
   "cell_type": "code",
   "execution_count": null,
   "id": "aaf4396e-dee7-46af-a414-281bd6061910",
   "metadata": {},
   "outputs": [],
   "source": [
    "len(annotated)"
   ]
  },
  {
   "cell_type": "markdown",
   "id": "dd10e461-0e0e-4d8a-8b08-f0e071718581",
   "metadata": {},
   "source": [
    "> 🧠 Does this correspond to the number of genes reported for this species (*M. pneumoniae*) ? "
   ]
  },
  {
   "cell_type": "markdown",
   "id": "5f53f60e-bbdb-4ea8-80dd-ba85d7a9c119",
   "metadata": {},
   "source": [
    "And now let's see what the first five genes looks like:"
   ]
  },
  {
   "cell_type": "code",
   "execution_count": null,
   "id": "df961335-af66-4b22-811e-1837e2273e83",
   "metadata": {},
   "outputs": [],
   "source": [
    "for seq in annotated[:5]:\n",
    "    print(seq)\n",
    "    print()"
   ]
  },
  {
   "cell_type": "markdown",
   "id": "316bb981-0cf6-456b-a72d-c74575f16af5",
   "metadata": {},
   "source": [
    "🤔 Does this output look a bit strange? \n",
    "\n",
    "That's because Biopython loads every entry in a FASTA file as a **SeqRecord** object, which contains not only the gene sequence,\n",
    "but additional information extracted from the header line of each entry. \n",
    "\n",
    "> Before proceeding with the exercise, take a moment to get\n",
    "familiar with the [documentation of the **SeqRecord** class](https://biopython.org/wiki/SeqRecord). "
   ]
  },
  {
   "cell_type": "markdown",
   "id": "b62ab1a3-1d00-4735-bc49-3b498c5d8fdc",
   "metadata": {},
   "source": [
    "### Exercise 2.1\n",
    "\n",
    "We mentioned in the lecture that, contrary to eukaryotes, prokaryotes have high *coding density* (most of their genome encodes for genes). \n",
    "\n",
    "Estimate the *coding density* of the assembled genome.\n",
    "\n",
    "> Tip: divide the total length of the coding regions by the total length of the contigs."
   ]
  },
  {
   "cell_type": "code",
   "execution_count": null,
   "id": "126e7088-91b5-462c-8a4f-aec6ef91c6e0",
   "metadata": {},
   "outputs": [],
   "source": [
    "# type your code here..."
   ]
  },
  {
   "cell_type": "markdown",
   "id": "7c9c20ab-f1fe-4ab3-a14c-c8eeb51f8d3f",
   "metadata": {},
   "source": [
    "Solution (click to expand):"
   ]
  },
  {
   "cell_type": "code",
   "execution_count": null,
   "id": "eaef63dc-2898-48a0-a21c-5add111174a8",
   "metadata": {
    "jupyter": {
     "source_hidden": true
    },
    "tags": []
   },
   "outputs": [],
   "source": [
    "\n",
    "coding = sum(len(seq) for seq in annotated)\n",
    "total = sum(len(contig) for contig in contigs)\n",
    "density = coding / total\n",
    "\n",
    "print(f'Coding density: {density:.1%}')"
   ]
  },
  {
   "cell_type": "markdown",
   "id": "66c2404a-de01-4da4-8b25-4b8c0f346db9",
   "metadata": {
    "tags": []
   },
   "source": [
    "### Exercise 2.2\n",
    "\n",
    "When running **Prodigal**, we used the `-a` option to translate the ORFs into amino acid sequences and generated a protein fasta file. \n",
    "\n",
    "But we can also use **Biopython**'s [*translate()*](https://biopython.org/docs/1.75/api/Bio.Seq.html#Bio.Seq.Seq.translate) method to translate individual nucleotide sequences.\n",
    "\n",
    "Try to translate the first sequence record in the file."
   ]
  },
  {
   "cell_type": "code",
   "execution_count": null,
   "id": "c9d33ccf-34f0-4df6-995e-fdfa244bbf48",
   "metadata": {},
   "outputs": [],
   "source": [
    "# type your code here..."
   ]
  },
  {
   "cell_type": "markdown",
   "id": "ea6bd2de-b092-47c6-b06b-4d946ff40461",
   "metadata": {},
   "source": [
    "Solution (click to expand):"
   ]
  },
  {
   "cell_type": "code",
   "execution_count": null,
   "id": "bef54c78-0009-42ce-b904-99b9aca580c9",
   "metadata": {
    "jupyter": {
     "source_hidden": true
    },
    "tags": []
   },
   "outputs": [],
   "source": [
    "\n",
    "gene = annotated[0]\n",
    "\n",
    "#option 1 (apply translate to the SeqRecord object)\n",
    "protein_record = gene.translate()\n",
    "print(protein_record.seq)\n",
    "\n",
    "#option 2 (apply translate to the Seq object)\n",
    "protein = gene.seq.translate()\n",
    "print(protein)\n"
   ]
  },
  {
   "cell_type": "markdown",
   "id": "72fe6380",
   "metadata": {},
   "source": [
    "Compare this result with the first entry of the [translated fasta file](files/output/ORFs.faa). Is the output the same?\n",
    "\n",
    "> If only the first amino acid is different, [here is an explanation](https://www.biostars.org/p/364080/)."
   ]
  },
  {
   "cell_type": "markdown",
   "id": "2c44b9e3-da3c-448d-900f-283031fb6454",
   "metadata": {},
   "source": [
    "### Exercise 2.3:\n",
    "\n",
    "A *frameshift* is a type of mutation where a portion of DNA (with a length that is not a multiple of 3) \n",
    "gets deleted or inserted and changes the codon reading frame.\n",
    "\n",
    "Remove the first (and then also the second) nucleotide of the gene you just translated, and then try translating it again. \n",
    "\n",
    "How do the protein sequence(s) look like?"
   ]
  },
  {
   "cell_type": "code",
   "execution_count": null,
   "id": "3c316dd5-d692-4ffd-aec4-806e2c5787d8",
   "metadata": {},
   "outputs": [],
   "source": [
    "# type your code here..."
   ]
  },
  {
   "cell_type": "markdown",
   "id": "f13a6672-d04c-417c-9d82-f4fd2b644361",
   "metadata": {},
   "source": [
    "Solution (click to expand):"
   ]
  },
  {
   "cell_type": "code",
   "execution_count": null,
   "id": "5492c1c4-3e70-40c5-8726-b97a790db9d7",
   "metadata": {
    "jupyter": {
     "source_hidden": true
    },
    "tags": []
   },
   "outputs": [],
   "source": [
    "\n",
    "gene = annotated[0]\n",
    "\n",
    "frameshift1 = gene.seq[1:]\n",
    "frameshift2 = gene.seq[2:]\n",
    "\n",
    "protein1 = frameshift1.translate()\n",
    "protein2 = frameshift2.translate()\n",
    "\n",
    "print(protein1)\n",
    "print(protein2)"
   ]
  },
  {
   "cell_type": "markdown",
   "id": "e17605a6",
   "metadata": {},
   "source": [
    "> 🧠 What would happen if the cell tried to translate these sequences? "
   ]
  },
  {
   "cell_type": "markdown",
   "id": "b4750dda",
   "metadata": {},
   "source": [
    "## Wrap-up\n",
    "\n",
    "You should now be comfortable using Biopython to load a FASTA file and doing basic operations such as counting, printing, and modifying sequences.\n",
    "\n",
    "Finished early? Consider walking around the room and helping a colleague... 😉"
   ]
  }
 ],
 "metadata": {
  "kernelspec": {
   "display_name": "Python 3 (ipykernel)",
   "language": "python",
   "name": "python3"
  },
  "language_info": {
   "codemirror_mode": {
    "name": "ipython",
    "version": 3
   },
   "file_extension": ".py",
   "mimetype": "text/x-python",
   "name": "python",
   "nbconvert_exporter": "python",
   "pygments_lexer": "ipython3",
   "version": "3.11.6"
  },
  "vscode": {
   "interpreter": {
    "hash": "9f894c7364278704108a83365f2f09f6b409d9aa4f470696e61cf208042e86d6"
   }
  }
 },
 "nbformat": 4,
 "nbformat_minor": 5
}
