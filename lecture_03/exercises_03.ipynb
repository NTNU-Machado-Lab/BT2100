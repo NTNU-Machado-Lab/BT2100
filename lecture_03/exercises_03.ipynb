{
 "cells": [
  {
   "cell_type": "markdown",
   "id": "e27a9e3a-0db2-4032-a4a7-523d2881b81c",
   "metadata": {},
   "source": [
    "# Lecture 3 - From sequences to genes"
   ]
  },
  {
   "cell_type": "markdown",
   "id": "158381b5-ec07-4fb6-900d-c8edf9535290",
   "metadata": {},
   "source": [
    "In the previous lecture, you learned how to assemble raw sequencing data into contigs (*i.e. longer DNA sequences*). Now, you will learn how to find genes present in those sequences. "
   ]
  },
  {
   "attachments": {},
   "cell_type": "markdown",
   "id": "bed2eaca-dd48-4222-a482-0307912a81c3",
   "metadata": {},
   "source": [
    "## Exercise 1 - Gene prediction with Prokka/Prodigal:\n",
    "\n",
    "In this exercise we will use a genome annotation called [Prokka](https://academic.oup.com/bioinformatics/article/30/14/2068/2390517), which uses a gene prediction method called [Prodigal](https://bmcbioinformatics.biomedcentral.com/articles/10.1186/1471-2105-11-119). \n",
    "\n",
    "> As in the previous lecture, you can try one of two options for running Prokka/Prodigal:"
   ]
  },
  {
   "attachments": {},
   "cell_type": "markdown",
   "id": "ed8eaf34-d85b-460a-b4ee-186ce2ae7d58",
   "metadata": {},
   "source": [
    "### Option 1: Using the command line\n",
    "\n",
    "Run the commands bellow to install **Prodigal** and confirm that it was correctly installed:"
   ]
  },
  {
   "cell_type": "code",
   "execution_count": null,
   "id": "d4f51d85-8180-4954-b5f4-921ec41dd2f6",
   "metadata": {},
   "outputs": [],
   "source": [
    "!conda install -c bioconda -y prodigal"
   ]
  },
  {
   "cell_type": "code",
   "execution_count": null,
   "id": "cf943375-cc89-4d1c-b755-2fa248a7b032",
   "metadata": {},
   "outputs": [],
   "source": [
    "!prodigal -v"
   ]
  },
  {
   "attachments": {},
   "cell_type": "markdown",
   "id": "eb9ab304-6d62-4f4f-9038-11a4f9b9e21a",
   "metadata": {},
   "source": [
    "Now let's run **Prodigal** to find *open reading frames* (ORFs) in our assembled contigs."
   ]
  },
  {
   "cell_type": "code",
   "execution_count": null,
   "id": "375a82c2-04a8-47f8-bf21-ce316b570c71",
   "metadata": {
    "tags": []
   },
   "outputs": [],
   "source": [
    "!prodigal -i files/input/contigs.fasta -o files/output/ORFs.gbk -d files/output/ORFs.ffn -a files/output/ORFs.faa "
   ]
  },
  {
   "attachments": {},
   "cell_type": "markdown",
   "id": "6c95a088-eaeb-4566-bcf4-33aa73427549",
   "metadata": {},
   "source": [
    "If everything went well you will now find several files. One of them is a FASTA file with the DNA sequence of the ORFs:"
   ]
  },
  {
   "cell_type": "code",
   "execution_count": null,
   "id": "f1772f05-1779-4e21-95fc-1a2abc710565",
   "metadata": {},
   "outputs": [],
   "source": [
    "!head -20 files/output/ORFs.ffn"
   ]
  },
  {
   "attachments": {},
   "cell_type": "markdown",
   "id": "4cf4545d",
   "metadata": {},
   "source": [
    "You can also find another FASTA file with the translated amino acid sequence of the ORFs:"
   ]
  },
  {
   "cell_type": "code",
   "execution_count": null,
   "id": "1b1081b7",
   "metadata": {},
   "outputs": [],
   "source": [
    "!head -10 files/output/ORFs.faa"
   ]
  },
  {
   "attachments": {},
   "cell_type": "markdown",
   "id": "f8c89c72-3f1c-4364-bae3-c37854421e62",
   "metadata": {},
   "source": [
    "### Option 2: Using Galaxy\n",
    "\n",
    "- Go to [usegalaxy.no](https://usegalaxy.no/) and login with your FEIDE credentials\n",
    "- Download file `files/input/contigs.fasta` and upload it in Galaxy\n",
    "- Search for `prokka` in the tools menu and open the main dialog\n",
    "- Under **Contigs to annotate** select the file you just uploaded \n",
    "- Select the option **--compliant**\n",
    "- Scroll down and click **Execute** (this will take several minutes)\n",
    "- Explore the different output files that were generated\n",
    "- Download the file with `.ffn` extension"
   ]
  },
  {
   "cell_type": "markdown",
   "id": "52096000-c0db-42fc-b63d-394ae3313e56",
   "metadata": {},
   "source": [
    "## Exercise 2 - Biopython"
   ]
  },
  {
   "cell_type": "markdown",
   "id": "d469b5ce-104e-47d5-9e7b-15c8019939fd",
   "metadata": {},
   "source": [
    "Let's start by reading the one of the generated files that contains the predicted gene sequences in fasta format. We will also load the original contigs file for comparison."
   ]
  },
  {
   "cell_type": "code",
   "execution_count": null,
   "id": "35215616-e4b8-491c-b8a2-e31e7af9a85a",
   "metadata": {},
   "outputs": [],
   "source": [
    "from Bio import SeqIO\n",
    "\n",
    "contigs = list(SeqIO.parse('files/input/contigs.fasta', 'fasta'))\n",
    "\n",
    "annotated = list(SeqIO.parse('files/output/ORFs.ffn', 'fasta'))"
   ]
  },
  {
   "cell_type": "markdown",
   "id": "2fda5bcd-a8cb-48d9-bda9-1af67df5c4ad",
   "metadata": {},
   "source": [
    "Let's check how many genes where predicted:"
   ]
  },
  {
   "cell_type": "code",
   "execution_count": null,
   "id": "aaf4396e-dee7-46af-a414-281bd6061910",
   "metadata": {},
   "outputs": [],
   "source": [
    "len(annotated)"
   ]
  },
  {
   "cell_type": "markdown",
   "id": "5f53f60e-bbdb-4ea8-80dd-ba85d7a9c119",
   "metadata": {},
   "source": [
    "And how the first five genes looks like:"
   ]
  },
  {
   "cell_type": "code",
   "execution_count": null,
   "id": "df961335-af66-4b22-811e-1837e2273e83",
   "metadata": {},
   "outputs": [],
   "source": [
    "for seq in annotated[:5]:\n",
    "    print(seq)\n",
    "    print()"
   ]
  },
  {
   "cell_type": "markdown",
   "id": "b62ab1a3-1d00-4735-bc49-3b498c5d8fdc",
   "metadata": {},
   "source": [
    "### Exercise 2.1\n",
    "\n",
    "Estimate the coding density of the given genome.\n",
    "\n",
    "> Tip: divide the total length of the coding regions by the total length of the contigs."
   ]
  },
  {
   "cell_type": "code",
   "execution_count": null,
   "id": "126e7088-91b5-462c-8a4f-aec6ef91c6e0",
   "metadata": {},
   "outputs": [],
   "source": [
    "# type your code here..."
   ]
  },
  {
   "cell_type": "markdown",
   "id": "7c9c20ab-f1fe-4ab3-a14c-c8eeb51f8d3f",
   "metadata": {},
   "source": [
    "Solution (click to expand):"
   ]
  },
  {
   "cell_type": "code",
   "execution_count": null,
   "id": "eaef63dc-2898-48a0-a21c-5add111174a8",
   "metadata": {
    "jupyter": {
     "source_hidden": true
    },
    "tags": []
   },
   "outputs": [],
   "source": [
    "coding = sum(len(seq) for seq in annotated)\n",
    "total = sum(len(contig) for contig in contigs)\n",
    "density = coding / total\n",
    "\n",
    "print(f'Coding density: {density:.1%}')"
   ]
  },
  {
   "cell_type": "markdown",
   "id": "66c2404a-de01-4da4-8b25-4b8c0f346db9",
   "metadata": {
    "tags": []
   },
   "source": [
    "### Exercise 2.2\n",
    "\n",
    "Use the `translate()` method to translate the first gene sequence to a protein sequence."
   ]
  },
  {
   "cell_type": "code",
   "execution_count": null,
   "id": "c9d33ccf-34f0-4df6-995e-fdfa244bbf48",
   "metadata": {},
   "outputs": [],
   "source": [
    "# type your code here..."
   ]
  },
  {
   "cell_type": "markdown",
   "id": "ea6bd2de-b092-47c6-b06b-4d946ff40461",
   "metadata": {},
   "source": [
    "Solution (click to expand):"
   ]
  },
  {
   "cell_type": "code",
   "execution_count": null,
   "id": "bef54c78-0009-42ce-b904-99b9aca580c9",
   "metadata": {
    "jupyter": {
     "source_hidden": true
    },
    "tags": []
   },
   "outputs": [],
   "source": [
    "gene = annotated[0]\n",
    "protein = gene.seq.translate()\n",
    "print(protein)"
   ]
  },
  {
   "attachments": {},
   "cell_type": "markdown",
   "id": "72fe6380",
   "metadata": {},
   "source": [
    "Compare this result with the first entry of the [translated fasta file](files/output/ORFs.faa). Is the output the same?\n",
    "\n",
    "> If only the first amino acid is different, [here is an explanation](https://www.biostars.org/p/364080/)."
   ]
  },
  {
   "cell_type": "markdown",
   "id": "2c44b9e3-da3c-448d-900f-283031fb6454",
   "metadata": {},
   "source": [
    "### Exercise 2.3:\n",
    "\n",
    "A frameshift is a kind of mutation where a portion of DNA (with a length that is not a multiple of 3) \n",
    "gets deleted or inserted and changes the codon reading frame.\n",
    "\n",
    "Remove the first (and then also the second) nucleotide of the gene you just translated. \n",
    "\n",
    "How do the protein sequence(s) look like?"
   ]
  },
  {
   "cell_type": "code",
   "execution_count": null,
   "id": "3c316dd5-d692-4ffd-aec4-806e2c5787d8",
   "metadata": {},
   "outputs": [],
   "source": [
    "# type your code here..."
   ]
  },
  {
   "cell_type": "markdown",
   "id": "f13a6672-d04c-417c-9d82-f4fd2b644361",
   "metadata": {},
   "source": [
    "Solution (click to expand):"
   ]
  },
  {
   "cell_type": "code",
   "execution_count": null,
   "id": "5492c1c4-3e70-40c5-8726-b97a790db9d7",
   "metadata": {
    "jupyter": {
     "source_hidden": true
    },
    "tags": []
   },
   "outputs": [],
   "source": [
    "gene = annotated[0]\n",
    "\n",
    "frameshift1 = gene.seq[1:]\n",
    "frameshift2 = gene.seq[2:]\n",
    "\n",
    "protein1 = frameshift1.translate()\n",
    "protein2 = frameshift2.translate()\n",
    "\n",
    "print(protein1)\n",
    "print(protein2)"
   ]
  },
  {
   "attachments": {},
   "cell_type": "markdown",
   "id": "e17605a6",
   "metadata": {},
   "source": [
    "Great job :)"
   ]
  },
  {
   "cell_type": "markdown",
   "id": "b4750dda",
   "metadata": {},
   "source": []
  }
 ],
 "metadata": {
  "kernelspec": {
   "display_name": "bt2100",
   "language": "python",
   "name": "python3"
  },
  "language_info": {
   "codemirror_mode": {
    "name": "ipython",
    "version": 3
   },
   "file_extension": ".py",
   "mimetype": "text/x-python",
   "name": "python",
   "nbconvert_exporter": "python",
   "pygments_lexer": "ipython3",
   "version": "3.11.0 | packaged by conda-forge | (main, Oct 25 2022, 06:24:51) [Clang 14.0.4 ]"
  },
  "vscode": {
   "interpreter": {
    "hash": "9f894c7364278704108a83365f2f09f6b409d9aa4f470696e61cf208042e86d6"
   }
  }
 },
 "nbformat": 4,
 "nbformat_minor": 5
}
