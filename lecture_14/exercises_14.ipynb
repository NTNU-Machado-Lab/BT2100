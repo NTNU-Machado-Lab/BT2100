{
 "cells": [
  {
   "cell_type": "markdown",
   "id": "815502d1-83da-4404-b175-ea534798be9c",
   "metadata": {},
   "source": [
    "# Lecture 14 - Co-expression networks and enrichment analysis\n",
    "\n",
    "In this lecture you learned how to obtain biological insight from omics data by creating co-expression networks and performing enrichment analysis.\n",
    "\n",
    "In this tutorial we will continue to use the dataset from the previous lecture [(Lee et al, 2016)](https://www.sciencedirect.com/science/article/pii/S1550413116302480) that analysed gene expression levels of liver and adipose tissue of 12 obese patients undergoing bariatric surgery.\n",
    "\n",
    "This time we will use the *\"cleaned up\"* version of the data that we generated last time."
   ]
  },
  {
   "cell_type": "code",
   "execution_count": 1,
   "id": "9d352b03-6e8a-4e83-bc58-9923804f8416",
   "metadata": {},
   "outputs": [
    {
     "data": {
      "text/html": [
       "<div>\n",
       "<style scoped>\n",
       "    .dataframe tbody tr th:only-of-type {\n",
       "        vertical-align: middle;\n",
       "    }\n",
       "\n",
       "    .dataframe tbody tr th {\n",
       "        vertical-align: top;\n",
       "    }\n",
       "\n",
       "    .dataframe thead th {\n",
       "        text-align: right;\n",
       "    }\n",
       "</style>\n",
       "<table border=\"1\" class=\"dataframe\">\n",
       "  <thead>\n",
       "    <tr style=\"text-align: right;\">\n",
       "      <th></th>\n",
       "      <th>gene</th>\n",
       "      <th>value</th>\n",
       "      <th>patient</th>\n",
       "      <th>tissue</th>\n",
       "    </tr>\n",
       "  </thead>\n",
       "  <tbody>\n",
       "    <tr>\n",
       "      <th>156699</th>\n",
       "      <td>SGSH</td>\n",
       "      <td>34.0</td>\n",
       "      <td>1054</td>\n",
       "      <td>adipose tissue</td>\n",
       "    </tr>\n",
       "    <tr>\n",
       "      <th>94251</th>\n",
       "      <td>PYCARD</td>\n",
       "      <td>3.0</td>\n",
       "      <td>1038</td>\n",
       "      <td>liver</td>\n",
       "    </tr>\n",
       "    <tr>\n",
       "      <th>109166</th>\n",
       "      <td>TRAPPC12</td>\n",
       "      <td>12.0</td>\n",
       "      <td>1040</td>\n",
       "      <td>adipose tissue</td>\n",
       "    </tr>\n",
       "    <tr>\n",
       "      <th>21213</th>\n",
       "      <td>RRN3P3</td>\n",
       "      <td>4.0</td>\n",
       "      <td>1008</td>\n",
       "      <td>liver</td>\n",
       "    </tr>\n",
       "    <tr>\n",
       "      <th>236173</th>\n",
       "      <td>DCAF10</td>\n",
       "      <td>6.0</td>\n",
       "      <td>1061</td>\n",
       "      <td>liver</td>\n",
       "    </tr>\n",
       "  </tbody>\n",
       "</table>\n",
       "</div>"
      ],
      "text/plain": [
       "            gene  value  patient          tissue\n",
       "156699      SGSH   34.0     1054  adipose tissue\n",
       "94251     PYCARD    3.0     1038           liver\n",
       "109166  TRAPPC12   12.0     1040  adipose tissue\n",
       "21213     RRN3P3    4.0     1008           liver\n",
       "236173    DCAF10    6.0     1061           liver"
      ]
     },
     "execution_count": 1,
     "metadata": {},
     "output_type": "execute_result"
    }
   ],
   "source": [
    "import pandas as pd\n",
    "data = pd.read_csv('files/E-GEOD-83322_clean.tsv', sep='\\t')\n",
    "data.sample(5)"
   ]
  },
  {
   "cell_type": "markdown",
   "id": "6ed81baf-f28b-4bef-8833-d26d6267c6d5",
   "metadata": {},
   "source": [
    "## Exercise 1: gene co-expression networks\n",
    "\n",
    "Let's search for genes that are co-expressed across all patients on liver samples. \n",
    "\n",
    "To make our life easier, let's filter by tissue and convert the table to wide format:"
   ]
  },
  {
   "cell_type": "code",
   "execution_count": 2,
   "id": "a1f9b7a3-0645-4902-a39a-b2a5ef12ba9e",
   "metadata": {},
   "outputs": [],
   "source": [
    "df_liver = data.query('tissue == \"liver\"').pivot(index='gene', columns='patient', values='value')"
   ]
  },
  {
   "cell_type": "markdown",
   "id": "5bfaf852-2426-427f-83bc-9398e39ef6b8",
   "metadata": {},
   "source": [
    "Now iterate (twice) over all genes to calculate the Spearman correlation between every pair of genes, storing the results in the format you find most appropriate.\n",
    "\n",
    "> Note: the dataset contains **> 12k genes**, resulting in about **150 million** pairs. To make things faster, we will only use **100** (randomly selected) genes. \n",
    "\n",
    "> Also: note that we only need to compute half the number of combinations. The correlation of (gene1, gene2) is the same as that of (gene2, gene1)."
   ]
  },
  {
   "cell_type": "code",
   "execution_count": 40,
   "id": "792a0179-8dfc-4012-8afc-57aa1b386ce8",
   "metadata": {},
   "outputs": [],
   "source": [
    "from scipy.stats import spearmanr\n",
    "\n",
    "df_liver = df_liver.sample(100) # sample 100 random genes"
   ]
  },
  {
   "cell_type": "code",
   "execution_count": 27,
   "id": "dec3d6ab-35fd-4d57-b4aa-921f4c19324d",
   "metadata": {},
   "outputs": [],
   "source": [
    "# type your code here"
   ]
  },
  {
   "cell_type": "markdown",
   "id": "201960dd-da56-4978-8693-9c840574925b",
   "metadata": {},
   "source": [
    "Click below to see solution:"
   ]
  },
  {
   "cell_type": "code",
   "execution_count": 41,
   "id": "2a51527f-6903-4a2f-a999-3ba582129fa8",
   "metadata": {},
   "outputs": [
    {
     "name": "stdout",
     "output_type": "stream",
     "text": [
      "CPU times: user 4.92 s, sys: 34.5 ms, total: 4.96 s\n",
      "Wall time: 5.07 s\n"
     ]
    }
   ],
   "source": [
    "%%time  \n",
    "# this is just to print the total computation time\n",
    "\n",
    "corr = []\n",
    "for i in range(len(df_liver)):\n",
    "    for j in range(i+1, len(df_liver)):\n",
    "        gene1 = df_liver.index[i]\n",
    "        gene2 = df_liver.index[j]\n",
    "        values1 = df_liver.iloc[i,:]\n",
    "        values2 = df_liver.iloc[j,:]\n",
    "        r, p = spearmanr(values1, values2)\n",
    "        corr.append((gene1, gene2, r, p))\n",
    "        \n",
    "corr = pd.DataFrame(corr, columns=['gene1', 'gene2', 'r', 'p'])"
   ]
  },
  {
   "cell_type": "markdown",
   "id": "41c34aed-d3cf-40ee-adea-38c4f2cae522",
   "metadata": {},
   "source": [
    "Now filter only the gene pairs with an absolute correlation above 0.8, and plot the co-expression network using [Pyvis](https://pyvis.readthedocs.io/en/latest/).\n",
    "\n",
    "> Remember: you have already used Pyvis in Lecture 9, Exercise 2. You can go back and see how to use it."
   ]
  },
  {
   "cell_type": "code",
   "execution_count": 43,
   "id": "fc92f7b7-f3a5-4006-866f-1a64f4189bd8",
   "metadata": {},
   "outputs": [],
   "source": [
    "# type your code here..."
   ]
  },
  {
   "cell_type": "markdown",
   "id": "fabeb30e-31ac-4248-9945-b9296dd54c36",
   "metadata": {},
   "source": [
    "Click below to see solution:"
   ]
  },
  {
   "cell_type": "code",
   "execution_count": 42,
   "id": "53fa32b8-3194-48bf-9224-5e8d27841093",
   "metadata": {},
   "outputs": [
    {
     "data": {
      "text/html": [
       "\n",
       "        <iframe\n",
       "            width=\"500px\"\n",
       "            height=\"300px\"\n",
       "            src=\"tmp.html\"\n",
       "            frameborder=\"0\"\n",
       "            allowfullscreen\n",
       "            \n",
       "        ></iframe>\n",
       "        "
      ],
      "text/plain": [
       "<IPython.lib.display.IFrame at 0x7fc8e16020a0>"
      ]
     },
     "execution_count": 42,
     "metadata": {},
     "output_type": "execute_result"
    }
   ],
   "source": [
    "selected = corr.query(\"abs(r) > 0.8\")\n",
    "\n",
    "from pyvis.network import Network\n",
    "net = Network(directed=False, notebook=True, height='300px', width='500px')\n",
    "\n",
    "net.add_nodes(selected['gene1'])\n",
    "net.add_nodes(selected['gene2'])\n",
    "net.add_edges(selected[['gene1', 'gene2']].values)\n",
    "\n",
    "net.show('tmp.html')"
   ]
  },
  {
   "cell_type": "markdown",
   "id": "d758b497-0db9-403d-8c62-5f5e17d9387c",
   "metadata": {},
   "source": [
    "Remember that we used 100 randomly selected genes, so try running a second time with a different selection."
   ]
  },
  {
   "cell_type": "markdown",
   "id": "742a5e6e-1d32-4d7d-8503-ce0cb35f2cab",
   "metadata": {},
   "source": [
    "## Exercise 2: Gene enrichment analysis\n",
    "\n",
    "In this exercise, we will search for genes that are over or under-expressed in adipose tissue compared to liver samples.\n",
    "\n",
    "We will begin with some pandas magic to compute fold-change, p-values, and adjusted p-values (also known as q-values)."
   ]
  },
  {
   "cell_type": "code",
   "execution_count": 174,
   "id": "f9d2616b-0175-4078-ac69-6c8c373823fc",
   "metadata": {},
   "outputs": [],
   "source": [
    "df = data.pivot(index='gene', columns=['tissue','patient'], values='value').droplevel(1, axis=1)\n",
    "df['FC'] = df['adipose tissue'].mean(axis=1) / df['liver'].mean(axis=1)\n",
    "\n",
    "from scipy.stats import ttest_ind\n",
    "df['p'] = df.apply(lambda x: ttest_ind(x['liver'], x['adipose tissue'])[1], axis=1)\n",
    "\n",
    "from statsmodels.stats.multitest import fdrcorrection\n",
    "df['is_significant'], df['q'] = fdrcorrection(df['p'])"
   ]
  },
  {
   "cell_type": "markdown",
   "id": "5e0f0a16-4ff4-4dbc-887a-9684b52ad635",
   "metadata": {},
   "source": [
    "Now draw a volcano plot as follows:\n",
    "\n",
    "- use *log2(fold-change)* on the x-axis and *-log10(q-value)* on the y-axis\n",
    "- you can import *log2* and *log10* from *numpy*\n",
    "- you can use *df.plot.scatter()* if you store the results as new columns"
   ]
  },
  {
   "cell_type": "code",
   "execution_count": 157,
   "id": "7c8c0573-8f4d-400d-aee1-cdc60646c24f",
   "metadata": {},
   "outputs": [],
   "source": [
    "# type your code here"
   ]
  },
  {
   "cell_type": "markdown",
   "id": "b819b0c2-1e78-48a7-b446-8ac710cb86fa",
   "metadata": {},
   "source": [
    "Click to see solution below:"
   ]
  },
  {
   "cell_type": "code",
   "execution_count": 176,
   "id": "c33bf1b5-cb66-44a6-b74f-7f93f26fd20c",
   "metadata": {},
   "outputs": [
    {
     "data": {
      "text/plain": [
       "<AxesSubplot:xlabel='log2FC', ylabel='log10q'>"
      ]
     },
     "execution_count": 176,
     "metadata": {},
     "output_type": "execute_result"
    },
    {
     "data": {
      "image/png": "[encoded data removed]",
      "text/plain": [
       "<Figure size 432x288 with 1 Axes>"
      ]
     },
     "metadata": {
      "needs_background": "light"
     },
     "output_type": "display_data"
    }
   ],
   "source": [
    "df['log2FC'] = np.log2(df['FC'])\n",
    "df['log10q'] = -np.log10(df['q'])\n",
    "df.plot.scatter('log2FC', 'log10q', alpha=0.2)"
   ]
  },
  {
   "cell_type": "code",
   "execution_count": 170,
   "id": "bc41a81c-b4ba-41f4-ac47-4d3c2069ac03",
   "metadata": {},
   "outputs": [],
   "source": [
    "up_reg = df.query('FC > 10 and q < 0.05').index"
   ]
  },
  {
   "cell_type": "code",
   "execution_count": 172,
   "id": "7d802681-c566-404e-837c-abbe8cac4400",
   "metadata": {},
   "outputs": [],
   "source": [
    "down_reg = df.query('FC < 0.1 and q < 0.05').index"
   ]
  },
  {
   "cell_type": "code",
   "execution_count": 171,
   "id": "7f36b8a8-2ceb-428e-a168-638b9c5e20a2",
   "metadata": {},
   "outputs": [
    {
     "name": "stdout",
     "output_type": "stream",
     "text": [
      "A4GALT AACS ABCA3 ABCC1 ABI3BP ABR AC005747.1 AC020916.1 AC022007.1 AC040160.1 AC093278.2 ACE ACER3 ACKR3 ACVR1C ACVRL1 ADA ADAM33 ADAM9 ADAMTS1 ADAMTS10 ADAMTS12 ADAMTS2 ADAMTS4 ADAMTS5 ADAMTS7 ADAMTSL1 ADCY3 ADCY4 ADCY7 ADGRA2 ADGRF5 ADGRG1 ADGRL1 ADGRL4 ADIRF-AS1 ADM AEBP1 AFAP1 AFAP1L1 AHNAK AIF1L AIFM2 AKAP12 ALDOA ALOX5AP AMOT AMOTL2 ANGPT2 ANGPTL2 ANK2 ANKDD1A ANKRD13B ANKRD29 ANTXR1 ANXA1 ANXA2 ANXA3 ANXA5 AOC2 AOC3 AP001528.2 APBB1IP APCDD1 APOD APOLD1 AQP1 AQP7 ARHGAP20 ARHGAP31 ARHGAP6 ARHGEF15 ARHGEF2 ARHGEF6 ARID5B ARL2 ARMCX1 ASAH1 ASAP2 ASPH ATP10A ATP1A2 ATP1B3 ATP2B4 ATP6V0E2-AS1 BACE2 BAG3 BCL6B BEST1 BHLHE41 BLVRA BMP6 BTG2 BTNL9 C11orf96 C14orf180 C1QTNF1 C1QTNF7 C1orf198 C20orf194 C2CD2 C6orf141 CA3 CAB39L CACHD1 CACNA2D1 CACNB1 CACNB3 CALHM2 CAP2 CAPG CAPN2 CARMN CAV1 CAV2 CAVIN1 CAVIN2 CC2D2A CCDC3 CCDC69 CCDC80 CCL2 CCM2L CCN2 CCND2 CD209 CD248 CD34 CD36 CD44 CD83 CD93 CDH13 CDH24 CDH5 CDH6 CDKN1C CDKN2C CELF2 CEP112 CEP68 CERCAM CFD CHD3 CHMP3 CHRDL1 CHST2 CHST3 CILP CKB CLDN11 CLDN5 CLEC14A CLEC1A CLEC3B CLIP3 CLIP4 CLSTN2 CMTM3 CNRIP1 CNTNAP1 COL12A1 COL15A1 COL16A1 COL1A1 COL1A2 COL3A1 COL4A1 COL4A2 COL5A1 COL5A2 COL6A1 COL6A2 COL6A3 COL8A1 CORO2B CPNE2 CPXM2 CRIM1 CRTAP CRYAB CSF2RB CSPG4 CSRNP1 CTSK CXCL14 CYBRD1 CYGB CYTH3 CYYR1 DAAM2 DAB2 DAPK2 DBN1 DCHS1 DCN DDR2 DEPP1 DES DHDDS DIPK2B DLL4 DNM1 DOC2B DOCK11 DOK1 DPT DPYSL3 DZIP1L EBF3 EDNRA EEPD1 EFEMP1 EFEMP2 EFS EHD2 ELF4 ELMOD3 ELN EMCN EMILIN2 EMP1 EMP3 EPB41L1 EPB41L2 EPB41L3 EPDR1 EPHB2 ERV3-1 ESAM EVA1C F13A1 FABP4 FADS3 FAM107A FAM13C FAM241A FAM43A FAM89A FAR1 FBLN1 FBLN2 FBLN5 FBN1 FBXL2 FBXL7 FCGR2A FGD5 FGFR1 FHL1 FHOD1 FILIP1L FKBP9 FLI1 FLNA FMNL1 FMNL2 FMNL3 FMO2 FMOD FREM1 FRMD3 FSTL1 FSTL3 FXYD5 FZD4 FZD7 G0S2 G6PD GAB2 GABRE GALNT15 GALNT16 GAS1 GASK1B GATA2 GDPD5 GGTA1P GJA1 GJA4 GLIPR2 GLIS2 GLT8D2 GNG11 GNG2 GPC4 GPD1 GPD1L GPNMB GPR146 GPR176 GPR4 GPRC5B GPX8 GRASP GRK3 GSN GSTP1 GYG2 GYPC HABP4 HBB HDAC7 HDAC9 HEY1 HIC1 HK1 HK2 HMCN2 HOXB2 HOXB3 HSD11B1-AS1 HSPA12A HSPA12B HSPA2 HSPA7 HSPB6 HSPB8 HSPG2 HTRA3 ICAM2 IFI16 IFI27L2 IGFBP5 IGFBP6 IL27RA IL3RA IMPDH1 INHBB IQGAP1 IQSEC2 IQSEC3 IRAK3 ISLR ITGA11 ITGA3 ITGA7 ITGAM ITGB1BP1 ITGB4 ITGB5 ITIH5 ITM2A ITPKB ITPR3 JAG1 JAG2 JAM2 JAM3 JCAD JUN KANK3 KANK4 KAZALD1 KCNAB1 KCNIP2 KCTD10 KCTD12 KIF26A KIF3C KIRREL1 KLF2 KLF4 KLF6 KLHL31 LAIR1 LAMA2 LAMA4 LAMB3 LAMC1 LARP6 LDHB LDLRAD3 LDOC1 LEP LFNG LGALS1 LGALS3 LHFPL2 LHFPL6 LIMA1 LIMCH1 LINC02762 LIPE LMCD1 LMNA LMOD1 LOX LOXL2 LOXL4 LPAR1 LPL LRRC8C LSP1 LTBP2 LUM LXN LYL1 MAML2 MAP1B MAP3K6 MAP4 MAP7D1 MAPK11 MAPK3 MAPRE1 MARVELD1 MCAM MCF2L MCUB MDFIC ME1 MECOM MEIS3 MEST METRNL MFAP4 MFGE8 MFSD6 MGP MITF MMD MMP14 MMP19 MMP2 MMP9 MMRN2 MOB3B MPZ MRAS MRC2 MRGPRF MRVI1 MSC MSC-AS1 MSRB3 MTHFD2 MTURN MX2 MXRA5 MXRA7 MXRA8 MYADM MYC MYL9 MYLIP MYO1C MYO5A MYOF NATD1 NAV1 NBL1 NCF2 NCF4 NDN NDRG1 NDUFA4L2 NEDD9 NES NEXN NFATC1 NFATC4 NFIX NHSL2 NIBAN1 NLRP1 NMUR1 NOD1 NOSTRIN NOTCH3 NOTCH4 NOVA2 NPR1 NPR3 NPY1R NRN1 NRSN2 OGFRL1 OGN OLFM1 OLFML2A OPHN1 ORAI2 OSBPL1A OSBPL5 OSCP1 P3H3 PACS1 PALLD PALM PALMD PAM PARVA PBX1 PCAT19 PCDH18 PCOLCE2 PCSK5 PDE1B PDE4A PDE5A PDGFB PDGFD PDGFRB PDZD2 PDZRN3 PEA15 PEAK1 PECAM1 PFKFB3 PFKP PHETA2 PHF19 PHLDA3 PHLDB1 PI16 PIK3IP1 PIK3R3 PJA1 PKD1L2 PKDCC PKM PLAAT3 PLAC9 PLAGL1 PLAU PLBD1 PLCD3 PLEKHG2 PLEKHG5 PLEKHH2 PLEKHO2 PLIN1 PLIN4 PLK3 PLP2 PLTP PLVAP PLXDC1 PLXDC2 PLXNA1 PLXNA4 PLXNB3 PLXND1 PMEPA1 PML PMP22 PNMA1 PNMA8B PNPLA2 PODN POSTN PPARG PPL PPP1R14A PPP1R15A PPP1R16B PPP1R3D PRAG1 PRELP PRICKLE2 PRKAR2B PRKCD PRR33 PTGER2 PTGFR PTGIS PTPN13 PTPN14 PTPRM PTPRS PXDN RAB30 RAB31 RAB34 RAI2 RAMP2 RAPGEF3 RASA3 RASD1 RASIP1 RASSF3 RBMS2 RBMS3 RBP7 RBPMS2 RECK RELL1 RERG RGCC RGS11 RHBDF1 RHOJ RHOQ RIMKLB RIPK3 RNASE1 RNF144A RNF150 ROBO4 RRAS RTL8C RTN1 RUNX1T1 S100A10 S100A11 S100A4 S100A6 SASH1 SCARA3 SCRN1 SELENOM SELP SEMA3B SEMA3G SEMA6B SEPTIN11 SERPINH1 SESTD1 SFRP1 SFXN3 SGCD SH2D3C SH3BGRL3 SH3BP5 SH3PXD2B SHROOM4 SKAP2 SLC16A7 SLC1A3 SLC1A5 SLC25A12 SLC25A24 SLC25A36 SLC29A4 SLC2A3 SLC2A4 SLC43A2 SLC44A2 SLC6A8 SLFN11 SLIT2 SLIT3 SMIM3 SMOC2 SNCG SNN SNTB2 SNX21 SOD3 SOGA1 SORBS1 SORT1 SOX17 SOX4 SPARC SPARCL1 SPHK1 SPON1 SPRY1 SRPX SRPX2 SSBP2 SSC5D ST6GALNAC4 STARD9 STAT5A STEAP4 STK17B STK39 STMN3 STX11 STXBP1 SUSD2 SVEP1 SWAP70 SYNE3 SYNM SYNPO SYNPO2 SYT11 TACC1 TAGLN TBC1D16 TCF4 TCF7L1 TEAD2 TGFB1I1 TGFBR2 TGFBR3 THBD THBS1 THBS2 THBS4 THRA THY1 TIMP2 TIMP3 TINAGL1 TKT TLCD2 TLN1 TLN2 TMEM100 TMEM159 TMEM164 TMEM273 TMEM54 TMSB10 TMTC1 TNFAIP8 TNFRSF21 TNFRSF25 TNN TNS1 TNXB TPBG TPM2 TPM4 TPPP3 TRERF1 TRHDE-AS1 TRIL TRIP10 TRPV2 TSC22D3 TSPAN15 TSPAN18 TSPAN3 TSPO TUBA1A TUBB6 TXNIP TYRO3 UBE2Q2 UCP2 USHBP1 VCAN VCL VEGFB VEGFC VENTX VIM VKORC1L1 VLDLR VSIR VWF WDPCP WTIP XXYLT1 YBX3 YWHAG ZBTB4 ZBTB47 ZEB2 ZFPM2 ZNF117 ZNF204P ZNF219 ZNF385A ZNF423 ZNF43 ZNF521 ZNF532 ZNF677 ZNF703\n"
     ]
    }
   ],
   "source": [
    "print(' '.join(up_reg))"
   ]
  },
  {
   "cell_type": "code",
   "execution_count": 173,
   "id": "80d42684-b787-4d45-9f00-d56bca091e11",
   "metadata": {},
   "outputs": [
    {
     "name": "stdout",
     "output_type": "stream",
     "text": [
      "ABAT ABCB4 ABCC2 ABCC6P1 AC006254.1 AC008760.2 ADCY1 ADGRG5 ADH1C AGMO AGT AKR7L ALB ALDH8A1 ANG APOB APOC1 APOM ASGR1 ASGR2 ASPG ATF5 AZGP1 BBOX1 BCHE BCO2 BDH1 BHMT C5 C6 CA2 CES3 CFB CFI CLDN1 CP CPS1 CTH CYP2A6 CYP2B7P CYP2D7 CYP2E1 CYP3A5 CYP4F3 DCXR DEPDC7 DSP EBP EHHADH ELOVL2 ENO3 ETNK2 F5 FBP1 FCN3 FGFR3 FITM1 FMO3 FMO5 GAMT GAS2 GATM GLYCTK GNAO1 GRB14 GREB1 HAAO HAL HOMER2 HP HPD HPGD HPN HPX HSD17B13 HULC HYAL1 IGFALS IL17RB IL1RAP IRF6 KDM8 KHK KRT18 KRT8 LEAP2 LGALS4 LINC01127 LINC01554 LIPC LMO7 LPAL2 LRG1 MAMDC4 MASP2 MSMO1 MST1 MST1L MST1P2 MT1G MYCL NECAB2 NIPSNAP1 NUGGC OXER1 PANK1 PBLD PCK2 PCSK6 PIPOX PON3 PPP1R3C PROX1 PRRG4 PZP QPRT RBP1 RBP5 REEP6 RGN RIDA RORC SARDH SDS SEC14L2 SEMA4G SERPINA1 SERPINA5 SERPINF2 SHROOM3 SLC13A3 SLC16A13 SLC17A9 SLC25A15 SLC27A5 SLC38A3 SLC39A14 SLC47A1 SLC6A1 SORD STAP2 STARD10 SYT7 TF TMEM184A TMEM97 TTPA UNC5CL VNN1 XYLB\n"
     ]
    }
   ],
   "source": [
    "print(' '.join(down_reg))"
   ]
  },
  {
   "cell_type": "code",
   "execution_count": null,
   "id": "0c6d423f-c020-469c-9287-b2be8a82aab0",
   "metadata": {},
   "outputs": [],
   "source": []
  }
 ],
 "metadata": {
  "kernelspec": {
   "display_name": "Python 3 (ipykernel)",
   "language": "python",
   "name": "python3"
  },
  "language_info": {
   "codemirror_mode": {
    "name": "ipython",
    "version": 3
   },
   "file_extension": ".py",
   "mimetype": "text/x-python",
   "name": "python",
   "nbconvert_exporter": "python",
   "pygments_lexer": "ipython3",
   "version": "3.9.5"
  }
 },
 "nbformat": 4,
 "nbformat_minor": 5
}
