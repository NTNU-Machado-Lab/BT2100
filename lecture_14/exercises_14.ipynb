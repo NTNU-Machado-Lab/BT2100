{
 "cells": [
  {
   "cell_type": "markdown",
   "id": "815502d1-83da-4404-b175-ea534798be9c",
   "metadata": {},
   "source": [
    "# Lecture 14 - Co-expression networks and enrichment analysis\n",
    "\n",
    "In this lecture you learned how to obtain biological insight from omics data by creating co-expression networks and performing enrichment analysis.\n",
    "\n",
    "In this tutorial we will continue to use the dataset from the previous lecture [(Lee et al, 2016)](https://www.sciencedirect.com/science/article/pii/S1550413116302480) that analysed gene expression levels of liver and adipose tissue of 12 obese patients undergoing bariatric surgery.\n",
    "\n",
    "This time we will use the *\"cleaned up\"* version of the data that we generated last time."
   ]
  },
  {
   "cell_type": "code",
   "execution_count": null,
   "id": "9d352b03-6e8a-4e83-bc58-9923804f8416",
   "metadata": {},
   "outputs": [],
   "source": [
    "import pandas as pd\n",
    "data = pd.read_csv('files/E-GEOD-83322_clean.tsv', sep='\\t')\n",
    "data.sample(5)"
   ]
  },
  {
   "cell_type": "markdown",
   "id": "6ed81baf-f28b-4bef-8833-d26d6267c6d5",
   "metadata": {},
   "source": [
    "## Exercise 1: gene co-expression networks\n",
    "\n",
    "Let's search for genes that are co-expressed across all patients on liver samples. \n",
    "\n",
    "To make our life easier, let's filter by tissue and convert the table to wide format:"
   ]
  },
  {
   "cell_type": "code",
   "execution_count": null,
   "id": "a1f9b7a3-0645-4902-a39a-b2a5ef12ba9e",
   "metadata": {},
   "outputs": [],
   "source": [
    "df_liver = data.query('tissue == \"liver\"').pivot(index='gene', columns='patient', values='value')"
   ]
  },
  {
   "cell_type": "markdown",
   "id": "5bfaf852-2426-427f-83bc-9398e39ef6b8",
   "metadata": {},
   "source": [
    "Now iterate (twice) over all genes to calculate the Spearman correlation between every pair of genes, storing the results in the format you find most appropriate.\n",
    "\n",
    "> Note: the dataset contains **> 12k genes**, resulting in about **150 million** pairs. To make things faster, we will only use **100** (randomly selected) genes. \n",
    "\n",
    "> Also: note that we only need to compute half the number of combinations. The correlation of (gene1, gene2) is the same as that of (gene2, gene1)."
   ]
  },
  {
   "cell_type": "code",
   "execution_count": null,
   "id": "792a0179-8dfc-4012-8afc-57aa1b386ce8",
   "metadata": {},
   "outputs": [],
   "source": [
    "from scipy.stats import spearmanr\n",
    "\n",
    "df_liver = df_liver.sample(100) # sample 100 random genes"
   ]
  },
  {
   "cell_type": "code",
   "execution_count": null,
   "id": "dec3d6ab-35fd-4d57-b4aa-921f4c19324d",
   "metadata": {},
   "outputs": [],
   "source": [
    "# type your code here"
   ]
  },
  {
   "cell_type": "markdown",
   "id": "201960dd-da56-4978-8693-9c840574925b",
   "metadata": {},
   "source": [
    "Click below to see solution:"
   ]
  },
  {
   "cell_type": "code",
   "execution_count": null,
   "id": "2a51527f-6903-4a2f-a999-3ba582129fa8",
   "metadata": {
    "jupyter": {
     "source_hidden": true
    },
    "tags": []
   },
   "outputs": [],
   "source": [
    "%%time  \n",
    "# this is just to print the total computation time\n",
    "\n",
    "corr = []\n",
    "for i in range(len(df_liver)):\n",
    "    for j in range(i+1, len(df_liver)):\n",
    "        gene1 = df_liver.index[i]\n",
    "        gene2 = df_liver.index[j]\n",
    "        values1 = df_liver.iloc[i,:]\n",
    "        values2 = df_liver.iloc[j,:]\n",
    "        r, p = spearmanr(values1, values2)\n",
    "        corr.append((gene1, gene2, r, p))\n",
    "        \n",
    "corr = pd.DataFrame(corr, columns=['gene1', 'gene2', 'r', 'p'])"
   ]
  },
  {
   "cell_type": "markdown",
   "id": "41c34aed-d3cf-40ee-adea-38c4f2cae522",
   "metadata": {},
   "source": [
    "Now filter only the gene pairs with an absolute correlation above 0.8, and plot the co-expression network using [Pyvis](https://pyvis.readthedocs.io/en/latest/).\n",
    "\n",
    "> Remember: you have already used Pyvis in Lecture 9, Exercise 2. You can go back and see how to use it."
   ]
  },
  {
   "cell_type": "code",
   "execution_count": null,
   "id": "fc92f7b7-f3a5-4006-866f-1a64f4189bd8",
   "metadata": {},
   "outputs": [],
   "source": [
    "# type your code here..."
   ]
  },
  {
   "cell_type": "markdown",
   "id": "fabeb30e-31ac-4248-9945-b9296dd54c36",
   "metadata": {},
   "source": [
    "Click below to see solution:"
   ]
  },
  {
   "cell_type": "code",
   "execution_count": null,
   "id": "53fa32b8-3194-48bf-9224-5e8d27841093",
   "metadata": {
    "jupyter": {
     "source_hidden": true
    },
    "tags": []
   },
   "outputs": [],
   "source": [
    "selected = corr.query(\"abs(r) > 0.8\")\n",
    "\n",
    "from pyvis.network import Network\n",
    "net = Network(directed=False, notebook=True, height='300px', width='500px')\n",
    "\n",
    "net.add_nodes(selected['gene1'])\n",
    "net.add_nodes(selected['gene2'])\n",
    "net.add_edges(selected[['gene1', 'gene2']].values)\n",
    "\n",
    "net.show('tmp.html')"
   ]
  },
  {
   "cell_type": "markdown",
   "id": "d758b497-0db9-403d-8c62-5f5e17d9387c",
   "metadata": {},
   "source": [
    "Remember that we used 100 randomly selected genes, so try running a second time with a different selection."
   ]
  },
  {
   "cell_type": "markdown",
   "id": "742a5e6e-1d32-4d7d-8503-ce0cb35f2cab",
   "metadata": {},
   "source": [
    "## Exercise 2: Gene enrichment analysis\n",
    "\n",
    "In this exercise, we will search for genes that are over or under-expressed in adipose tissue compared to liver samples.\n",
    "\n",
    "We will begin with some pandas magic to compute fold-change, p-values, and adjusted p-values (also known as q-values)."
   ]
  },
  {
   "cell_type": "code",
   "execution_count": null,
   "id": "f9d2616b-0175-4078-ac69-6c8c373823fc",
   "metadata": {},
   "outputs": [],
   "source": [
    "df = data.pivot(index='gene', columns=['tissue','patient'], values='value').droplevel(1, axis=1)\n",
    "df['FC'] = df['adipose tissue'].mean(axis=1) / df['liver'].mean(axis=1)\n",
    "\n",
    "from scipy.stats import ttest_ind\n",
    "df['p'] = df.apply(lambda x: ttest_ind(x['liver'], x['adipose tissue'])[1], axis=1)\n",
    "\n",
    "from statsmodels.stats.multitest import fdrcorrection\n",
    "df['is_significant'], df['q'] = fdrcorrection(df['p'])"
   ]
  },
  {
   "cell_type": "markdown",
   "id": "5e0f0a16-4ff4-4dbc-887a-9684b52ad635",
   "metadata": {},
   "source": [
    "Now draw a **volcano plot** as follows:\n",
    "\n",
    "- use *log2(fold-change)* on the x-axis and *-log10(q-value)* on the y-axis\n",
    "- you can import *log2* and *log10* from *numpy*\n",
    "- you can use *df.plot.scatter()* if you store the results as new columns"
   ]
  },
  {
   "cell_type": "code",
   "execution_count": null,
   "id": "7c8c0573-8f4d-400d-aee1-cdc60646c24f",
   "metadata": {},
   "outputs": [],
   "source": [
    "# type your code here"
   ]
  },
  {
   "cell_type": "markdown",
   "id": "b819b0c2-1e78-48a7-b446-8ac710cb86fa",
   "metadata": {},
   "source": [
    "Click to see solution below:"
   ]
  },
  {
   "cell_type": "code",
   "execution_count": null,
   "id": "c33bf1b5-cb66-44a6-b74f-7f93f26fd20c",
   "metadata": {
    "jupyter": {
     "source_hidden": true
    },
    "tags": []
   },
   "outputs": [],
   "source": [
    "df['log2FC'] = np.log2(df['FC'])\n",
    "df['log10q'] = -np.log10(df['q'])\n",
    "df.plot.scatter('log2FC', 'log10q', alpha=0.2)"
   ]
  },
  {
   "cell_type": "markdown",
   "id": "d271cf3e-787c-4f1a-a90b-f95daccac59e",
   "metadata": {},
   "source": [
    "Now create two list of genes that are:\n",
    "- significantly over-expressed by more than 100-fold \n",
    "- significantly under-expressed by more than 100-fold \n",
    "    \n",
    "Upload each list of genes separately in [g:Profiler](https://biit.cs.ut.ee/gprofiler/gost) to run the enrichment analysis.\n",
    "\n",
    "> Tip: use `' '.join()` to print a space separated list of genes. "
   ]
  },
  {
   "cell_type": "code",
   "execution_count": null,
   "id": "2db9acdb-e627-410f-8094-3fe214975a35",
   "metadata": {},
   "outputs": [],
   "source": [
    "# type your code here..."
   ]
  },
  {
   "cell_type": "markdown",
   "id": "17d8045f-069f-436c-99a5-cd05687c9c2b",
   "metadata": {},
   "source": [
    "Click to see solution below:"
   ]
  },
  {
   "cell_type": "code",
   "execution_count": null,
   "id": "bc41a81c-b4ba-41f4-ac47-4d3c2069ac03",
   "metadata": {
    "jupyter": {
     "source_hidden": true
    },
    "tags": []
   },
   "outputs": [],
   "source": [
    "print('Over-expressed:')\n",
    "over = df.query('FC > 100 and q < 0.05').index\n",
    "print(' '.join(over))\n",
    "print()\n",
    "print('Under-expressed:')\n",
    "under = df.query('FC < 0.01 and q < 0.05').index\n",
    "print(' '.join(under))"
   ]
  },
  {
   "cell_type": "markdown",
   "id": "dcd49ded-66a7-45a4-9cf3-514be8bcd50e",
   "metadata": {},
   "source": [
    "Finally, explore the results you obtained with g:Profiler. Do they make sense?"
   ]
  }
 ],
 "metadata": {
  "kernelspec": {
   "display_name": "Python 3 (ipykernel)",
   "language": "python",
   "name": "python3"
  },
  "language_info": {
   "codemirror_mode": {
    "name": "ipython",
    "version": 3
   },
   "file_extension": ".py",
   "mimetype": "text/x-python",
   "name": "python",
   "nbconvert_exporter": "python",
   "pygments_lexer": "ipython3",
   "version": "3.9.5"
  }
 },
 "nbformat": 4,
 "nbformat_minor": 5
}
