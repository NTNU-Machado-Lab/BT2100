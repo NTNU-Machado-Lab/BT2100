{
 "cells": [
  {
   "cell_type": "markdown",
   "id": "e2e463aa-d758-4286-b941-23aa94d00376",
   "metadata": {},
   "source": [
    "# Lecture 9 - Introduction to Systems Biology"
   ]
  },
  {
   "cell_type": "markdown",
   "id": "bcd77bdc-aaa9-48ef-8dad-af0fecdd1c59",
   "metadata": {},
   "source": [
    "In this lecture you have learned about the main types of biological pathways. Most pathway databases like [Reactome](https://reactome.org/), [KEGG](https://www.genome.jp/kegg/), and [BioCyc](https://biocyc.org/) allow you to visually navigate through the pathways and search for certain keywords. \n",
    "\n",
    "These user-friendly features are convenient for quick searches but not so useful when you need to perform them repeatedly and would rather automate certain tasks. Many biological databases offer programatic access through a [REST](https://en.wikipedia.org/wiki/Representational_state_transfer) API. \n",
    "\n",
    "> In short, a REST API is a way to perform a query over the web using HTTP where the query parameters are encoded in the URL and the request response contains the query result in a text format (plain text, xml, json, or html).\n",
    "\n",
    "\n",
    "### Learning objectives:\n",
    "\n",
    "- Learn to *\"browse the web\"* (i.e. to read data from webpages) using Python\n",
    "- First (very brief) encounter with the *Pandas* library\n",
    "- Using *pyvis* to draw networks inside a Jupyter notebook"
   ]
  },
  {
   "cell_type": "markdown",
   "id": "f349bf76-7369-4122-91ed-c22707c947f8",
   "metadata": {},
   "source": [
    "## Exercise 1\n",
    "\n",
    "In this exercise we will query the [**Rhea**](https://www.rhea-db.org/) database to obtain all the biochemical reactions in the aromatic amino acid pathway. \n",
    "\n",
    "**Rhea** provides a REST API as described in the [**documentation**](https://www.rhea-db.org/help/rest-api). We can use the [**requests**](https://docs.python-requests.org/en/latest/) library in Python to make a request to a REST API. "
   ]
  },
  {
   "cell_type": "code",
   "execution_count": null,
   "id": "2374053d-0982-45c9-bb49-ebd186d0a7dd",
   "metadata": {},
   "outputs": [],
   "source": [
    "import requests\n",
    "\n",
    "RHEA_URL = \"https://www.rhea-db.org/rhea?\"\n",
    "\n",
    "response = requests.get(RHEA_URL, params={'query': 'ec:1.1.1.1'})"
   ]
  },
  {
   "cell_type": "markdown",
   "id": "b43fe308-bd52-40f5-b9b7-823ee52d55cf",
   "metadata": {},
   "source": [
    "By default, Rhea will return an HTML page just as if you had performed the query directly on the website:"
   ]
  },
  {
   "cell_type": "code",
   "execution_count": null,
   "id": "f16d78ee-df1f-4e18-8eb7-16871d78f885",
   "metadata": {},
   "outputs": [],
   "source": [
    "from IPython.display import display, HTML\n",
    "\n",
    "HTML(response.text)"
   ]
  },
  {
   "cell_type": "markdown",
   "id": "61deb129-c1fe-4e25-b988-79586e32e503",
   "metadata": {},
   "source": [
    "-------\n",
    "\n",
    "As explained in the [**documentation**](https://www.rhea-db.org/help/rest-api) we can request for the result to be presented instead as a tab-separated table:"
   ]
  },
  {
   "cell_type": "code",
   "execution_count": null,
   "id": "4cb1905e-3896-47bc-8fe2-8e1b2b65cd3d",
   "metadata": {},
   "outputs": [],
   "source": [
    "response = requests.get(RHEA_URL, params={'query': 'ec:1.1.1.1', 'format': 'tsv'})\n",
    "\n",
    "print(response.text)"
   ]
  },
  {
   "cell_type": "markdown",
   "id": "b8081f3b-a3d9-4b8e-802d-7af0ac2b59a7",
   "metadata": {},
   "source": [
    "The [**Pandas**](https://pandas.pydata.org/) library can help us create a DataFrame object directly from this tab-separated table:\n",
    "\n",
    "> PS: I highly recommend you explore the [documentation](https://pandas.pydata.org/docs/user_guide/index.html). Pandas is one of the **best** scientific libraries in Python."
   ]
  },
  {
   "cell_type": "code",
   "execution_count": null,
   "id": "ab685529-3472-49db-af41-86d4dc279b99",
   "metadata": {},
   "outputs": [],
   "source": [
    "import pandas as pd\n",
    "import io\n",
    "\n",
    "pd.read_csv(io.StringIO(response.text), sep='\\t')"
   ]
  },
  {
   "cell_type": "markdown",
   "id": "5f308ac2-b1c2-4b9d-98b5-097b46066ff8",
   "metadata": {},
   "source": [
    "### 1.1\n",
    "\n",
    "Use the Rhea API to find all the reactions in the aromatic amino acid pathway (using the list of EC numbers below) and return the result as a Pandas DataFrame.\n",
    "\n",
    "> Tip: you can search for multiple terms in Rhea if you separate them with \" or \"."
   ]
  },
  {
   "cell_type": "code",
   "execution_count": null,
   "id": "6b1ecedb-9e9d-4103-a1e2-e04488c50a36",
   "metadata": {},
   "outputs": [],
   "source": [
    "pathway = ['2.7.1.71', '2.5.1.19', '4.2.3.5', '5.4.99.5', '4.2.1.51', '1.3.1.12',\n",
    "           '2.6.1.57', '4.1.3.27', '2.4.2.18', '5.3.1.24', '4.1.1.48', '4.2.1.20']"
   ]
  },
  {
   "cell_type": "code",
   "execution_count": null,
   "id": "4a6f2dd7-73e4-4a2c-90ac-67054d4442aa",
   "metadata": {},
   "outputs": [],
   "source": [
    "# type your code here..."
   ]
  },
  {
   "cell_type": "markdown",
   "id": "22dc9505-37db-4ea7-90ed-4ce35bd13f10",
   "metadata": {},
   "source": [
    "Click below to see the solution..."
   ]
  },
  {
   "cell_type": "code",
   "execution_count": null,
   "id": "cf4c569b-a5bc-44e3-a001-501eec462f72",
   "metadata": {
    "jupyter": {
     "source_hidden": true
    },
    "tags": []
   },
   "outputs": [],
   "source": [
    "\n",
    "query = ' or '.join(pathway)\n",
    "\n",
    "response = requests.get(RHEA_URL, params={'query': query,\n",
    "                                          'format': 'tsv', \n",
    "                                          'columns': 'rhea-id,ec,equation'})\n",
    "\n",
    "df = pd.read_csv(io.StringIO(response.text), sep='\\t')\n",
    "\n",
    "df"
   ]
  },
  {
   "cell_type": "markdown",
   "id": "8b521176-c393-4dfc-9b89-0fce8c6a4912",
   "metadata": {},
   "source": [
    "## Exercise 2\n",
    "\n",
    "[**Pyvis**](https://pyvis.readthedocs.io/en/latest/) is a python library for interactive network visualization. Here is a simple example of how to use it:"
   ]
  },
  {
   "cell_type": "code",
   "execution_count": null,
   "id": "71dcde78-6b59-4abf-b6f5-8a00c3be85db",
   "metadata": {},
   "outputs": [],
   "source": [
    "from pyvis.network import Network\n",
    "\n",
    "net = Network(directed=True, notebook=True, height='300px', width='500px')\n",
    "\n",
    "nodes = ['a', 'b', 'c', 'd']\n",
    "net.add_nodes(nodes)\n",
    "\n",
    "edges = [('a', 'b'), ('b', 'c'), ('b', 'd')]\n",
    "net.add_edges(edges)\n",
    "\n",
    "net.show('tmp1.html')\n",
    "display(HTML(filename='tmp1.html')) # fix for html not displaying correctly "
   ]
  },
  {
   "cell_type": "markdown",
   "id": "b87623f3-dd4e-4d91-a41a-5a3c8ab8af83",
   "metadata": {},
   "source": [
    "> Tip: try to drag around the nodes and see what happens.\n",
    "    \n",
    "--------- \n",
    "\n",
    "We can use [bipartite graphs](https://en.wikipedia.org/wiki/Bipartite_graph) (graphs with two kinds of nodes) to represent chemical reactions.\n",
    "\n",
    "Let's create a simple network with two reactions:\n",
    "- R1: a + b -> c\n",
    "- R2: c -> d + e"
   ]
  },
  {
   "cell_type": "code",
   "execution_count": null,
   "id": "c2cddff5-0332-4420-9e15-c15922f0527e",
   "metadata": {},
   "outputs": [],
   "source": [
    "net = Network(directed=True, notebook=True, height='300px', width='500px')\n",
    "\n",
    "metabolites = ['a', 'b', 'c', 'd', 'e']\n",
    "for m in metabolites:\n",
    "    net.add_node(m)\n",
    "\n",
    "reactions = ['R1', 'R2']\n",
    "for r in reactions:\n",
    "    net.add_node(r, shape='box')\n",
    "\n",
    "substrates = [('a', 'R1'), ('b', 'R1'), ('c', 'R2')]\n",
    "net.add_edges(substrates)\n",
    "\n",
    "products = [('R1', 'c'),  ('R2', 'd'), ('R2', 'e')]\n",
    "net.add_edges(products)\n",
    "\n",
    "net.show('tmp2.html')\n",
    "display(HTML(filename='tmp2.html'))"
   ]
  },
  {
   "cell_type": "markdown",
   "id": "7dc8b8b0-40b7-4466-8bb3-e6cb5cca2cf6",
   "metadata": {},
   "source": [
    "### 2.1\n",
    "\n",
    "Create a metabolic network using the reactions in the dataframe obtained in the previous exercise:\n",
    "\n",
    "> Tip 1: use [iterrows()](https://pandas.pydata.org/docs/reference/api/pandas.DataFrame.iterrows.html) to iterate over the rows in the DataFrame.\n",
    "\n",
    "> Tip 2: use the string [split()](https://docs.python.org/3/library/stdtypes.html#str.split) method to break the equations into substrates and products.\n",
    "\n",
    "> Tip 3: this is a hard exercise, don't be frustrated if it takes a while... 💪\n",
    "\n"
   ]
  },
  {
   "cell_type": "code",
   "execution_count": null,
   "id": "d70690b7-ab73-4f65-9680-931b313aba51",
   "metadata": {},
   "outputs": [],
   "source": [
    "# type your code here..."
   ]
  },
  {
   "cell_type": "markdown",
   "id": "e22b7016-e388-48d5-8cf9-0342bac00fd4",
   "metadata": {},
   "source": [
    "Click below to see the solution..."
   ]
  },
  {
   "cell_type": "code",
   "execution_count": null,
   "id": "99df0979-2efa-419b-ae92-f565bc94e306",
   "metadata": {
    "jupyter": {
     "source_hidden": true
    },
    "tags": []
   },
   "outputs": [],
   "source": [
    "\n",
    "net = Network(directed=True, notebook=True, height='600px', width='1000px')\n",
    "\n",
    "for i, row in df.iterrows():\n",
    "    reaction = row['Reaction identifier']\n",
    "    net.add_node(reaction, shape='box', label=row['EC number'])\n",
    "    \n",
    "    left, right = row['Equation'].split(' = ')\n",
    "    \n",
    "    for compound in left.split(' + '):\n",
    "        net.add_node(compound)\n",
    "        net.add_edge(compound, reaction)\n",
    "        \n",
    "    for compound in right.split(' + '):\n",
    "        net.add_node(compound)\n",
    "        net.add_edge(reaction, compound)\n",
    "        \n",
    "net.show('tmp3.html')\n",
    "display(HTML(filename='tmp3.html'))"
   ]
  },
  {
   "cell_type": "markdown",
   "id": "e06fdbe4-b13f-468c-8800-fb6b2711d9f3",
   "metadata": {},
   "source": [
    "> 🧠 Can you find your way through the graph by *\"walking\"* from shikimate to L-tryptophan? "
   ]
  },
  {
   "cell_type": "markdown",
   "id": "d3622422-05b2-4634-9e16-b0b43e449bf8",
   "metadata": {},
   "source": [
    "### Conclusion:\n",
    "\n",
    "This was a very *condensed* tutorial with many new concepts at once. You learned how to open websites from Python, how to load tabular data into a Pandas dataframe (we will explore pandas in more detail later), and how to create and display networks inside Jupyter using Pyvis. \n",
    "\n",
    "Don't worry if it felt like too much at once (it was indeed), the main goal was to show you how much stuff you can do with just a few lines of code 😎"
   ]
  }
 ],
 "metadata": {
  "kernelspec": {
   "display_name": "Python 3 (ipykernel)",
   "language": "python",
   "name": "python3"
  },
  "language_info": {
   "codemirror_mode": {
    "name": "ipython",
    "version": 3
   },
   "file_extension": ".py",
   "mimetype": "text/x-python",
   "name": "python",
   "nbconvert_exporter": "python",
   "pygments_lexer": "ipython3",
   "version": "3.10.14"
  }
 },
 "nbformat": 4,
 "nbformat_minor": 5
}
