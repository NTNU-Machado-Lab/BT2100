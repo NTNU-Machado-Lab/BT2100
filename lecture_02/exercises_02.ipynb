{
 "cells": [
  {
   "cell_type": "markdown",
   "id": "e27a9e3a-0db2-4032-a4a7-523d2881b81c",
   "metadata": {},
   "source": [
    "# Lecture 2 - DNA sequencing and assembly"
   ]
  },
  {
   "cell_type": "markdown",
   "id": "ed8fc6a4-7ff2-495c-b491-ec6d69b7d06e",
   "metadata": {},
   "source": [
    "In this tutorial, we will use DNA sequencing data for the pathogen *Mycoplasma pneumonium*. \n",
    "\n",
    "The data was downloaded from the European Nucleotide Archive, run accession [DRR040043](https://www.ebi.ac.uk/ena/browser/view/DRR040043?show=reads).\n",
    "\n",
    "## Exercise 1 - Assembly with SPAdes:\n",
    "\n",
    "If you open the project description, you will see that this a pair-ended library obtained will Illumina MiSeq, and there are two associated FASTQ files for download. Begin by downloading these two files.\n",
    "\n",
    "> Alternatively, you can also find those files in this repository under `files/reads/`.\n",
    "\n",
    "Now try one of the two following options to assemble your reads:\n",
    "\n",
    "- Using Galaxy -> go to [this notebook](./SPADES_galaxy.ipynb)\n",
    "- Using the command line -> go to [this notebook](./SPADES_terminal.ipynb)"
   ]
  },
  {
   "cell_type": "markdown",
   "id": "52096000-c0db-42fc-b63d-394ae3313e56",
   "metadata": {},
   "source": [
    "## Exercise 2 - Biopython\n",
    "\n",
    "If everything went well in the previous step, you will have your genome assembled into contigs/scaffolds in the form of FASTA files. \n",
    "\n",
    "> If not, don't worry, you can find expected files under `files/assembled/`.\n",
    "\n",
    "You will now learn use the [Biopython](https://biopython.org/) library to work with different kinds of files.\n",
    "\n",
    "> Please check the documentation of the [SeqIO](https://biopython.org/wiki/SeqIO) module that we will be using today."
   ]
  },
  {
   "cell_type": "markdown",
   "id": "dd7847aa-112f-47ce-a881-dd730142325a",
   "metadata": {},
   "source": [
    "## 2.1 Loading FASTQ files"
   ]
  },
  {
   "cell_type": "code",
   "execution_count": 24,
   "id": "55558202-2fbe-48c4-91ec-c74a0e920bb4",
   "metadata": {},
   "outputs": [],
   "source": [
    "from Bio import SeqIO\n",
    "import gzip\n",
    "\n",
    "with gzip.open('files/reads/DRR040043_1.fastq.gz', 'rt') as handle:\n",
    "    reads = SeqIO.parse(handle, 'fastq')\n",
    "    reads_dict = SeqIO.to_dict(reads)\n"
   ]
  },
  {
   "cell_type": "code",
   "execution_count": 11,
   "id": "e46863e1-68b6-4cd6-af87-15f708403f69",
   "metadata": {},
   "outputs": [
    {
     "name": "stdout",
     "output_type": "stream",
     "text": [
      "ID: DRR040043.1\n",
      "Name: DRR040043.1\n",
      "Description: DRR040043.1 1/1\n",
      "Number of features: 0\n",
      "Per letter annotation for: phred_quality\n",
      "Seq('CTATAGCCGTTTTCCCCATCCTTGGNAAAANTAAAGCGATGGTTAGTTAACTCA...ATT')\n"
     ]
    }
   ],
   "source": [
    "for read_id, seq in reads_dict.items():\n",
    "    print(seq)\n",
    "    break"
   ]
  },
  {
   "cell_type": "code",
   "execution_count": 15,
   "id": "1b4574aa-57e0-4cfd-b9f4-ca3ca34022c3",
   "metadata": {},
   "outputs": [],
   "source": [
    "read_sizes = [len(x) for x in reads_dict.values()]"
   ]
  },
  {
   "cell_type": "code",
   "execution_count": 20,
   "id": "8555cc28-d89b-41fe-a147-55d5e53f0db0",
   "metadata": {},
   "outputs": [
    {
     "name": "stdout",
     "output_type": "stream",
     "text": [
      "ID: DRR040043.11\n",
      "Name: DRR040043.11\n",
      "Description: DRR040043.11 11/1\n",
      "Number of features: 0\n",
      "Per letter annotation for: phred_quality\n",
      "Seq('GGTGATGAAAAGACCTTTGACGGACTTGATTATCTACCTAAAAACATTACCAAG...TTA')\n"
     ]
    }
   ],
   "source": [
    "print(list(reads_dict.values())[10])"
   ]
  },
  {
   "cell_type": "code",
   "execution_count": null,
   "id": "54ebe67a-f087-4012-8ada-a44090c81fae",
   "metadata": {},
   "outputs": [],
   "source": []
  }
 ],
 "metadata": {
  "kernelspec": {
   "display_name": "Python 3",
   "language": "python",
   "name": "python3"
  },
  "language_info": {
   "codemirror_mode": {
    "name": "ipython",
    "version": 3
   },
   "file_extension": ".py",
   "mimetype": "text/x-python",
   "name": "python",
   "nbconvert_exporter": "python",
   "pygments_lexer": "ipython3",
   "version": "3.8.8"
  }
 },
 "nbformat": 4,
 "nbformat_minor": 5
}
