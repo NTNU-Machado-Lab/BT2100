{
 "cells": [
  {
   "cell_type": "markdown",
   "id": "e27a9e3a-0db2-4032-a4a7-523d2881b81c",
   "metadata": {},
   "source": [
    "# Lecture 2 - DNA sequencing and assembly"
   ]
  },
  {
   "cell_type": "markdown",
   "id": "ed8fc6a4-7ff2-495c-b491-ec6d69b7d06e",
   "metadata": {},
   "source": [
    "In this tutorial, we will use DNA sequencing data for the pathogen *Mycoplasma pneumonium*. \n",
    "\n",
    "The data was downloaded from the European Nucleotide Archive, run accession [DRR040043](https://www.ebi.ac.uk/ena/browser/view/DRR040043?show=reads).\n",
    "\n",
    "## Exercise 1 - Assembly with SPAdes:\n",
    "\n",
    "If you open the project description, you will see that this a pair-ended library obtained will Illumina MiSeq, and there are two associated FASTQ files for download. Begin by downloading these two files.\n",
    "\n",
    "> Alternatively, you can also find those files in this repository under `files/reads/`.\n",
    "\n",
    "Now try one of the two following options to assemble your reads:\n",
    "\n",
    "- Using Galaxy -> go to [this notebook](./SPADES_galaxy.ipynb)\n",
    "- Using the command line -> go to [this notebook](./SPADES_terminal.ipynb)"
   ]
  },
  {
   "cell_type": "markdown",
   "id": "52096000-c0db-42fc-b63d-394ae3313e56",
   "metadata": {},
   "source": [
    "## Exercise 2 - Biopython\n",
    "\n",
    "If everything went well in the previous step, you will have your genome assembled into contigs/scaffolds in the form of FASTA files. \n",
    "\n",
    "> If not, don't worry, you can find expected files under `files/assembled/`.\n",
    "\n",
    "You will now learn use the [Biopython](https://biopython.org/) library to work with different kinds of files.\n",
    "\n",
    "> Please check the documentation of the [SeqIO](https://biopython.org/wiki/SeqIO) module that we will be using today."
   ]
  },
  {
   "cell_type": "markdown",
   "id": "dd7847aa-112f-47ce-a881-dd730142325a",
   "metadata": {},
   "source": [
    "## 2.1 Reading FASTQ files\n",
    "\n",
    "Let's start by loading one of the FASTQ files. \n",
    "\n",
    "> Note that we need to use the `gzip` module because we are reading a compressed file."
   ]
  },
  {
   "cell_type": "code",
   "execution_count": null,
   "id": "55558202-2fbe-48c4-91ec-c74a0e920bb4",
   "metadata": {},
   "outputs": [],
   "source": [
    "from Bio import SeqIO\n",
    "import gzip\n",
    "\n",
    "with gzip.open('files/reads/DRR040043_1.fastq.gz', 'rt') as handle:\n",
    "    reads = list(SeqIO.parse(handle, 'fastq'))"
   ]
  },
  {
   "cell_type": "markdown",
   "id": "f74ff8f4",
   "metadata": {},
   "source": [
    "> **Note**: Depending on how much RAM you have available, the code above may run out of memory and crash your python kernel. If that happens, run the code below to load just the first 1000 reads into memory: "
   ]
  },
  {
   "cell_type": "code",
   "execution_count": null,
   "id": "b98829ae",
   "metadata": {
    "tags": []
   },
   "outputs": [],
   "source": [
    "from Bio import SeqIO\n",
    "import gzip\n",
    "\n",
    "with gzip.open('files/reads/DRR040043_1.fastq.gz', 'rt') as handle:\n",
    "    reads = []\n",
    "    for i, read in enumerate(SeqIO.parse(handle, 'fastq')):\n",
    "        if i == 1000:\n",
    "            break\n",
    "        reads.append(read)"
   ]
  },
  {
   "cell_type": "markdown",
   "id": "b3729ca8-7f1c-48c8-b1dd-43038ae18709",
   "metadata": {},
   "source": [
    "**Q:** How many reads are in the file?"
   ]
  },
  {
   "cell_type": "code",
   "execution_count": null,
   "id": "2b843880-460e-4202-b6ad-a9b54bbcbbbd",
   "metadata": {},
   "outputs": [],
   "source": [
    "# type your code here..."
   ]
  },
  {
   "cell_type": "markdown",
   "id": "e7db265b-fb48-4870-9d86-2359c2c77097",
   "metadata": {},
   "source": [
    "Solution (click to expand):"
   ]
  },
  {
   "cell_type": "code",
   "execution_count": null,
   "id": "54ebe67a-f087-4012-8ada-a44090c81fae",
   "metadata": {
    "jupyter": {
     "source_hidden": true
    },
    "tags": []
   },
   "outputs": [],
   "source": [
    "len(reads)"
   ]
  },
  {
   "cell_type": "markdown",
   "id": "a0b21d19-8b45-4cc4-8c26-fb1888ec6758",
   "metadata": {},
   "source": [
    "**Q:** What is the sequence of the first read?"
   ]
  },
  {
   "cell_type": "code",
   "execution_count": null,
   "id": "db910709-2587-4977-ab0a-49619e35f657",
   "metadata": {},
   "outputs": [],
   "source": [
    "# type your code here..."
   ]
  },
  {
   "cell_type": "markdown",
   "id": "d9c99b43-18af-4fdd-a5f7-212d76b82fd4",
   "metadata": {},
   "source": [
    "Solution (click to expand):"
   ]
  },
  {
   "cell_type": "code",
   "execution_count": null,
   "id": "5bd02835-9284-42c4-8dcb-3175116e412b",
   "metadata": {
    "jupyter": {
     "source_hidden": true
    },
    "tags": []
   },
   "outputs": [],
   "source": [
    "read = reads[0]\n",
    "print(read.seq)"
   ]
  },
  {
   "cell_type": "markdown",
   "id": "99f07ad1-de0b-49f1-9477-e261f827f833",
   "metadata": {},
   "source": [
    "**Q:** What is the average length of the reads?"
   ]
  },
  {
   "cell_type": "code",
   "execution_count": null,
   "id": "837e5ecb-8099-4d63-b70f-93a7e54e5897",
   "metadata": {},
   "outputs": [],
   "source": [
    "# type your code here..."
   ]
  },
  {
   "cell_type": "markdown",
   "id": "3a119393-25cc-4d8e-b148-000d8925bc68",
   "metadata": {},
   "source": [
    "Solution (click to expand):"
   ]
  },
  {
   "cell_type": "code",
   "execution_count": null,
   "id": "cde1f8e4-6802-4c5f-b77c-b18726c05d49",
   "metadata": {
    "jupyter": {
     "source_hidden": true
    },
    "tags": []
   },
   "outputs": [],
   "source": [
    "lengths = [len(read) for read in reads]\n",
    "avg_length = sum(lengths) / len(lengths)\n",
    "min_length = min(lengths)\n",
    "max_length = max(lengths)\n",
    "\n",
    "print(f'min: {min_length} mean: {avg_length} max: {max_length}')"
   ]
  },
  {
   "cell_type": "markdown",
   "id": "d469b5ce-104e-47d5-9e7b-15c8019939fd",
   "metadata": {},
   "source": [
    "## 2.2 Reading FASTA files\n",
    "\n",
    "Now let's read the FASTA file with the assembled genome and check how many contigs we have:"
   ]
  },
  {
   "cell_type": "code",
   "execution_count": null,
   "id": "35215616-e4b8-491c-b8a2-e31e7af9a85a",
   "metadata": {},
   "outputs": [],
   "source": [
    "contigs = list(SeqIO.parse('files/assembled/contigs.fasta', 'fasta'))\n",
    "\n",
    "print('final number of contigs:', len(contigs))"
   ]
  },
  {
   "cell_type": "markdown",
   "id": "2fda5bcd-a8cb-48d9-bda9-1af67df5c4ad",
   "metadata": {},
   "source": [
    "**Exercise:** Print the length of all the contigs."
   ]
  },
  {
   "cell_type": "code",
   "execution_count": null,
   "id": "b038833c-7a21-44a1-bfc4-157e2b8c0f3c",
   "metadata": {},
   "outputs": [],
   "source": [
    "# type your code here..."
   ]
  },
  {
   "cell_type": "markdown",
   "id": "2182efd6-27cc-43d2-86fc-c5cc9d925560",
   "metadata": {},
   "source": [
    "Solution (click to expand):"
   ]
  },
  {
   "cell_type": "code",
   "execution_count": null,
   "id": "e7eef741-4eef-43a4-84d5-736faf33e667",
   "metadata": {
    "jupyter": {
     "source_hidden": true
    },
    "tags": []
   },
   "outputs": [],
   "source": [
    "lengths = [len(x) for x in contigs]\n",
    "print(lengths)"
   ]
  },
  {
   "cell_type": "markdown",
   "id": "32a362e6-5e3f-4c33-bc06-efb600cb0c3b",
   "metadata": {},
   "source": [
    "Now let's look the length distribution using a more convenient visualization:"
   ]
  },
  {
   "cell_type": "code",
   "execution_count": null,
   "id": "f812bd5c-1ad3-41be-a8f1-ddd571948a25",
   "metadata": {},
   "outputs": [],
   "source": [
    "%matplotlib inline\n",
    "import matplotlib.pyplot as plt\n",
    "\n",
    "lengths = [len(x) for x in contigs]\n",
    "labels = [f'{x/1000:.1f} kb' if x > 10000 else '' for x in lengths]\n",
    "plt.pie(lengths, radius=2, wedgeprops={'width':1}, startangle=90, labels=labels);"
   ]
  },
  {
   "cell_type": "markdown",
   "id": "174ecb64-9b70-4002-add0-c9bb43375af1",
   "metadata": {},
   "source": [
    "You can see that, in fact, more than 90% of the assembled genome is composed by contigs longer than 10 kb.\n",
    "\n",
    "**Exercise**: Write a new FASTA file that only contains the contigs larger than 10 kb."
   ]
  },
  {
   "cell_type": "code",
   "execution_count": null,
   "id": "2da2866c-23db-4bab-b670-6fd405a6d59f",
   "metadata": {},
   "outputs": [],
   "source": [
    "# type your code here..."
   ]
  },
  {
   "cell_type": "markdown",
   "id": "21d3529a-dee2-41d0-a751-5da23c1d9429",
   "metadata": {},
   "source": [
    "Solution (click to expand):"
   ]
  },
  {
   "cell_type": "code",
   "execution_count": null,
   "id": "02ee9d85-8c8b-40f6-b2ee-007bb71c0506",
   "metadata": {
    "jupyter": {
     "source_hidden": true
    },
    "tags": []
   },
   "outputs": [],
   "source": [
    "long_contigs = [contig for contig in contigs if len(contig) > 10000]\n",
    "\n",
    "SeqIO.write(long_contigs, 'long_contigs.fasta', 'fasta')"
   ]
  }
 ],
 "metadata": {
  "kernelspec": {
   "display_name": "Python 3 (ipykernel)",
   "language": "python",
   "name": "python3"
  },
  "language_info": {
   "codemirror_mode": {
    "name": "ipython",
    "version": 3
   },
   "file_extension": ".py",
   "mimetype": "text/x-python",
   "name": "python",
   "nbconvert_exporter": "python",
   "pygments_lexer": "ipython3",
   "version": "3.11.0"
  },
  "vscode": {
   "interpreter": {
    "hash": "264f5c834d3aaf05a7481b8b9397d0b965009a374ea51505b3c67261b92e4f55"
   }
  }
 },
 "nbformat": 4,
 "nbformat_minor": 5
}
