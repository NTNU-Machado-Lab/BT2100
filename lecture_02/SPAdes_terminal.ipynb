{
 "cells": [
  {
   "cell_type": "markdown",
   "id": "1dd873a2-28e5-4af2-b638-5a2e55b78ba4",
   "metadata": {},
   "source": [
    "# Genome assembly with SPAdes using the command line\n",
    "\n",
    "In this short tutorial you will learn to perform a genome assembly with [SPAdes](https://cab.spbu.ru/software/spades/) using the command line.\n",
    "\n",
    "> This will require installing **Spades** in your conda environment (this can be unpredictable depending on your python version, operating system, etc). Also, it requires a decent amount of available memory. Therefore, this option is not for the faint-hearted... 🙂\n",
    "\n",
    "### Step 0: running terminal commands in Jupyter\n",
    "\n",
    "You can open a terminal window in Jupyter lab to get a traditional command line, but you can also just run bash commands inside the notebook by starting a line with `!`. \n",
    "\n",
    "Try running the example bellow:"
   ]
  },
  {
   "cell_type": "code",
   "execution_count": null,
   "id": "29dcd7e4-39f3-4cd2-a133-587eb77fbb22",
   "metadata": {
    "tags": []
   },
   "outputs": [],
   "source": [
    "!ls"
   ]
  },
  {
   "cell_type": "markdown",
   "id": "9ab43829-9319-429a-a21b-297597980ba7",
   "metadata": {},
   "source": [
    "And now let's start by installing SPAdes:"
   ]
  },
  {
   "cell_type": "code",
   "execution_count": null,
   "id": "87371d6d-5b53-4c40-ae4f-e60a014ff07d",
   "metadata": {
    "scrolled": true
   },
   "outputs": [],
   "source": [
    "!mamba install -c bioconda -y spades"
   ]
  },
  {
   "cell_type": "markdown",
   "id": "c5d7b11e-801d-40de-b59a-7facf5a02c4f",
   "metadata": {},
   "source": [
    "### Step 1:\n",
    "\n",
    "Now we will run spades to assemble our reads, by specifying the following arguments:\n",
    "\n",
    "- `-1` FASTQ file with forward reads\n",
    "- `-2` FASTQ file with reverse reads\n",
    "- `-o` output directory\n",
    "- `-k` k-mer size\n",
    "- `--only-assembler` skip error correction\n",
    "\n",
    "To make things a bit faster, we will skip the error correction and use reads that have been previously corrected. Also, we will specify a single *k-mer* size (127), otherwise it will try multiple sizes until it finds the best one.\n",
    "\n",
    "Now run the command bellow, this should take a few minutes..."
   ]
  },
  {
   "cell_type": "code",
   "execution_count": null,
   "id": "db798ad6-a053-41a5-89d6-3c433b5c9abe",
   "metadata": {},
   "outputs": [],
   "source": [
    "!spades.py -o output -k 127 --only-assembler \\\n",
    "  -1 files/reads/corrected/DRR040043_1.fastq.gz   \\\n",
    "  -2 files/reads/corrected/DRR040043_2.fastq.gz"
   ]
  },
  {
   "cell_type": "markdown",
   "id": "438978c9-9747-4123-a341-796bb2bbd0f9",
   "metadata": {},
   "source": [
    "### Step 2: find your files\n",
    "\n",
    "If the above command executed correctly, you will find your files by running the command in the cell bellow. "
   ]
  },
  {
   "cell_type": "code",
   "execution_count": null,
   "id": "990f0930-361a-4b0f-91ea-c23fb4a536c9",
   "metadata": {},
   "outputs": [],
   "source": [
    "!ls -l output/*.fasta"
   ]
  }
 ],
 "metadata": {
  "kernelspec": {
   "display_name": "Python 3 (ipykernel)",
   "language": "python",
   "name": "python3"
  },
  "language_info": {
   "codemirror_mode": {
    "name": "ipython",
    "version": 3
   },
   "file_extension": ".py",
   "mimetype": "text/x-python",
   "name": "python",
   "nbconvert_exporter": "python",
   "pygments_lexer": "ipython3",
   "version": "3.10.14"
  }
 },
 "nbformat": 4,
 "nbformat_minor": 5
}
