{
 "cells": [
  {
   "cell_type": "markdown",
   "id": "93a0a617-4e98-4230-9faa-7d34d2655bca",
   "metadata": {},
   "source": [
    "# Genome assembly with SPAdes using Galaxy\n",
    "\n",
    "In this short tutorial you will learn to use Galaxy, a web-based interface, to perform a genome assembly with [SPAdes](https://cab.spbu.ru/software/spades/)."
   ]
  },
  {
   "cell_type": "markdown",
   "id": "4689069b-c5c8-4dfc-bf00-e667415ee571",
   "metadata": {},
   "source": [
    "### Step 0\n",
    "\n",
    "Go to [usegalaxy.no](https://usegalaxy.no/) and login with your FEIDE credentials."
   ]
  },
  {
   "cell_type": "markdown",
   "id": "0b8df129-7053-4f8b-bdb9-8807b672d428",
   "metadata": {},
   "source": [
    "### Step 1\n",
    "\n",
    "Type *spades* on the search bar, select the **SPAdes** tool, and scroll down to the section where you need to upload two *FASTQ* files. You can find these files in this tutorial under `lecture_02/files/reads/`.\n",
    "\n",
    "![upload](files/galaxy/upload.png)"
   ]
  },
  {
   "cell_type": "markdown",
   "id": "26c6467b-6a04-43dd-9c69-56da8125566e",
   "metadata": {},
   "source": [
    "### Step 2\n",
    "\n",
    "You can now scroll down and press the **EXECUTE** button. If everything goes well you should see the following screen:\n",
    "\n",
    "![run](files/galaxy/run.png)"
   ]
  },
  {
   "cell_type": "markdown",
   "id": "72a60891-fe9f-43db-8255-c3e1df2163f9",
   "metadata": {},
   "source": [
    "### Step 3\n",
    "\n",
    "You might have to wait several minutes (5-10 for this example) until the assembly is completed. \n",
    "\n",
    "The output files on the right side will switch from orange to green when they are ready. The next step is to download the *scaffolds fasta file*:\n",
    "\n",
    "![download](files/galaxy/download.png)"
   ]
  },
  {
   "cell_type": "code",
   "execution_count": null,
   "id": "64dd54de-3fc7-42e2-af1f-5101b06a4acb",
   "metadata": {},
   "outputs": [],
   "source": []
  }
 ],
 "metadata": {
  "kernelspec": {
   "display_name": "Python 3",
   "language": "python",
   "name": "python3"
  },
  "language_info": {
   "codemirror_mode": {
    "name": "ipython",
    "version": 3
   },
   "file_extension": ".py",
   "mimetype": "text/x-python",
   "name": "python",
   "nbconvert_exporter": "python",
   "pygments_lexer": "ipython3",
   "version": "3.8.8"
  }
 },
 "nbformat": 4,
 "nbformat_minor": 5
}
