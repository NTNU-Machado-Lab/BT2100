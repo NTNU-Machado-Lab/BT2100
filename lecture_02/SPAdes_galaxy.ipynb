{
 "cells": [
  {
   "cell_type": "markdown",
   "id": "93a0a617-4e98-4230-9faa-7d34d2655bca",
   "metadata": {},
   "source": [
    "# Genome assembly with SPAdes using Galaxy\n",
    "\n",
    "In this short tutorial you will learn to use Galaxy, a web-based interface, to perform a genome assembly with [SPAdes](https://cab.spbu.ru/software/spades/)."
   ]
  },
  {
   "cell_type": "markdown",
   "id": "4689069b-c5c8-4dfc-bf00-e667415ee571",
   "metadata": {},
   "source": [
    "### Step 0\n",
    "\n",
    "Go to [usegalaxy.no](https://usegalaxy.no/) and login with your FEIDE credentials."
   ]
  },
  {
   "cell_type": "markdown",
   "id": "0b8df129-7053-4f8b-bdb9-8807b672d428",
   "metadata": {},
   "source": [
    "### Step 1\n",
    "\n",
    "Use the **Upload Data** button to upload the two **FASTQ** files you downloaded from the web (you can also find these files in this tutorial under `lecture_02/files/reads/corrected`).\n",
    "\n",
    "### Step 2\n",
    "\n",
    "Type *spades* on the search bar, select the **Shovill** tool (that implements a faster version of SPAdes). Make sure you select the two files you uploaded in the correct order:\n",
    "\n",
    "- file 1: forward reads\n",
    "- file 2: reverse reads\n",
    "\n",
    "![upload](files/galaxy/upload2.png)"
   ]
  },
  {
   "cell_type": "markdown",
   "id": "26c6467b-6a04-43dd-9c69-56da8125566e",
   "metadata": {},
   "source": [
    "### Step 3\n",
    "\n",
    "You can press **Run Tool** (you find this both at the top and bottom of the page). If everything goes well you should see the following screen:\n",
    "\n",
    "![run](files/galaxy/run2.png)"
   ]
  },
  {
   "cell_type": "markdown",
   "id": "72a60891-fe9f-43db-8255-c3e1df2163f9",
   "metadata": {},
   "source": [
    "### Step 4\n",
    "\n",
    "You might have to wait several (maybe 5 to 10) minutes until the assembly is completed. \n",
    "\n",
    "The output files on the right side will switch from orange to green when they are ready. The next step is to download the **contigs** FASTA file:\n",
    "\n",
    "![download](files/galaxy/download2.png)"
   ]
  },
  {
   "cell_type": "markdown",
   "id": "b9487fc9-9332-496c-98bb-bca0aa64c002",
   "metadata": {},
   "source": [
    "Now you can go back to the main exercise 🥳 "
   ]
  }
 ],
 "metadata": {
  "kernelspec": {
   "display_name": "Python 3 (ipykernel)",
   "language": "python",
   "name": "python3"
  },
  "language_info": {
   "codemirror_mode": {
    "name": "ipython",
    "version": 3
   },
   "file_extension": ".py",
   "mimetype": "text/x-python",
   "name": "python",
   "nbconvert_exporter": "python",
   "pygments_lexer": "ipython3",
   "version": "3.10.14"
  }
 },
 "nbformat": 4,
 "nbformat_minor": 5
}
