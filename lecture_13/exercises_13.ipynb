{
 "cells": [
  {
   "cell_type": "markdown",
   "id": "815502d1-83da-4404-b175-ea534798be9c",
   "metadata": {},
   "source": [
    "# Lecture 13 - Introduction to Data Science\n",
    "\n",
    "In this lecture you had a short introduction to the growing field of *Data Science* that will be useful for working with different kinds of data. \n",
    "\n",
    "In this tutorial we will focus on using gene expression data. In particular, we will use data from this publication [(Lee et al, 2016)](https://www.sciencedirect.com/science/article/pii/S1550413116302480) that analysed gene expression levels of liver and adipose tissue of 12 obese patients undergoing bariatric surgery.\n",
    "\n",
    "- The RNA-seq data was initially submitted to the Gene Expression Omnibus [(GSE83322)](https://www.ncbi.nlm.nih.gov/geo/query/acc.cgi?acc=GSE83322). Here you can see more details about the sequencing protocol and obtain the raw sequencing data.\n",
    "- This data is also available at the Expression Atlas [(E-GEOD-83322)](https://www.ebi.ac.uk/gxa/experiments/E-GEOD-83322/Results). A selection of post-processed and manually curated gene and protein expression datasets. \n",
    "\n",
    "Let's begin by loading the data and metadata tables into Pandas dataframes:"
   ]
  },
  {
   "cell_type": "code",
   "execution_count": 1,
   "id": "9d352b03-6e8a-4e83-bc58-9923804f8416",
   "metadata": {},
   "outputs": [
    {
     "data": {
      "text/html": [
       "<div>\n",
       "<style scoped>\n",
       "    .dataframe tbody tr th:only-of-type {\n",
       "        vertical-align: middle;\n",
       "    }\n",
       "\n",
       "    .dataframe tbody tr th {\n",
       "        vertical-align: top;\n",
       "    }\n",
       "\n",
       "    .dataframe thead th {\n",
       "        text-align: right;\n",
       "    }\n",
       "</style>\n",
       "<table border=\"1\" class=\"dataframe\">\n",
       "  <thead>\n",
       "    <tr style=\"text-align: right;\">\n",
       "      <th></th>\n",
       "      <th>Gene ID</th>\n",
       "      <th>Gene Name</th>\n",
       "      <th>1008, adipose tissue</th>\n",
       "      <th>1008, liver</th>\n",
       "      <th>1011, adipose tissue</th>\n",
       "      <th>1011, liver</th>\n",
       "      <th>1036, adipose tissue</th>\n",
       "      <th>1036, liver</th>\n",
       "      <th>1038, adipose tissue</th>\n",
       "      <th>1038, liver</th>\n",
       "      <th>...</th>\n",
       "      <th>1055, adipose tissue</th>\n",
       "      <th>1055, liver</th>\n",
       "      <th>1058, adipose tissue</th>\n",
       "      <th>1058, liver</th>\n",
       "      <th>1061, adipose tissue</th>\n",
       "      <th>1061, liver</th>\n",
       "      <th>1100, adipose tissue</th>\n",
       "      <th>1100, liver</th>\n",
       "      <th>1104, adipose tissue</th>\n",
       "      <th>1104, liver</th>\n",
       "    </tr>\n",
       "  </thead>\n",
       "  <tbody>\n",
       "    <tr>\n",
       "      <th>7224</th>\n",
       "      <td>ENSG00000137699</td>\n",
       "      <td>TRIM29</td>\n",
       "      <td>0.4</td>\n",
       "      <td>0.1</td>\n",
       "      <td>0.1</td>\n",
       "      <td>0.3</td>\n",
       "      <td>0.7</td>\n",
       "      <td>0.3</td>\n",
       "      <td>0.2</td>\n",
       "      <td>0.1</td>\n",
       "      <td>...</td>\n",
       "      <td>NaN</td>\n",
       "      <td>0.1</td>\n",
       "      <td>0.6</td>\n",
       "      <td>0.2</td>\n",
       "      <td>2.0</td>\n",
       "      <td>0.4</td>\n",
       "      <td>0.7</td>\n",
       "      <td>0.3</td>\n",
       "      <td>0.3</td>\n",
       "      <td>0.9</td>\n",
       "    </tr>\n",
       "    <tr>\n",
       "      <th>32666</th>\n",
       "      <td>ENSG00000279106</td>\n",
       "      <td>AC009093.7</td>\n",
       "      <td>1.0</td>\n",
       "      <td>NaN</td>\n",
       "      <td>NaN</td>\n",
       "      <td>NaN</td>\n",
       "      <td>0.8</td>\n",
       "      <td>NaN</td>\n",
       "      <td>NaN</td>\n",
       "      <td>2.0</td>\n",
       "      <td>...</td>\n",
       "      <td>NaN</td>\n",
       "      <td>NaN</td>\n",
       "      <td>NaN</td>\n",
       "      <td>NaN</td>\n",
       "      <td>1.0</td>\n",
       "      <td>1.0</td>\n",
       "      <td>NaN</td>\n",
       "      <td>2.0</td>\n",
       "      <td>NaN</td>\n",
       "      <td>3.0</td>\n",
       "    </tr>\n",
       "    <tr>\n",
       "      <th>12795</th>\n",
       "      <td>ENSG00000173442</td>\n",
       "      <td>EHBP1L1</td>\n",
       "      <td>51.0</td>\n",
       "      <td>10.0</td>\n",
       "      <td>90.0</td>\n",
       "      <td>18.0</td>\n",
       "      <td>64.0</td>\n",
       "      <td>10.0</td>\n",
       "      <td>33.0</td>\n",
       "      <td>14.0</td>\n",
       "      <td>...</td>\n",
       "      <td>83.0</td>\n",
       "      <td>9.0</td>\n",
       "      <td>74.0</td>\n",
       "      <td>8.0</td>\n",
       "      <td>54.0</td>\n",
       "      <td>10.0</td>\n",
       "      <td>51.0</td>\n",
       "      <td>15.0</td>\n",
       "      <td>59.0</td>\n",
       "      <td>13.0</td>\n",
       "    </tr>\n",
       "    <tr>\n",
       "      <th>33605</th>\n",
       "      <td>ENSG00000283849</td>\n",
       "      <td>AC092053.3</td>\n",
       "      <td>NaN</td>\n",
       "      <td>NaN</td>\n",
       "      <td>NaN</td>\n",
       "      <td>NaN</td>\n",
       "      <td>NaN</td>\n",
       "      <td>NaN</td>\n",
       "      <td>NaN</td>\n",
       "      <td>3.0</td>\n",
       "      <td>...</td>\n",
       "      <td>NaN</td>\n",
       "      <td>NaN</td>\n",
       "      <td>NaN</td>\n",
       "      <td>NaN</td>\n",
       "      <td>NaN</td>\n",
       "      <td>NaN</td>\n",
       "      <td>NaN</td>\n",
       "      <td>NaN</td>\n",
       "      <td>NaN</td>\n",
       "      <td>NaN</td>\n",
       "    </tr>\n",
       "    <tr>\n",
       "      <th>5098</th>\n",
       "      <td>ENSG00000122335</td>\n",
       "      <td>SERAC1</td>\n",
       "      <td>2.0</td>\n",
       "      <td>0.7</td>\n",
       "      <td>3.0</td>\n",
       "      <td>0.9</td>\n",
       "      <td>3.0</td>\n",
       "      <td>0.9</td>\n",
       "      <td>2.0</td>\n",
       "      <td>0.4</td>\n",
       "      <td>...</td>\n",
       "      <td>3.0</td>\n",
       "      <td>0.9</td>\n",
       "      <td>4.0</td>\n",
       "      <td>1.0</td>\n",
       "      <td>1.0</td>\n",
       "      <td>1.0</td>\n",
       "      <td>3.0</td>\n",
       "      <td>0.4</td>\n",
       "      <td>2.0</td>\n",
       "      <td>1.0</td>\n",
       "    </tr>\n",
       "  </tbody>\n",
       "</table>\n",
       "<p>5 rows × 26 columns</p>\n",
       "</div>"
      ],
      "text/plain": [
       "               Gene ID   Gene Name  1008, adipose tissue  1008, liver  \\\n",
       "7224   ENSG00000137699      TRIM29                   0.4          0.1   \n",
       "32666  ENSG00000279106  AC009093.7                   1.0          NaN   \n",
       "12795  ENSG00000173442     EHBP1L1                  51.0         10.0   \n",
       "33605  ENSG00000283849  AC092053.3                   NaN          NaN   \n",
       "5098   ENSG00000122335      SERAC1                   2.0          0.7   \n",
       "\n",
       "       1011, adipose tissue  1011, liver  1036, adipose tissue  1036, liver  \\\n",
       "7224                    0.1          0.3                   0.7          0.3   \n",
       "32666                   NaN          NaN                   0.8          NaN   \n",
       "12795                  90.0         18.0                  64.0         10.0   \n",
       "33605                   NaN          NaN                   NaN          NaN   \n",
       "5098                    3.0          0.9                   3.0          0.9   \n",
       "\n",
       "       1038, adipose tissue  1038, liver  ...  1055, adipose tissue  \\\n",
       "7224                    0.2          0.1  ...                   NaN   \n",
       "32666                   NaN          2.0  ...                   NaN   \n",
       "12795                  33.0         14.0  ...                  83.0   \n",
       "33605                   NaN          3.0  ...                   NaN   \n",
       "5098                    2.0          0.4  ...                   3.0   \n",
       "\n",
       "       1055, liver  1058, adipose tissue  1058, liver  1061, adipose tissue  \\\n",
       "7224           0.1                   0.6          0.2                   2.0   \n",
       "32666          NaN                   NaN          NaN                   1.0   \n",
       "12795          9.0                  74.0          8.0                  54.0   \n",
       "33605          NaN                   NaN          NaN                   NaN   \n",
       "5098           0.9                   4.0          1.0                   1.0   \n",
       "\n",
       "       1061, liver  1100, adipose tissue  1100, liver  1104, adipose tissue  \\\n",
       "7224           0.4                   0.7          0.3                   0.3   \n",
       "32666          1.0                   NaN          2.0                   NaN   \n",
       "12795         10.0                  51.0         15.0                  59.0   \n",
       "33605          NaN                   NaN          NaN                   NaN   \n",
       "5098           1.0                   3.0          0.4                   2.0   \n",
       "\n",
       "       1104, liver  \n",
       "7224           0.9  \n",
       "32666          3.0  \n",
       "12795         13.0  \n",
       "33605          NaN  \n",
       "5098           1.0  \n",
       "\n",
       "[5 rows x 26 columns]"
      ]
     },
     "execution_count": 1,
     "metadata": {},
     "output_type": "execute_result"
    }
   ],
   "source": [
    "import pandas as pd\n",
    "data = pd.read_csv('files/E-GEOD-83322-query-results.tpms.tsv', sep='\\t', comment='#')\n",
    "data.sample(5)"
   ]
  },
  {
   "cell_type": "markdown",
   "id": "01e07a52-20d0-444e-8fd8-8bcdfc756197",
   "metadata": {},
   "source": [
    "Note that for convenience we are dropping (and renaming) some columns in the metadata file:"
   ]
  },
  {
   "cell_type": "code",
   "execution_count": 2,
   "id": "3caf0ec3-80a6-4280-af17-0f6c056358b5",
   "metadata": {},
   "outputs": [
    {
     "data": {
      "text/html": [
       "<div>\n",
       "<style scoped>\n",
       "    .dataframe tbody tr th:only-of-type {\n",
       "        vertical-align: middle;\n",
       "    }\n",
       "\n",
       "    .dataframe tbody tr th {\n",
       "        vertical-align: top;\n",
       "    }\n",
       "\n",
       "    .dataframe thead th {\n",
       "        text-align: right;\n",
       "    }\n",
       "</style>\n",
       "<table border=\"1\" class=\"dataframe\">\n",
       "  <thead>\n",
       "    <tr style=\"text-align: right;\">\n",
       "      <th></th>\n",
       "      <th>age</th>\n",
       "      <th>bmi</th>\n",
       "      <th>patient</th>\n",
       "      <th>tissue</th>\n",
       "    </tr>\n",
       "  </thead>\n",
       "  <tbody>\n",
       "    <tr>\n",
       "      <th>14</th>\n",
       "      <td>49 year</td>\n",
       "      <td>42.4</td>\n",
       "      <td>1036</td>\n",
       "      <td>adipose tissue</td>\n",
       "    </tr>\n",
       "    <tr>\n",
       "      <th>15</th>\n",
       "      <td>39 year</td>\n",
       "      <td>45.4</td>\n",
       "      <td>1038</td>\n",
       "      <td>adipose tissue</td>\n",
       "    </tr>\n",
       "    <tr>\n",
       "      <th>9</th>\n",
       "      <td>28 year</td>\n",
       "      <td>50.1</td>\n",
       "      <td>1061</td>\n",
       "      <td>liver</td>\n",
       "    </tr>\n",
       "    <tr>\n",
       "      <th>16</th>\n",
       "      <td>28 year</td>\n",
       "      <td>38.1</td>\n",
       "      <td>1040</td>\n",
       "      <td>adipose tissue</td>\n",
       "    </tr>\n",
       "    <tr>\n",
       "      <th>5</th>\n",
       "      <td>41 year</td>\n",
       "      <td>39.0</td>\n",
       "      <td>1045</td>\n",
       "      <td>liver</td>\n",
       "    </tr>\n",
       "  </tbody>\n",
       "</table>\n",
       "</div>"
      ],
      "text/plain": [
       "        age   bmi  patient          tissue\n",
       "14  49 year  42.4     1036  adipose tissue\n",
       "15  39 year  45.4     1038  adipose tissue\n",
       "9   28 year  50.1     1061           liver\n",
       "16  28 year  38.1     1040  adipose tissue\n",
       "5   41 year  39.0     1045           liver"
      ]
     },
     "execution_count": 2,
     "metadata": {},
     "output_type": "execute_result"
    }
   ],
   "source": [
    "mdata = pd.read_csv('files/E-GEOD-83322-experiment-design.tsv', sep='\\t', usecols=[1,3,13,15], header=0, names=['age', 'bmi', 'patient', 'tissue'])\n",
    "mdata.sample(5)"
   ]
  },
  {
   "cell_type": "markdown",
   "id": "1a8366e9-c1de-4898-b192-1cb4c446f17c",
   "metadata": {},
   "source": [
    "## Exercise 1 - Data cleaning"
   ]
  },
  {
   "cell_type": "markdown",
   "id": "526ffd74-22c7-406e-828f-3dcb33c7e8eb",
   "metadata": {},
   "source": [
    "### Exercise 1.1:\n",
    "\n",
    "The metadata table contains two columns that don't have the appropriate type: \n",
    "- **age** is a string (`34 year`), but we would like to have it as a number\n",
    "- the **patient** identifier was loaded as a number, but we would like to have it as a string. \n",
    "\n",
    "Try to fix those two issues."
   ]
  },
  {
   "cell_type": "code",
   "execution_count": 3,
   "id": "69ba1bd1-d421-4b3d-8edc-0c32145f0927",
   "metadata": {},
   "outputs": [],
   "source": [
    "# insert your code here..."
   ]
  },
  {
   "cell_type": "markdown",
   "id": "613c13d0-fb47-4167-a9a3-0929644dcdfe",
   "metadata": {},
   "source": [
    "Click to see solution below:"
   ]
  },
  {
   "cell_type": "code",
   "execution_count": 4,
   "id": "009c6c1d-0493-4ef4-92bd-2fda6fc42a86",
   "metadata": {},
   "outputs": [],
   "source": [
    "mdata['age'] = mdata['age'].apply(lambda x: int(x.split()[0]))\n",
    "mdata['patient'] = mdata['patient'].apply(str)"
   ]
  },
  {
   "cell_type": "markdown",
   "id": "51c499bc-0a57-49c2-b8d1-d657216f0882",
   "metadata": {},
   "source": [
    "### Exercise 1.2: \n",
    "\n",
    "The data table contains several `NaN` values, which most likely correspond to conditions where a transcript was not detected for the respective gene. \n",
    "\n",
    "It also contains entries where a transcript was mapped to different variants of the same gene (example: **ABCF2** is associated with [ENSG00000033050](https://www.ensembl.org/Homo_sapiens/Gene/Summary?db=core;g=ENSG00000033050) and [ENSG00000285292](https://www.ensembl.org/Homo_sapiens/Gene/Summary?db=core;g=ENSG00000285292). \n",
    "\n",
    "- Use `.fillna()` to replace `NaN` with zeros.\n",
    "- Use `.groupby()` and `.agg()` to add up the expression levels for different variants of the same gene.\n",
    "\n",
    "> Tip: use `as_index=False` with `groupby`"
   ]
  },
  {
   "cell_type": "code",
   "execution_count": 5,
   "id": "5e3e9b05-2fa5-4d57-ad6f-4ad5a468fe83",
   "metadata": {},
   "outputs": [],
   "source": [
    "# insert your code here..."
   ]
  },
  {
   "cell_type": "markdown",
   "id": "27c6ef9a-4ff7-4424-8919-1f4abb3dbd70",
   "metadata": {},
   "source": [
    "Click to see solution below:"
   ]
  },
  {
   "cell_type": "code",
   "execution_count": 6,
   "id": "36a2421f-16c4-4cf2-9c56-46b95955db94",
   "metadata": {},
   "outputs": [],
   "source": [
    "data.fillna(0, inplace=True) # alternative: data = data.fillna(0)\n",
    "\n",
    "data = data.groupby('Gene Name', as_index=False).agg(sum)"
   ]
  },
  {
   "cell_type": "markdown",
   "id": "67b7130b-846e-4032-aa3b-d2e1fb706139",
   "metadata": {},
   "source": [
    "### Exercise 1.3:\n",
    "\n",
    "The column identifiers in the data table contain the patient number and the sampled tissue. This makes it harder to group samples by either patient or tissue. \n",
    "\n",
    "- Use `.melt()` to unpivot the table to long-format.\n",
    "- Create two new columns (patient, tissue) by splitting the original identifiers.\n",
    "- Finally, delete the old column."
   ]
  },
  {
   "cell_type": "code",
   "execution_count": 7,
   "id": "f45a89c7-d594-4f68-83dc-aa2a638da1c3",
   "metadata": {},
   "outputs": [],
   "source": [
    "# insert your code here..."
   ]
  },
  {
   "cell_type": "markdown",
   "id": "a69e65ad-ffa7-4bb9-b384-c78c3fa78ab8",
   "metadata": {},
   "source": [
    "Click to see solution below:"
   ]
  },
  {
   "cell_type": "code",
   "execution_count": 8,
   "id": "d010a5f5-4a06-44a0-8fb6-79e9c5ab22b7",
   "metadata": {},
   "outputs": [],
   "source": [
    "data = data.melt(id_vars='Gene Name', var_name='sample')\n",
    "data['individual'] = data['sample'].apply(lambda x: x.split(', ')[0])\n",
    "data['tissue'] = data['sample'].apply(lambda x: x.split(', ')[1])\n",
    "data.drop(columns={'sample'}, inplace=True)"
   ]
  },
  {
   "cell_type": "code",
   "execution_count": 9,
   "id": "918d0f75-fe2f-4295-a3ee-4151a84850e0",
   "metadata": {},
   "outputs": [
    {
     "data": {
      "text/html": [
       "<div>\n",
       "<style scoped>\n",
       "    .dataframe tbody tr th:only-of-type {\n",
       "        vertical-align: middle;\n",
       "    }\n",
       "\n",
       "    .dataframe tbody tr th {\n",
       "        vertical-align: top;\n",
       "    }\n",
       "\n",
       "    .dataframe thead th {\n",
       "        text-align: right;\n",
       "    }\n",
       "</style>\n",
       "<table border=\"1\" class=\"dataframe\">\n",
       "  <thead>\n",
       "    <tr style=\"text-align: right;\">\n",
       "      <th></th>\n",
       "      <th>Gene Name</th>\n",
       "      <th>value</th>\n",
       "      <th>individual</th>\n",
       "      <th>tissue</th>\n",
       "    </tr>\n",
       "  </thead>\n",
       "  <tbody>\n",
       "    <tr>\n",
       "      <th>0</th>\n",
       "      <td>A1BG</td>\n",
       "      <td>0.3</td>\n",
       "      <td>1008</td>\n",
       "      <td>adipose tissue</td>\n",
       "    </tr>\n",
       "    <tr>\n",
       "      <th>1</th>\n",
       "      <td>A1BG-AS1</td>\n",
       "      <td>1.0</td>\n",
       "      <td>1008</td>\n",
       "      <td>adipose tissue</td>\n",
       "    </tr>\n",
       "    <tr>\n",
       "      <th>2</th>\n",
       "      <td>A1CF</td>\n",
       "      <td>0.0</td>\n",
       "      <td>1008</td>\n",
       "      <td>adipose tissue</td>\n",
       "    </tr>\n",
       "    <tr>\n",
       "      <th>3</th>\n",
       "      <td>A2M</td>\n",
       "      <td>590.0</td>\n",
       "      <td>1008</td>\n",
       "      <td>adipose tissue</td>\n",
       "    </tr>\n",
       "    <tr>\n",
       "      <th>4</th>\n",
       "      <td>A2M-AS1</td>\n",
       "      <td>8.0</td>\n",
       "      <td>1008</td>\n",
       "      <td>adipose tissue</td>\n",
       "    </tr>\n",
       "    <tr>\n",
       "      <th>...</th>\n",
       "      <td>...</td>\n",
       "      <td>...</td>\n",
       "      <td>...</td>\n",
       "      <td>...</td>\n",
       "    </tr>\n",
       "    <tr>\n",
       "      <th>817243</th>\n",
       "      <td>ZXDC</td>\n",
       "      <td>12.0</td>\n",
       "      <td>1104</td>\n",
       "      <td>liver</td>\n",
       "    </tr>\n",
       "    <tr>\n",
       "      <th>817244</th>\n",
       "      <td>ZYG11A</td>\n",
       "      <td>0.9</td>\n",
       "      <td>1104</td>\n",
       "      <td>liver</td>\n",
       "    </tr>\n",
       "    <tr>\n",
       "      <th>817245</th>\n",
       "      <td>ZYG11B</td>\n",
       "      <td>17.0</td>\n",
       "      <td>1104</td>\n",
       "      <td>liver</td>\n",
       "    </tr>\n",
       "    <tr>\n",
       "      <th>817246</th>\n",
       "      <td>ZYX</td>\n",
       "      <td>28.0</td>\n",
       "      <td>1104</td>\n",
       "      <td>liver</td>\n",
       "    </tr>\n",
       "    <tr>\n",
       "      <th>817247</th>\n",
       "      <td>ZZEF1</td>\n",
       "      <td>7.0</td>\n",
       "      <td>1104</td>\n",
       "      <td>liver</td>\n",
       "    </tr>\n",
       "  </tbody>\n",
       "</table>\n",
       "<p>817248 rows × 4 columns</p>\n",
       "</div>"
      ],
      "text/plain": [
       "       Gene Name  value individual          tissue\n",
       "0           A1BG    0.3       1008  adipose tissue\n",
       "1       A1BG-AS1    1.0       1008  adipose tissue\n",
       "2           A1CF    0.0       1008  adipose tissue\n",
       "3            A2M  590.0       1008  adipose tissue\n",
       "4        A2M-AS1    8.0       1008  adipose tissue\n",
       "...          ...    ...        ...             ...\n",
       "817243      ZXDC   12.0       1104           liver\n",
       "817244    ZYG11A    0.9       1104           liver\n",
       "817245    ZYG11B   17.0       1104           liver\n",
       "817246       ZYX   28.0       1104           liver\n",
       "817247     ZZEF1    7.0       1104           liver\n",
       "\n",
       "[817248 rows x 4 columns]"
      ]
     },
     "execution_count": 9,
     "metadata": {},
     "output_type": "execute_result"
    }
   ],
   "source": [
    "data"
   ]
  },
  {
   "cell_type": "code",
   "execution_count": 10,
   "id": "4ea94b4d-3bdc-4436-808a-6baac8935e09",
   "metadata": {},
   "outputs": [
    {
     "data": {
      "text/plain": [
       "34052"
      ]
     },
     "execution_count": 10,
     "metadata": {},
     "output_type": "execute_result"
    }
   ],
   "source": [
    "len(set(data['Gene Name']))"
   ]
  },
  {
   "cell_type": "code",
   "execution_count": 37,
   "id": "08eeb6c0-1265-452f-8f6a-711790985161",
   "metadata": {},
   "outputs": [
    {
     "data": {
      "text/plain": [
       "<AxesSubplot:>"
      ]
     },
     "execution_count": 37,
     "metadata": {},
     "output_type": "execute_result"
    },
    {
     "data": {
      "image/png": "[encoded data removed]",
      "text/plain": [
       "<Figure size 432x288 with 1 Axes>"
      ]
     },
     "metadata": {
      "needs_background": "light"
     },
     "output_type": "display_data"
    }
   ],
   "source": [
    "import numpy as np\n",
    "\n",
    "np.log10(data['value'] + 1e-6).hist(bins=20)"
   ]
  },
  {
   "cell_type": "code",
   "execution_count": 19,
   "id": "a28cece8-ae2a-4001-bba1-bce976eb14fa",
   "metadata": {},
   "outputs": [
    {
     "data": {
      "text/plain": [
       "-1.0"
      ]
     },
     "execution_count": 19,
     "metadata": {},
     "output_type": "execute_result"
    }
   ],
   "source": [
    "np.log10(0.1)"
   ]
  },
  {
   "cell_type": "code",
   "execution_count": null,
   "id": "d9c11e0c-fdc3-4cdc-9a9e-5d5091cb8b73",
   "metadata": {},
   "outputs": [],
   "source": []
  }
 ],
 "metadata": {
  "kernelspec": {
   "display_name": "Python 3 (ipykernel)",
   "language": "python",
   "name": "python3"
  },
  "language_info": {
   "codemirror_mode": {
    "name": "ipython",
    "version": 3
   },
   "file_extension": ".py",
   "mimetype": "text/x-python",
   "name": "python",
   "nbconvert_exporter": "python",
   "pygments_lexer": "ipython3",
   "version": "3.8.8"
  }
 },
 "nbformat": 4,
 "nbformat_minor": 5
}
