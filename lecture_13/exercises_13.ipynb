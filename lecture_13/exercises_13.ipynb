{
 "cells": [
  {
   "cell_type": "markdown",
   "id": "815502d1-83da-4404-b175-ea534798be9c",
   "metadata": {},
   "source": [
    "# Lecture 13 - Introduction to Data Science\n",
    "\n",
    "In this lecture you had a short introduction to the growing field of *Data Science* that will be useful for working with different kinds of data. \n",
    "\n",
    "In this tutorial we will focus on using gene expression data. In particular, we will use data from this publication [(Lee et al, 2016)](https://www.sciencedirect.com/science/article/pii/S1550413116302480) that analysed gene expression levels of liver and adipose tissue of 12 obese patients undergoing bariatric surgery.\n",
    "\n",
    "- The RNA-seq data was initially submitted to the Gene Expression Omnibus [(GSE83322)](https://www.ncbi.nlm.nih.gov/geo/query/acc.cgi?acc=GSE83322). Here you can see more details about the sequencing protocol and obtain the raw sequencing data.\n",
    "- This data is also available at the Expression Atlas [(E-GEOD-83322)](https://www.ebi.ac.uk/gxa/experiments/E-GEOD-83322/Results). A selection of post-processed and manually curated gene and protein expression datasets. \n",
    "\n",
    "Let's begin by loading the data and metadata tables into Pandas dataframes:"
   ]
  },
  {
   "cell_type": "code",
   "execution_count": null,
   "id": "9d352b03-6e8a-4e83-bc58-9923804f8416",
   "metadata": {},
   "outputs": [],
   "source": [
    "import pandas as pd\n",
    "data = pd.read_csv('files/E-GEOD-83322-query-results.tpms.tsv', sep='\\t', comment='#')\n",
    "data.sample(5)"
   ]
  },
  {
   "cell_type": "markdown",
   "id": "01e07a52-20d0-444e-8fd8-8bcdfc756197",
   "metadata": {},
   "source": [
    "Note that for convenience we are dropping (and renaming) some columns in the metadata file:"
   ]
  },
  {
   "cell_type": "code",
   "execution_count": null,
   "id": "3caf0ec3-80a6-4280-af17-0f6c056358b5",
   "metadata": {},
   "outputs": [],
   "source": [
    "mdata = pd.read_csv('files/E-GEOD-83322-experiment-design.tsv', sep='\\t', usecols=[1,3,13,15],\n",
    "                    header=0, names=['age', 'bmi', 'patient', 'tissue'])\n",
    "mdata.sample(5)"
   ]
  },
  {
   "cell_type": "markdown",
   "id": "1a8366e9-c1de-4898-b192-1cb4c446f17c",
   "metadata": {},
   "source": [
    "## Exercise 1 - Data cleaning"
   ]
  },
  {
   "cell_type": "markdown",
   "id": "526ffd74-22c7-406e-828f-3dcb33c7e8eb",
   "metadata": {},
   "source": [
    "### Exercise 1.1:\n",
    "\n",
    "The metadata table contains two columns that don't have the appropriate type: \n",
    "- **age** is a string (`34 year`), but we would like to have it as a number\n",
    "- the **patient** identifier was loaded as a number, but we would like to have it as a string. \n",
    "\n",
    "Try to fix those two issues."
   ]
  },
  {
   "cell_type": "code",
   "execution_count": null,
   "id": "69ba1bd1-d421-4b3d-8edc-0c32145f0927",
   "metadata": {},
   "outputs": [],
   "source": [
    "# insert your code here..."
   ]
  },
  {
   "cell_type": "markdown",
   "id": "613c13d0-fb47-4167-a9a3-0929644dcdfe",
   "metadata": {},
   "source": [
    "Click to see solution below:"
   ]
  },
  {
   "cell_type": "code",
   "execution_count": null,
   "id": "009c6c1d-0493-4ef4-92bd-2fda6fc42a86",
   "metadata": {
    "jupyter": {
     "source_hidden": true
    },
    "tags": []
   },
   "outputs": [],
   "source": [
    "mdata['age'] = mdata['age'].apply(lambda x: int(x.split()[0]))\n",
    "mdata['patient'] = mdata['patient'].apply(str)"
   ]
  },
  {
   "cell_type": "markdown",
   "id": "51c499bc-0a57-49c2-b8d1-d657216f0882",
   "metadata": {},
   "source": [
    "### Exercise 1.2: \n",
    "\n",
    "The data table contains several `NaN` values, which most likely correspond to conditions where a transcript was not detected for the respective gene. \n",
    "\n",
    "It also contains entries where a transcript was mapped to different variants of the same gene (example: **ABCF2** is associated with [ENSG00000033050](https://www.ensembl.org/Homo_sapiens/Gene/Summary?db=core;g=ENSG00000033050) and [ENSG00000285292](https://www.ensembl.org/Homo_sapiens/Gene/Summary?db=core;g=ENSG00000285292). \n",
    "\n",
    "- Use `.fillna()` to replace `NaN` with zeros.\n",
    "- Use `.groupby()` and `.agg()` to add up the expression levels for different variants of the same gene.\n",
    "- Use `.rename()` to rename the column from `Gene Name` to `gene`.\n",
    "\n",
    "> Tip: use `as_index=False` with `groupby`"
   ]
  },
  {
   "cell_type": "code",
   "execution_count": null,
   "id": "5e3e9b05-2fa5-4d57-ad6f-4ad5a468fe83",
   "metadata": {},
   "outputs": [],
   "source": [
    "# insert your code here..."
   ]
  },
  {
   "cell_type": "markdown",
   "id": "27c6ef9a-4ff7-4424-8919-1f4abb3dbd70",
   "metadata": {},
   "source": [
    "Click to see solution below:"
   ]
  },
  {
   "cell_type": "code",
   "execution_count": null,
   "id": "36a2421f-16c4-4cf2-9c56-46b95955db94",
   "metadata": {
    "jupyter": {
     "source_hidden": true
    },
    "tags": []
   },
   "outputs": [],
   "source": [
    "data.fillna(0, inplace=True) \n",
    "#alternative: data = data.fillna(0)\n",
    "\n",
    "data = data.groupby('Gene Name', as_index=False).agg(sum)\n",
    "data.rename(columns={'Gene Name': 'gene'}, inplace=True)"
   ]
  },
  {
   "cell_type": "markdown",
   "id": "67b7130b-846e-4032-aa3b-d2e1fb706139",
   "metadata": {},
   "source": [
    "### Exercise 1.3:\n",
    "\n",
    "The column identifiers in the data table contain the patient number and the sampled tissue. This makes it harder to group samples by either patient or tissue. \n",
    "\n",
    "- Use `.melt()` to unpivot the table to long-format.\n",
    "- Create two new columns (patient, tissue) by splitting the original identifiers.\n",
    "- Finally, delete the old column."
   ]
  },
  {
   "cell_type": "code",
   "execution_count": null,
   "id": "f45a89c7-d594-4f68-83dc-aa2a638da1c3",
   "metadata": {},
   "outputs": [],
   "source": [
    "# insert your code here..."
   ]
  },
  {
   "cell_type": "markdown",
   "id": "a69e65ad-ffa7-4bb9-b384-c78c3fa78ab8",
   "metadata": {},
   "source": [
    "Click to see solution below:"
   ]
  },
  {
   "cell_type": "code",
   "execution_count": null,
   "id": "d010a5f5-4a06-44a0-8fb6-79e9c5ab22b7",
   "metadata": {
    "jupyter": {
     "source_hidden": true
    },
    "tags": []
   },
   "outputs": [],
   "source": [
    "data = data.melt(id_vars='gene', var_name='sample')\n",
    "data['patient'] = data['sample'].apply(lambda x: x.split(', ')[0])\n",
    "data['tissue'] = data['sample'].apply(lambda x: x.split(', ')[1])\n",
    "data.drop(columns={'sample'}, inplace=True)"
   ]
  },
  {
   "cell_type": "markdown",
   "id": "a9e4d2e0-03db-444f-a07b-7b9a34857b2e",
   "metadata": {},
   "source": [
    "## Exercise 2 - Data Exploration\n",
    "\n",
    "Now that we have the data in *long format* we can try to analyse the overall distribution of gene expression values by plotting a histogram. \n",
    "\n",
    "You can do this directly from the pandas Dataframe:"
   ]
  },
  {
   "cell_type": "code",
   "execution_count": null,
   "id": "e079f44d-5c00-4130-8aad-30db90b5281f",
   "metadata": {},
   "outputs": [],
   "source": [
    "data['value'].hist()"
   ]
  },
  {
   "cell_type": "markdown",
   "id": "23ecc177-bec8-4f09-85f0-78e3a18d3079",
   "metadata": {},
   "source": [
    "Well, that wasn't so helpful after all... Let's try a box plot? "
   ]
  },
  {
   "cell_type": "code",
   "execution_count": null,
   "id": "db0b747c-1dfc-4dd0-b358-6707b33f3cb2",
   "metadata": {},
   "outputs": [],
   "source": [
    "data['value'].plot.box()"
   ]
  },
  {
   "cell_type": "markdown",
   "id": "119826db-3543-4253-b8f0-be98b063e464",
   "metadata": {},
   "source": [
    "It looks like the distribution is *very skewed*. The median is quite low compared to the values of the outliers. \n",
    "\n",
    "Here is another way to inspect that:"
   ]
  },
  {
   "cell_type": "code",
   "execution_count": null,
   "id": "ecee3f29-b8b7-40e2-a308-56c51f342a25",
   "metadata": {},
   "outputs": [],
   "source": [
    "data['value'].describe()"
   ]
  },
  {
   "cell_type": "markdown",
   "id": "23880c72-9baf-4087-b207-faa5e549769a",
   "metadata": {},
   "source": [
    "### Exercise 2.1\n",
    "\n",
    "Try to re-scale the data by converting it to a log-scale and plot the histogram again.\n",
    "\n",
    "> Tip: you cannot convert the zero values to log-scale, can you find a quick and dirty fix for this?\n",
    "> (What is the smallest non-zero value?)"
   ]
  },
  {
   "cell_type": "code",
   "execution_count": null,
   "id": "41f8826e-f376-4121-8754-05d0dcf3720a",
   "metadata": {},
   "outputs": [],
   "source": [
    "import numpy as np \n",
    "# now you can use np.log10()\n",
    "\n",
    "# insert your code here"
   ]
  },
  {
   "cell_type": "markdown",
   "id": "fee2c69b-d5fe-467b-8dba-17d7fed14cdf",
   "metadata": {},
   "source": [
    "Click to see solution below:"
   ]
  },
  {
   "cell_type": "code",
   "execution_count": null,
   "id": "f62c55fb-6b52-428e-996a-85a7e762a4d9",
   "metadata": {
    "jupyter": {
     "source_hidden": true
    },
    "tags": []
   },
   "outputs": [],
   "source": [
    "# the lowest non-zero value in the data is 0.1 because the values were stored with only one decimal place\n",
    "# replacing zeros with a value lower than 0.1 makes them easy to distinguish\n",
    "\n",
    "data['log_value'] = np.log10(data['value'] + 1e-3)\n",
    "data['log_value'].hist(bins=30, log=True)"
   ]
  },
  {
   "cell_type": "markdown",
   "id": "c65683b0-b4b3-4bd1-98fb-e15504b07d99",
   "metadata": {},
   "source": [
    "For the rest of this tutorial, let's keep only the genes that have been detected in all conditions:"
   ]
  },
  {
   "cell_type": "code",
   "execution_count": null,
   "id": "5ab8b231-b8e7-48e2-98eb-6518c225c8bc",
   "metadata": {},
   "outputs": [],
   "source": [
    "data = data.groupby('gene').filter(lambda x: x['value'].min() > 0)"
   ]
  },
  {
   "cell_type": "markdown",
   "id": "e2e705be-5605-41cb-811c-602c16de1d4f",
   "metadata": {},
   "source": [
    "### Exercise 2.2\n",
    "\n",
    "One important aspect to consider is that *metadata* means *data about the data*. This means that you *can* (and often *should*) explore the metadata. \n",
    "\n",
    "Use a scatterplot (`df.plot.scatter()`) to see if there is a correlation between **age** and **BMI** (body mass index).\n",
    "\n",
    "> Advanced: use instead `regplot` from the [seaborn library](https://seaborn.pydata.org/generated/seaborn.regplot.html) to also plot a regression line."
   ]
  },
  {
   "cell_type": "code",
   "execution_count": null,
   "id": "2c50ed41-2b88-434d-9c0b-00dee9f5871d",
   "metadata": {},
   "outputs": [],
   "source": [
    "# Type your code here..."
   ]
  },
  {
   "cell_type": "markdown",
   "id": "be0dcb5d-4dfd-4519-8c86-bfdc636dbe44",
   "metadata": {},
   "source": [
    "Click to see solution below..."
   ]
  },
  {
   "cell_type": "code",
   "execution_count": null,
   "id": "a982aed8-2735-4c29-a779-7427eb97d622",
   "metadata": {
    "jupyter": {
     "source_hidden": true
    },
    "tags": []
   },
   "outputs": [],
   "source": [
    "import seaborn as sns\n",
    "sns.regplot(data=mdata, x='age', y='bmi')"
   ]
  },
  {
   "cell_type": "markdown",
   "id": "75c8a0b5-06eb-49bb-a077-1f0c8ce2f7e4",
   "metadata": {},
   "source": [
    "### Exercise 2.3\n",
    "\n",
    "Let's try to understand if there is more variation in gene expression across patients or tissues.\n",
    "\n",
    "- Create a new dataframe in wide format using `.pivot()`.\n",
    "- Use the genes as rows, patients and tissues as columns, and take the log-normalized values.\n",
    "- Use seaborn [clustermap](https://seaborn.pydata.org/generated/seaborn.clustermap.html#seaborn.clustermap) to plot the data. You can use [ColorBrewer](https://colorbrewer2.org/) to find a better colormap (`cmap`)."
   ]
  },
  {
   "cell_type": "code",
   "execution_count": null,
   "id": "5e190b99-b00e-4b98-81e3-ce063f62962d",
   "metadata": {},
   "outputs": [],
   "source": [
    "# Type your code here..."
   ]
  },
  {
   "cell_type": "markdown",
   "id": "fc2074c0-b641-4ac3-9828-da4d8774f125",
   "metadata": {},
   "source": [
    "Click to see solution below:"
   ]
  },
  {
   "cell_type": "code",
   "execution_count": null,
   "id": "0888636b-2b77-44ee-8faf-1ab16081c005",
   "metadata": {
    "jupyter": {
     "source_hidden": true
    },
    "tags": []
   },
   "outputs": [],
   "source": [
    "df_wide = data.pivot(index='gene', columns=['patient', 'tissue'], values='log_value')\n",
    "sns.clustermap(df_wide, cmap='YlGnBu')"
   ]
  },
  {
   "cell_type": "markdown",
   "id": "c3ddd62f-23ab-4afd-9bd9-74e813618857",
   "metadata": {},
   "source": [
    "> Do you think gene expression is more similar across patients or tissues?"
   ]
  },
  {
   "cell_type": "markdown",
   "id": "11ebf6e5-c3d8-4b22-808e-95264878590f",
   "metadata": {},
   "source": [
    "### Exercise 2.4\n",
    "\n",
    "Can we find correlations between gene expression and age or BMI for the different tissues?\n",
    "\n",
    "- Use `pd.merge()` to merge the data and metadata using patient and tissue as keys.\n",
    "- Create two dataframes (called `df_liver` and `df_adipose`) with separate *adipose tissue* and *liver* data using `.query()` "
   ]
  },
  {
   "cell_type": "code",
   "execution_count": null,
   "id": "a7379799-fd9d-4044-b0f3-89497c8fde89",
   "metadata": {},
   "outputs": [],
   "source": [
    "# type your code here..."
   ]
  },
  {
   "cell_type": "markdown",
   "id": "465ca430-84cb-44b1-bb23-38c1568fbefc",
   "metadata": {},
   "source": [
    "Click to see solution below: "
   ]
  },
  {
   "cell_type": "code",
   "execution_count": null,
   "id": "197c88db-ce4d-412e-90ed-75bbc2704be9",
   "metadata": {
    "jupyter": {
     "source_hidden": true
    },
    "tags": []
   },
   "outputs": [],
   "source": [
    "data = pd.merge(data, mdata, on=['patient', 'tissue'])\n",
    "df_adipose = data.query(\"tissue == 'adipose tissue'\")\n",
    "df_liver = data.query(\"tissue == 'liver'\")"
   ]
  },
  {
   "cell_type": "markdown",
   "id": "d58c4f39-463e-466a-91da-91f876880399",
   "metadata": {},
   "source": [
    "We will now use a little bit of advanced pandas wizardry to create a dataframe with correlations between the two tissues and the two variables (*age* and *BMI*)."
   ]
  },
  {
   "cell_type": "code",
   "execution_count": null,
   "id": "5c07c629-bf26-47cf-b0cf-3e540d24b15e",
   "metadata": {},
   "outputs": [],
   "source": [
    "from scipy.stats import spearmanr\n",
    "\n",
    "corr_liver_age = df_liver.groupby('gene').apply(lambda x: spearmanr(x['age'], x['log_value'])[0])\n",
    "corr_liver_bmi = df_liver.groupby('gene').apply(lambda x: spearmanr(x['bmi'], x['log_value'])[0])\n",
    "corr_adipose_age = df_adipose.groupby('gene').apply(lambda x: spearmanr(x['age'], x['log_value'])[0])\n",
    "corr_adipose_bmi = df_adipose.groupby('gene').apply(lambda x: spearmanr(x['bmi'], x['log_value'])[0])\n",
    "\n",
    "df_corr = pd.DataFrame([corr_liver_age, corr_liver_bmi, corr_adipose_age, corr_adipose_bmi], \n",
    "             index=['liver_age', 'liver_bmi', 'adipose_age', 'adipose_bmi']).T\n",
    "\n",
    "sns.violinplot(data=df_corr)"
   ]
  },
  {
   "cell_type": "markdown",
   "id": "01f6212c-9d67-405c-948b-7b4341ea3568",
   "metadata": {},
   "source": [
    "Find the genes with:\n",
    " - highest correlation with *age* in *liver* tissues\n",
    " - highest correlation with *BMI* in *adipose* tissues\n",
    " \n",
    "and make a scatter plot of *variable vs gene expression*"
   ]
  },
  {
   "cell_type": "code",
   "execution_count": null,
   "id": "d1a1c82a-fb7b-4f5a-9529-2208c6cfb818",
   "metadata": {},
   "outputs": [],
   "source": [
    "# type your code here..."
   ]
  },
  {
   "cell_type": "markdown",
   "id": "142cd39e-a693-4cc4-9f24-13fcd23338f5",
   "metadata": {},
   "source": [
    "Click below to see solution:"
   ]
  },
  {
   "cell_type": "code",
   "execution_count": null,
   "id": "ce0fd96f-20fb-41be-8812-6b8a3ccd1c41",
   "metadata": {
    "jupyter": {
     "source_hidden": true
    },
    "tags": []
   },
   "outputs": [],
   "source": [
    "import matplotlib.pyplot as plt\n",
    "f, axs = plt.subplots(1,2, figsize=(6,3))\n",
    "\n",
    "df_liver.query('gene == \"AC003102.1\"').plot.scatter('age', 'value', ax=axs[0])\n",
    "df_adipose.query('gene == \"HIRA\"').plot.scatter('bmi', 'value', ax=axs[1])\n",
    "\n",
    "f.tight_layout()"
   ]
  },
  {
   "cell_type": "markdown",
   "id": "51674404-ee25-4ec1-9dc2-9d174c7d8e83",
   "metadata": {},
   "source": [
    "Great job! :)"
   ]
  }
 ],
 "metadata": {
  "kernelspec": {
   "display_name": "Python 3 (ipykernel)",
   "language": "python",
   "name": "python3"
  },
  "language_info": {
   "codemirror_mode": {
    "name": "ipython",
    "version": 3
   },
   "file_extension": ".py",
   "mimetype": "text/x-python",
   "name": "python",
   "nbconvert_exporter": "python",
   "pygments_lexer": "ipython3",
   "version": "3.8.8"
  }
 },
 "nbformat": 4,
 "nbformat_minor": 5
}
