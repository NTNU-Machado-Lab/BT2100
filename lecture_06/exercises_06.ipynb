{
 "cells": [
  {
   "cell_type": "markdown",
   "id": "fa78e4a2-ff3a-42e5-8617-37bc6e72b174",
   "metadata": {},
   "source": [
    "# Lecture 6 - From sequences to structures\n",
    "\n",
    "During the lecture you learned about two main types of conserved structures inside a protein, which are related to its function, **motifs** and **domains**."
   ]
  },
  {
   "cell_type": "markdown",
   "id": "7549f52e-8dcb-44ea-b218-54d95116588b",
   "metadata": {
    "tags": []
   },
   "source": [
    "## Sequence motifs\n",
    "\n",
    "Motifs are (typically short) highly conserved sequences of nucleotides or amino acids. \n",
    "\n",
    "Here is an example of a small DNA motif:"
   ]
  },
  {
   "cell_type": "code",
   "execution_count": null,
   "id": "fc7e0a64-81df-483b-a236-fa6578f411d8",
   "metadata": {},
   "outputs": [],
   "source": [
    "from Bio import motifs\n",
    "\n",
    "alignment = [\n",
    "    \"TACAAGGG\",\n",
    "    \"TACAAGGG\",\n",
    "    \"TACGCGGT\",\n",
    "    \"TACACTGG\",\n",
    "    \"TACACTGG\",\n",
    "    \"TACCCGGG\",\n",
    "    \"AACCCGGA\",\n",
    "    \"AATGCAGG\",\n",
    "    \"AATGCCGG\",\n",
    "    \"AATGCCGG\"\n",
    "]\n",
    "\n",
    "motif = motifs.create(alignment)"
   ]
  },
  {
   "cell_type": "markdown",
   "id": "dea2d831-00eb-45e3-9d7f-04a8b4cfde21",
   "metadata": {},
   "source": [
    "We can build a motif from a sequence alignment and calculate a frequency table:"
   ]
  },
  {
   "cell_type": "code",
   "execution_count": null,
   "id": "ffd9f0a1-d01c-41fb-87f1-4bc1b7463645",
   "metadata": {},
   "outputs": [],
   "source": [
    "print(motif.counts)"
   ]
  },
  {
   "cell_type": "markdown",
   "id": "d71063f8-c634-425e-a441-54db9c7d5cc8",
   "metadata": {},
   "source": [
    "The best way to visualize a sequence motif is to create a [*sequence logo*](https://en.wikipedia.org/wiki/Sequence_logo):"
   ]
  },
  {
   "cell_type": "code",
   "execution_count": null,
   "id": "676fddb9-1b7f-4779-af8f-27e68a5cd4a7",
   "metadata": {},
   "outputs": [],
   "source": [
    "motif.weblogo('files/motif.png')\n",
    "from IPython.display import Image\n",
    "Image(filename='files/motif.png') "
   ]
  },
  {
   "cell_type": "markdown",
   "id": "29d98157-a9dd-451a-86a7-e1e5602e90c9",
   "metadata": {},
   "source": [
    "We can also find the most representative (i.e. consensus) sequence for that motif:"
   ]
  },
  {
   "cell_type": "code",
   "execution_count": null,
   "id": "f686da6e-df7b-417e-bab7-fc3b92318d47",
   "metadata": {},
   "outputs": [],
   "source": [
    "print(motif.consensus)"
   ]
  },
  {
   "cell_type": "markdown",
   "id": "710b6b60-b876-4db9-8af3-395765eb00ae",
   "metadata": {},
   "source": [
    "### Exercise 1\n",
    "\n",
    "Here is a sequence logo from a *\"secret\"* motif:\n",
    "\n",
    "![secret motif](files/secret.png)\n",
    "\n",
    "Can you create a sequence alignment that reproduces this motif?\n",
    "\n",
    "> Note: This will require some trial and error. Don't worry about making it perfect."
   ]
  },
  {
   "cell_type": "code",
   "execution_count": null,
   "id": "896d2b2c-b91c-43f7-b8b0-5ee83c1be7fd",
   "metadata": {},
   "outputs": [],
   "source": [
    "# delete the sequences below and create your own\n",
    "\n",
    "my_alignment = [\n",
    "    \"AAAAAAA\",\n",
    "    \"AAAAAAA\",\n",
    "    \"AAAAAAA\",\n",
    "]\n",
    "\n",
    "my_motif = motifs.create(my_alignment)\n",
    "my_motif.weblogo('files/my_motif.png')\n",
    "Image(filename='files/my_motif.png') "
   ]
  },
  {
   "cell_type": "markdown",
   "id": "de2afd41-1bc6-4b28-ad23-4441828747d2",
   "metadata": {
    "tags": []
   },
   "source": [
    "## Protein Domains\n",
    "\n",
    "Domains are (typically large) regions in a protein with a conserved 3D-structure that associated with a given role or function. \n",
    "\n",
    "![SPIKE COV2](files/spike_cov2.png)\n",
    "\n",
    "The figure above shows the location of four domains identified in the spike protein of the SARS-CoV-2 virus."
   ]
  },
  {
   "cell_type": "markdown",
   "id": "de5f75f9-17ca-44cc-ab32-9e949983308f",
   "metadata": {
    "tags": []
   },
   "source": [
    "### Exercise 2: \n",
    "\n",
    "In this exercise we will try to identify these domains using a FASTA file with the protein sequence. \n",
    "\n",
    "#### 2.1 \n",
    "\n",
    "Let's begin by loading the file (under: *files/P0DTC2.faa*) using BioPython : "
   ]
  },
  {
   "cell_type": "code",
   "execution_count": null,
   "id": "9fc86b82-d80a-4bc8-9b52-131b8abacc2b",
   "metadata": {},
   "outputs": [],
   "source": [
    "# type your code here..."
   ]
  },
  {
   "cell_type": "markdown",
   "id": "978c65e4-5fed-48fa-9294-1e255e2a09dd",
   "metadata": {},
   "source": [
    "Click the cell below to show the solution."
   ]
  },
  {
   "cell_type": "code",
   "execution_count": null,
   "id": "86e66986-4e9b-458e-8c6b-a4c9ff8d6555",
   "metadata": {
    "jupyter": {
     "source_hidden": true
    },
    "tags": []
   },
   "outputs": [],
   "source": [
    "from Bio.SeqIO import parse\n",
    "\n",
    "sequences = list(parse('files/P0DTC2.faa', 'fasta'))\n",
    "sequence = sequences[0] # we need to do this because the parser returns a list of sequences even if there is only one\n",
    "print(sequence)"
   ]
  },
  {
   "cell_type": "markdown",
   "id": "cbf9b646-cc82-4c37-a4af-bf222cec73b3",
   "metadata": {},
   "source": [
    "We can use [ScanProsite](https://prosite.expasy.org/scanprosite/) to search for protein domains:"
   ]
  },
  {
   "cell_type": "code",
   "execution_count": null,
   "id": "369d1263-ff82-4b25-a80c-b147756c5470",
   "metadata": {},
   "outputs": [],
   "source": [
    "from Bio.ExPASy.ScanProsite import scan, read\n",
    "domains = read(scan(sequence.seq))\n",
    "\n",
    "for domain in domains:\n",
    "    print(domain)"
   ]
  },
  {
   "cell_type": "markdown",
   "id": "86aca927-cb24-4f59-9b7a-c59f40119b7f",
   "metadata": {},
   "source": [
    "### 2.2\n",
    "\n",
    "Create a loop to iterate over the results above and, for each domain, print the domain identifier (*signature_ac*) followed by the respective amino acid sequence."
   ]
  },
  {
   "cell_type": "code",
   "execution_count": null,
   "id": "072b0dbe-0ac0-476e-85ab-55068c1dfbe3",
   "metadata": {},
   "outputs": [],
   "source": [
    "# type your code here..."
   ]
  },
  {
   "cell_type": "markdown",
   "id": "12050151-7928-4f0a-bd69-3a662c7d1741",
   "metadata": {},
   "source": [
    "Click the cell below to show the solution."
   ]
  },
  {
   "cell_type": "code",
   "execution_count": null,
   "id": "1d697a65-ce7c-4b75-9d4e-9cc0b4d8f8e1",
   "metadata": {
    "jupyter": {
     "source_hidden": true
    },
    "tags": []
   },
   "outputs": [],
   "source": [
    "for domain in domains:\n",
    "    identifier = domain['signature_ac']\n",
    "    start = domain['start'] - 1   # remember: python is 0-indexed\n",
    "    end = domain['stop'] - 1 \n",
    "    domain_seq = sequence.seq[start:end+1]  # remember: the last position is excluded\n",
    "    print(identifier)\n",
    "    print(domain_seq)\n",
    "    print()"
   ]
  },
  {
   "cell_type": "code",
   "execution_count": null,
   "id": "1c6b6a15-8047-41cd-a7fa-c188a9f10cf8",
   "metadata": {},
   "outputs": [],
   "source": []
  }
 ],
 "metadata": {
  "kernelspec": {
   "display_name": "Python 3",
   "language": "python",
   "name": "python3"
  },
  "language_info": {
   "codemirror_mode": {
    "name": "ipython",
    "version": 3
   },
   "file_extension": ".py",
   "mimetype": "text/x-python",
   "name": "python",
   "nbconvert_exporter": "python",
   "pygments_lexer": "ipython3",
   "version": "3.8.8"
  }
 },
 "nbformat": 4,
 "nbformat_minor": 5
}
