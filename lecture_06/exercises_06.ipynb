{
 "cells": [
  {
   "cell_type": "markdown",
   "id": "fa78e4a2-ff3a-42e5-8617-37bc6e72b174",
   "metadata": {},
   "source": [
    "# Lecture 6 - From sequences to structures\n",
    "\n",
    "In this lecture you learned how amino acid sequences lead to protein structures and how conserved regions in a protein, like **motifs** and **domains**, are related to protein function. In this tutorial we will explore some of these elements.\n",
    "\n",
    "### Learning objectives:\n",
    "\n",
    "- Interpret motifs represented as sequence logos\n",
    "- Search for domains in a given sequence\n",
    "- Visualize 3D protein structures"
   ]
  },
  {
   "cell_type": "markdown",
   "id": "7549f52e-8dcb-44ea-b218-54d95116588b",
   "metadata": {
    "tags": []
   },
   "source": [
    "## Sequence motifs\n",
    "\n",
    "Motifs are (typically short) highly conserved sequences of nucleotides or amino acids. \n",
    "\n",
    "Here is an example of a short (hypothetical) DNA motif:"
   ]
  },
  {
   "cell_type": "code",
   "execution_count": null,
   "id": "fc7e0a64-81df-483b-a236-fa6578f411d8",
   "metadata": {},
   "outputs": [],
   "source": [
    "from Bio import motifs\n",
    "\n",
    "alignment = [\n",
    "    \"TACAAGGG\",\n",
    "    \"TACAAGGG\",\n",
    "    \"TACGCGGT\",\n",
    "    \"TACACTGG\",\n",
    "    \"TACACTGG\",\n",
    "    \"TACCCGGG\",\n",
    "    \"AACCCGGA\",\n",
    "    \"AATGCAGG\",\n",
    "    \"AATGCCGG\",\n",
    "    \"AATGCCGG\"\n",
    "]\n",
    "\n",
    "motif = motifs.create(alignment)"
   ]
  },
  {
   "cell_type": "markdown",
   "id": "dea2d831-00eb-45e3-9d7f-04a8b4cfde21",
   "metadata": {},
   "source": [
    "We can build a motif from a sequence alignment and calculate a frequency table:"
   ]
  },
  {
   "cell_type": "code",
   "execution_count": null,
   "id": "ffd9f0a1-d01c-41fb-87f1-4bc1b7463645",
   "metadata": {},
   "outputs": [],
   "source": [
    "print(motif.counts)"
   ]
  },
  {
   "cell_type": "markdown",
   "id": "d71063f8-c634-425e-a441-54db9c7d5cc8",
   "metadata": {},
   "source": [
    "The best way to visualize a sequence motif is to create a [*sequence logo*](https://en.wikipedia.org/wiki/Sequence_logo):"
   ]
  },
  {
   "cell_type": "code",
   "execution_count": null,
   "id": "676fddb9-1b7f-4779-af8f-27e68a5cd4a7",
   "metadata": {},
   "outputs": [],
   "source": [
    "motif.weblogo('files/motif.png', format='png_print', show_fineprint=False, show_xaxis=False, show_yaxis=False, show_errorbars=False)\n",
    "\n",
    "from IPython.display import Image\n",
    "Image(filename='files/motif.png', width=500)"
   ]
  },
  {
   "cell_type": "markdown",
   "id": "55a66908-dc07-43a4-9d5b-1695bc0c3ad9",
   "metadata": {},
   "source": [
    "> **Note:** If the code above doesn't work, you can do this instead:\n",
    "> - `print(motif)`\n",
    "> - copy-paste the output [here](https://weblogo.berkeley.edu/logo.cgi)\n",
    "> - press *create logo* at the bottom of the page"
   ]
  },
  {
   "cell_type": "markdown",
   "id": "29d98157-a9dd-451a-86a7-e1e5602e90c9",
   "metadata": {},
   "source": [
    "We can also find the most representative (i.e. consensus) sequence for that motif:"
   ]
  },
  {
   "cell_type": "code",
   "execution_count": null,
   "id": "f686da6e-df7b-417e-bab7-fc3b92318d47",
   "metadata": {},
   "outputs": [],
   "source": [
    "print(motif.consensus)"
   ]
  },
  {
   "cell_type": "markdown",
   "id": "710b6b60-b876-4db9-8af3-395765eb00ae",
   "metadata": {},
   "source": [
    "### Exercise 1\n",
    "\n",
    "Here is a sequence logo from a *\"secret\"*(*) motif:\n",
    "\n",
    "![secret motif](files/secret.png)\n",
    "\n",
    "Can you create a sequence alignment that reproduces this motif?\n",
    "\n",
    "> Note: This will require some trial and error. Don't worry about making it perfect."
   ]
  },
  {
   "cell_type": "code",
   "execution_count": null,
   "id": "896d2b2c-b91c-43f7-b8b0-5ee83c1be7fd",
   "metadata": {},
   "outputs": [],
   "source": [
    "# delete the sequences below and create your own \n",
    "\n",
    "my_alignment = [\n",
    "    \"AAAAAAAAAAAA\",\n",
    "    \"AAAAAAAAAAAA\",\n",
    "    \"AAAAAAAAAAAA\",\n",
    "    \"AAAAAAAAAAAA\",\n",
    "    \"AAAAAAAAAAAA\",\n",
    "    \"AAAAAAAAAAAA\",\n",
    "    \"AAAAAAAAAAAA\",\n",
    "    \"AAAAAAAAAAAA\",\n",
    "    \"AAAAAAAAAAAA\"\n",
    "]\n",
    "\n",
    "# this code will generate and print the sequence logo\n",
    "\n",
    "my_motif = motifs.create(my_alignment)\n",
    "my_motif.weblogo('files/my_motif.png', format='png_print', show_fineprint=False, show_xaxis=False, show_yaxis=False, show_errorbars=False)\n",
    "\n",
    "Image(filename='files/my_motif.png', width=500) "
   ]
  },
  {
   "cell_type": "markdown",
   "id": "8db77e2f-8769-44d4-9c9c-0772be8d1182",
   "metadata": {},
   "source": [
    "(*) Actually it is not a secret, it is the binding site of the *Rox1* transcription factor of *S. cerevisiae*. \n",
    "You can see the original alignment in this [publication](https://www.nature.com/articles/nbt0406-423)."
   ]
  },
  {
   "cell_type": "markdown",
   "id": "de2afd41-1bc6-4b28-ad23-4441828747d2",
   "metadata": {
    "tags": []
   },
   "source": [
    "## Protein Domains\n",
    "\n",
    "Domains are (typically large) regions in a protein with a conserved 3D-structure that associated with a given role or function. \n",
    "\n",
    "![SPIKE COV2](files/spike_cov2.png)\n",
    "\n",
    "The figure above shows the location of four domains identified in the spike protein of the SARS-CoV-2 virus."
   ]
  },
  {
   "cell_type": "markdown",
   "id": "de5f75f9-17ca-44cc-ab32-9e949983308f",
   "metadata": {
    "tags": []
   },
   "source": [
    "### Exercise 2: \n",
    "\n",
    "In this exercise we will try to identify these domains using a FASTA file with the protein sequence. \n",
    "\n",
    "#### 2.1 \n",
    "\n",
    "Begin by loading the file (under: *files/P0DTC2.faa*) using BioPython and reading the protein sequence. If necessary, use the [documentation](https://biopython.org/wiki/SeqIO) to refresh your memory."
   ]
  },
  {
   "cell_type": "code",
   "execution_count": null,
   "id": "9fc86b82-d80a-4bc8-9b52-131b8abacc2b",
   "metadata": {},
   "outputs": [],
   "source": [
    "# type your code here..."
   ]
  },
  {
   "cell_type": "markdown",
   "id": "978c65e4-5fed-48fa-9294-1e255e2a09dd",
   "metadata": {},
   "source": [
    "Click the cell below to show the solution."
   ]
  },
  {
   "cell_type": "code",
   "execution_count": null,
   "id": "86e66986-4e9b-458e-8c6b-a4c9ff8d6555",
   "metadata": {
    "jupyter": {
     "source_hidden": true
    },
    "tags": []
   },
   "outputs": [],
   "source": [
    "\n",
    "from Bio.SeqIO import parse\n",
    "\n",
    "sequences = list(parse('files/P0DTC2.faa', 'fasta'))\n",
    "sequence = sequences[0] # we need to do this because the parser returns a list of sequences even if there is only one\n",
    "print(sequence)"
   ]
  },
  {
   "cell_type": "markdown",
   "id": "cbf9b646-cc82-4c37-a4af-bf222cec73b3",
   "metadata": {
    "tags": []
   },
   "source": [
    "[ScanProsite](https://prosite.expasy.org/scanprosite/) is a web-based tool that can search motifs and domains in a protein sequence.\n",
    "\n",
    "We can also run ScanProsite directly from BioPython: "
   ]
  },
  {
   "cell_type": "code",
   "execution_count": null,
   "id": "369d1263-ff82-4b25-a80c-b147756c5470",
   "metadata": {},
   "outputs": [],
   "source": [
    "from Bio.ExPASy.ScanProsite import scan, read\n",
    "\n",
    "# here the sequence object is the result from the previous exercise \n",
    "domains = read(scan(sequence.seq))\n",
    "\n",
    "for domain in domains:\n",
    "    print(domain)"
   ]
  },
  {
   "cell_type": "markdown",
   "id": "7a88560e-db67-4298-b9a7-a40dc5eba2c6",
   "metadata": {},
   "source": [
    "> Note: if the code above fails with Error 308, it means that BioPython is using an outdated ScanProsite URL, then please run the code below: "
   ]
  },
  {
   "cell_type": "code",
   "execution_count": null,
   "id": "273265de-d554-4261-b08b-77d558bcb2ed",
   "metadata": {
    "jupyter": {
     "source_hidden": true
    },
    "tags": []
   },
   "outputs": [],
   "source": [
    "\n",
    "def scan(seq):\n",
    "    from urllib.request import urlopen\n",
    "    from urllib.parse import urlencode\n",
    "\n",
    "    parameters = {\"seq\": seq, \"output\": 'xml'}\n",
    "    command = urlencode(parameters)\n",
    "    url = f\"https://prosite.expasy.org/cgi-bin/prosite/scanprosite/PSScan.cgi?{command}\"\n",
    "\n",
    "    return urlopen(url)\n",
    "\n",
    "domains = read(scan(sequence.seq))\n",
    "\n",
    "for domain in domains:\n",
    "    print(domain)"
   ]
  },
  {
   "cell_type": "markdown",
   "id": "b5dfd208-33de-45cd-b854-785d026e56fb",
   "metadata": {},
   "source": [
    "You can see that each domain is a dictionary with some information like:\n",
    "- the start and stop position of each domain along the sequence\n",
    "- the identifier of that domain in the ProSite database\n",
    "- a confidence score for the domain match. \n",
    "\n",
    "We can also get a more detailed description of each domain identifier:"
   ]
  },
  {
   "cell_type": "code",
   "execution_count": null,
   "id": "7ce73444-9e7c-4676-8a91-c0ae1dda2fc2",
   "metadata": {
    "tags": []
   },
   "outputs": [],
   "source": [
    "from Bio import ExPASy\n",
    "from Bio.ExPASy import Prosite\n",
    "\n",
    "for domain in domains:\n",
    "\n",
    "    record = Prosite.read(ExPASy.get_prosite_raw(domain['signature_ac']))\n",
    "    print(record.accession + ': ' + record.description)"
   ]
  },
  {
   "cell_type": "markdown",
   "id": "86aca927-cb24-4f59-9b7a-c59f40119b7f",
   "metadata": {},
   "source": [
    "### 2.2\n",
    "\n",
    "Let's practice our Python skills a bit with a simple exercise. Create a loop to iterate over the domains and, for each domain, print the domain identifier (*signature_ac*) followed by the respective amino acid sequence.\n",
    "\n",
    "> Note: You can use the start and stop positions to *\"crop\"* the sequence of the domain from the original protein sequence:"
   ]
  },
  {
   "cell_type": "code",
   "execution_count": null,
   "id": "072b0dbe-0ac0-476e-85ab-55068c1dfbe3",
   "metadata": {},
   "outputs": [],
   "source": [
    "# type your code here..."
   ]
  },
  {
   "cell_type": "markdown",
   "id": "12050151-7928-4f0a-bd69-3a662c7d1741",
   "metadata": {},
   "source": [
    "Click the cell below to show the solution."
   ]
  },
  {
   "cell_type": "code",
   "execution_count": null,
   "id": "1d697a65-ce7c-4b75-9d4e-9cc0b4d8f8e1",
   "metadata": {
    "jupyter": {
     "source_hidden": true
    },
    "tags": []
   },
   "outputs": [],
   "source": [
    "\n",
    "for domain in domains:\n",
    "    identifier = domain['signature_ac']\n",
    "    start = domain['start'] - 1   # remember: python is 0-indexed\n",
    "    end = domain['stop'] - 1 \n",
    "    domain_seq = sequence.seq[start:end+1]  # remember: when we slice a list, the last position is excluded\n",
    "    print(identifier)\n",
    "    print(domain_seq)\n",
    "    print()"
   ]
  },
  {
   "cell_type": "markdown",
   "id": "bc29face-918c-4d7c-bfb7-e3961d66c614",
   "metadata": {},
   "source": [
    "## Protein structures\n",
    "\n",
    "Now let's load a protein structure for the spike protein. As you can imagine, this has been a very well-studied protein and you can find thousands of experimentally measured structures for this protein on [PDB](https://www.rcsb.org/). \n",
    "\n",
    "For this exercise we will use entry [**6VSB**](https://www.rcsb.org/structure/6VSB).\n",
    "\n",
    "> Check the website for more details on how the structure was measured.\n",
    "\n",
    "![6SVB](files/6vsb_cartoon.png)"
   ]
  },
  {
   "cell_type": "markdown",
   "id": "87b1c23d-a56e-48eb-bac7-79ef998efe1f",
   "metadata": {},
   "source": [
    "### Exercise 3.1\n",
    "\n",
    "Run the code below to import and view the protein using [NGLViewer](https://nglviewer.org/nglview/latest/). \n",
    "\n",
    "- Rotate the protein until it looks like the figure above."
   ]
  },
  {
   "cell_type": "code",
   "execution_count": null,
   "id": "061ec56e-be15-49d2-89ee-593a92003e5a",
   "metadata": {},
   "outputs": [],
   "source": [
    "import nglview as nv\n",
    "view = nv.NGLWidget(height='500px')\n",
    "view.add_pdbid('6VSB')\n",
    "view.clear_representations()\n",
    "view.add_cartoon('protein', color='residueindex', color_scale='RdYlBu', color_reverse=True)\n",
    "view"
   ]
  },
  {
   "cell_type": "markdown",
   "id": "53312585-5f29-4381-a1cd-b91c156ad34c",
   "metadata": {},
   "source": [
    "**NGLViewer** is a very flexible and powerfull library. For instance we can try different visualization styles, and we can highlight specific parts of the protein:"
   ]
  },
  {
   "cell_type": "code",
   "execution_count": null,
   "id": "c16a2206-7a7c-4ecf-845a-dcf278f621e6",
   "metadata": {},
   "outputs": [],
   "source": [
    "view = nv.NGLWidget(height='500px')\n",
    "view.add_pdbid('6VSB')\n",
    "view.clear_representations()\n",
    "view.add_spacefill(selection='protein', color='grey', opacity=0.3)\n",
    "view.add_spacefill(selection='protein and 1-1000', color='red', opacity=0.6)\n",
    "view"
   ]
  },
  {
   "cell_type": "markdown",
   "id": "4eb10560-8a26-413e-bddb-86b9ce12dc98",
   "metadata": {},
   "source": [
    "## 3.2\n",
    "\n",
    "The code above highlighted the first 1000 residues of the protein...\n",
    "\n",
    "- Go back to **exercise 2.1** where you printed the position of the different domains \n",
    "- Where are the start and stop positions of the S1 C-terminal domain (the domain that binds to the human receptor) ?\n",
    "- Modify the code above to highlight only that part.\n",
    "\n",
    "🤔 Does the location of the domain make sense ?\n",
    "\n",
    "> Remember: The spike protein is located on the surface of the virus and is oriented like a cauliflower.\n",
    "\n",
    "![sars-cov-2](files/sars_cov_2.png)"
   ]
  },
  {
   "cell_type": "markdown",
   "id": "f5eb9b43-e37f-4172-a067-ff71388f5df5",
   "metadata": {},
   "source": [
    "## Wrap-up\n",
    "\n",
    "Not a lot of coding today... 😉 \n",
    "\n",
    "Hopefully you now have a better understanding of the interconnection between the **sequence** and **structure** of proteins. "
   ]
  }
 ],
 "metadata": {
  "kernelspec": {
   "display_name": "Python 3 (ipykernel)",
   "language": "python",
   "name": "python3"
  },
  "language_info": {
   "codemirror_mode": {
    "name": "ipython",
    "version": 3
   },
   "file_extension": ".py",
   "mimetype": "text/x-python",
   "name": "python",
   "nbconvert_exporter": "python",
   "pygments_lexer": "ipython3",
   "version": "3.12.0"
  }
 },
 "nbformat": 4,
 "nbformat_minor": 5
}
