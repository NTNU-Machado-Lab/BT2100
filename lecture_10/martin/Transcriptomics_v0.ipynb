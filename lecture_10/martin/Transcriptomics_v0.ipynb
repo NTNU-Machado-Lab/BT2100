{
 "cells": [
  {
   "cell_type": "markdown",
   "id": "e990ef55-d016-4342-a569-e36fe999608f",
   "metadata": {},
   "source": [
    "Program Dependencies:"
   ]
  },
  {
   "cell_type": "code",
   "execution_count": null,
   "id": "e92ff35a-ec7f-4f3b-9ebf-750ef73e4a66",
   "metadata": {},
   "outputs": [],
   "source": [
    "!conda install -c r r-base # (R version 3.6.1)\n",
    "!conda install -c bioconda hisat2 # Hisat2 version 2.2.1\n",
    "!conda install -c bioconda samtools # samtools version 1.7\n",
    "!conda install -c bioconda subread # subread version 2.0.1 including featureCounts"
   ]
  },
  {
   "cell_type": "markdown",
   "id": "cf64ccac-0dcc-4ceb-8be8-8f6cad21454e",
   "metadata": {},
   "source": [
    "Additional intallations in R:"
   ]
  },
  {
   "cell_type": "code",
   "execution_count": null,
   "id": "6707a7b1-be16-4148-b331-40efdc1ec83b",
   "metadata": {},
   "outputs": [],
   "source": [
    "# Install Bioconductor\n",
    "if (!requireNamespace(\"BiocManager\", quietly = TRUE))\n",
    "    install.packages(\"BiocManager\")\n",
    "BiocManager::install(version = \"3.10\")\n",
    "\n",
    "# R packages\n",
    "BiocManager::install(\"limma\")\n",
    "BiocManager::install(\"edgeR\")"
   ]
  },
  {
   "cell_type": "markdown",
   "id": "b9b3be86-e1e7-4245-82db-454420a5c6c8",
   "metadata": {},
   "source": [
    "Import python packages"
   ]
  },
  {
   "cell_type": "code",
   "execution_count": 2,
   "id": "41bae2e4-7474-4aff-b777-b62c39f43486",
   "metadata": {},
   "outputs": [],
   "source": [
    "import sys,os\n",
    "from numpy import *\n",
    "from matplotlib import *\n",
    "from pylab import *\n",
    "#from scipy import *"
   ]
  },
  {
   "cell_type": "markdown",
   "id": "c6d89123-c685-41e0-b195-64cbab1c33da",
   "metadata": {},
   "source": [
    "Run hisat2 spliced alignment\n",
    "forward reads: LNCaP_red_rep6_1.fastq\n",
    "reverse reads: LNCaP_red_rep6_2.fastq\n",
    "hisat2-indexed reference genome: Human_hg20/genome_tran  "
   ]
  },
  {
   "cell_type": "code",
   "execution_count": null,
   "id": "cb25b377-00d1-4c61-b21b-9e24a06611ca",
   "metadata": {},
   "outputs": [],
   "source": [
    "!hisat2 -p 1 --dta -x Human_hg20/genome_tran -1 LNCaP_red_rep6_1.fastq -2 LNCaP_red_rep6_2.fastq -S LNCaP_rep6.sam 2>summary.txt"
   ]
  },
  {
   "cell_type": "markdown",
   "id": "010f5cc6-8469-4a13-a58b-8e9e2284e499",
   "metadata": {},
   "source": [
    "Convert from .sam to .bam format using samtools"
   ]
  },
  {
   "cell_type": "code",
   "execution_count": null,
   "id": "8c91d8f5-3e73-4b9f-a4a9-6c9861e78541",
   "metadata": {},
   "outputs": [],
   "source": [
    "!samtools view -bS LNCaP_rep6.sam > LNCaP_rep6.bam"
   ]
  },
  {
   "cell_type": "markdown",
   "id": "eb0e89fc-c3ab-4de3-96bf-922a011336ba",
   "metadata": {},
   "source": [
    "Sort .bam file using samtools"
   ]
  },
  {
   "cell_type": "code",
   "execution_count": null,
   "id": "5c8bba31-9d7e-4855-b3d3-0d933a3aa7ec",
   "metadata": {},
   "outputs": [],
   "source": [
    "!samtools sort LNCaP_rep6.bam -o LNCaP_rep6_sorted.bam"
   ]
  },
  {
   "cell_type": "markdown",
   "id": "29ba5a70-faef-42d0-a8ba-652f553832a2",
   "metadata": {},
   "source": [
    "Make count-table (one sample) using featureCounts\n",
    "Reference transcriptome annotation: Homo_sapiens.GRCh38.84.gtf"
   ]
  },
  {
   "cell_type": "code",
   "execution_count": null,
   "id": "7b00dbe8-5ff7-4348-be8a-98db5a7c9255",
   "metadata": {},
   "outputs": [],
   "source": [
    "!featureCounts -T 1 -t exon -g gene_id -O -a Homo_sapiens.GRCh38.84.gtf -o count-1smp.txt LNCaP_rep6_sorted.bam"
   ]
  },
  {
   "cell_type": "markdown",
   "id": "df6c3b3f-5d58-436c-9263-ae538265dbfa",
   "metadata": {},
   "source": [
    "Clean count-table for differential expression"
   ]
  },
  {
   "cell_type": "code",
   "execution_count": null,
   "id": "487af21d-de82-4ed0-bc11-45e0a12cfed1",
   "metadata": {},
   "outputs": [],
   "source": [
    "!python fcnts2dseq.py count-1smp.txt"
   ]
  },
  {
   "cell_type": "markdown",
   "id": "9dd9e17e-e409-42de-96ed-7b4dfedf1146",
   "metadata": {},
   "source": [
    "For differential expression we will use a prepared count-table with 12 samples, 6 LNCaP and 6 RWPE"
   ]
  },
  {
   "cell_type": "markdown",
   "id": "c9113028-f04d-4afb-a77a-7987b5b084b2",
   "metadata": {},
   "source": [
    "R-script to perform differential expression in Limma-Voom\n",
    "Input table: count-table.tsv"
   ]
  },
  {
   "cell_type": "code",
   "execution_count": null,
   "id": "7512a8b8-db89-4c10-a6bc-3035ee954863",
   "metadata": {},
   "outputs": [],
   "source": [
    "##############################################################\n",
    "### Script for differential expression analysis using Voom ###\n",
    "##############################################################\n",
    "\n",
    "### Load limma-package (which includes Voom) ###\n",
    "library(limma)\n",
    "library(edgeR)\n",
    "\n",
    "### load data table ###\n",
    "countTable = read.table(\"count-table.tsv\",header=TRUE,row.names=1)\n",
    "\n",
    "###########################################################\n",
    "\n",
    "### create condition ###\n",
    "condition = factor( c(\"LNCaP\",\"LNCaP\",\"LNCaP\",\"LNCaP\",\"LNCaP\",\"LNCaP\",\n",
    "                        \"RWPE\",\"RWPE\",\"RWPE\",\"RWPE\",\"RWPE\",\"RWPE\"))\n",
    "\n",
    "### create design matrix ###\n",
    "des = model.matrix(~-1+condition)\n",
    "colnames(des) = levels(condition)\n",
    "\n",
    "### define contrasts (which groups to compare) ###\n",
    "cmat <- makeContrasts(LNCaP - RWPE, levels=des)\n",
    "\n",
    "### Normalise count-table ###\n",
    "dge <- DGEList(counts=countTable)\n",
    "dge <- calcNormFactors(dge)\n",
    "\n",
    "## make MDS plot ###\n",
    "snames = colnames(countTable)\n",
    "plotMDS(dge, col = as.numeric(condition)) # Group colors\n",
    "\n",
    "## Cutoff cpm on dge\n",
    "cutoff <- 1\n",
    "drop <- which(apply(cpm(dge), 1, max) < cutoff)\n",
    "dge <- dge[-drop,]\n",
    "dim(dge) # number of genes left (21802)\n",
    "\n",
    "### Fit voom model ###\n",
    "v <- voom(dge,design=des)\n",
    "\n",
    "###  Mean-Variance trend plot ###\n",
    "v <- voom(dge,design=des,plot=T)\n",
    "\n",
    "### fit model\n",
    "fit <- lmFit(v,design=des)\n",
    "fit <- contrasts.fit(fit, cmat)\n",
    "fit <- eBayes(fit)\n",
    "\n",
    "### find differentially expressed transcripts ###\n",
    "a <- decideTests(fit,adjust.method=\"fdr\", p.value=0.05, lfc=0)\n",
    "\n",
    "### summary of result-table ###\n",
    "sma = summary(a)\n",
    "dmm <- dim(countTable)\n",
    "res <- topTable(fit,n=dmm[1],coef=1)\n",
    "\n",
    "### write table with results from differential expression ###\n",
    "write.table(res,file=\"Voom_diffexp.txt\",sep=\"\\t\",row.names=TRUE,col.names=TRUE,quote=FALSE)\n"
   ]
  },
  {
   "cell_type": "markdown",
   "id": "a1d4be9e-d54b-4cd3-8de1-347f72f3a7f4",
   "metadata": {},
   "source": [
    "Add gene-names to Ensembl-id to differential expression table.\n",
    "Use input conversion table: ENS_to_gene-names.txt"
   ]
  },
  {
   "cell_type": "code",
   "execution_count": null,
   "id": "26f3fd72-1e4f-4385-a3e2-a154a9c8e32a",
   "metadata": {},
   "outputs": [],
   "source": [
    "!python replace_ENS_with_gene_symbol_py3.py Voom_diffexp.txt > Voom_diffexp_gnms.txt"
   ]
  },
  {
   "cell_type": "markdown",
   "id": "d8e84a73-abf5-43c6-a469-510dd923b626",
   "metadata": {},
   "source": [
    "Create MAplot and Volcano-plot in python"
   ]
  },
  {
   "cell_type": "code",
   "execution_count": null,
   "id": "833a741c-fa1e-4cc6-8dbd-6e1709593689",
   "metadata": {},
   "outputs": [],
   "source": [
    "# Load differential expression table\n",
    "infile = open('Voom_diffexp_gnms.txt','r')\n",
    "lines = infile.readlines()\n",
    "tbl = []\n",
    "for line in lines:\n",
    "    cols = line.split('\\t')\n",
    "    cols[-1] = cols[-1].strip()\n",
    "    tbl.append(cols)\n",
    "tbl = array(tbl)"
   ]
  },
  {
   "cell_type": "code",
   "execution_count": null,
   "id": "73c34786-b148-4628-8be6-de554a8dee81",
   "metadata": {},
   "outputs": [],
   "source": [
    "# define data columns\n",
    "hdr = tbl[0]\n",
    "tbl = tbl[1:]\n",
    "gnms = tbl[:,0]\n",
    "ensid = tbl[:,1]\n",
    "fc = tbl[:,2].astype(double)\n",
    "avgx = tbl[:,3].astype(double)\n",
    "pval = tbl[:,5].astype(double)\n",
    "qval = tbl[:,6].astype(double)\n",
    "mlogp = -log10(pval)\n",
    "mlogq = -log10(qval)"
   ]
  },
  {
   "cell_type": "code",
   "execution_count": null,
   "id": "3fa08a01-195d-4ccb-b0c6-679114b1d6bc",
   "metadata": {},
   "outputs": [],
   "source": [
    "# find genes with q-value > cutoff (default 0.05) - for MAplot\n",
    "ctf = 0.05\n",
    "id0 = where(qval <= 0.05)[0]\n",
    "id01 = where(fc > 0)[0]\n",
    "id02 = where(fc < 0)[0]\n",
    "id1 = intersect1d(id0,id01)\n",
    "id2 = intersect1d(id0,id02)\n",
    "str1 = 'q > '+str(ctf)\n",
    "str2 = 'q < '+str(ctf)\n",
    "idd = union1d(id1,id2)"
   ]
  },
  {
   "cell_type": "code",
   "execution_count": null,
   "id": "749503d1-22b8-4401-9b90-437f9975ec76",
   "metadata": {},
   "outputs": [],
   "source": [
    "# Create MAplot\n",
    "ff = figure()\n",
    "ff.set_figwidth(12)\n",
    "ff.set_figheight(10)\n",
    "plot(avgx,fc,'k.',ms=2)\n",
    "plot(avgx[id1],fc[id1],'r.',ms=10,label=str1)\n",
    "plot(avgx[id2],fc[id2],'b.',ms=10,label=str2)\n",
    "xlabel('Average log-expression',size=20)\n",
    "ylabel('log-fold-change',size=20)\n",
    "fsz = matplotlib.font_manager.FontProperties(size=20)\n",
    "legend(prop=fsz)\n",
    "#plt.savefig('MA_plot.pdf',format='pdf')"
   ]
  },
  {
   "cell_type": "code",
   "execution_count": null,
   "id": "470c7aa1-4b04-4062-b051-f40b3c058897",
   "metadata": {},
   "outputs": [],
   "source": [
    "# Find top NN differentially expressed genes (default 100) - for Volcano-plot\n",
    "NN = 100\n",
    "id0 = arange(NN)\n",
    "id01 = where(fc > 0)[0]\n",
    "id02 = where(fc < 0)[0]\n",
    "id1 = intersect1d(id0,id01)\n",
    "id2 = intersect1d(id0,id02)\n",
    "str1 = 'top '+str(NN)+' up'\n",
    "str2 = 'top '+str(NN)+' down'\n",
    "idd = union1d(id1,id2)"
   ]
  },
  {
   "cell_type": "code",
   "execution_count": null,
   "id": "6258e269-ef52-4eb7-ad40-399120da43df",
   "metadata": {},
   "outputs": [],
   "source": [
    "# Create Volcano-plot\n",
    "ff = figure()\n",
    "ff.set_figwidth(12)\n",
    "ff.set_figheight(10)\n",
    "plot(fc,mlogp,'k.',ms=2)\n",
    "plot(fc[id1],mlogp[id1],'r.',ms=10,label=str1)\n",
    "plot(fc[id2],mlogp[id2],'b.',ms=10,label=str2)\n",
    "xlabel('Log2 Fold Change',size=20)\n",
    "ylabel('-log10(P-Value)',size=20)\n",
    "fsz = matplotlib.font_manager.FontProperties(size=20)\n",
    "legend(prop=fsz)\n",
    "## add gene-names\n",
    "for i in idd:\n",
    "    tt = text(fc[i],mlogp[i],gnms[i],fontsize=8)\n",
    "#plt.savefig('Volcano_plot.pdf',format='pdf')"
   ]
  }
 ],
 "metadata": {
  "kernelspec": {
   "display_name": "Python 3 (ipykernel)",
   "language": "python",
   "name": "python3"
  },
  "language_info": {
   "codemirror_mode": {
    "name": "ipython",
    "version": 3
   },
   "file_extension": ".py",
   "mimetype": "text/x-python",
   "name": "python",
   "nbconvert_exporter": "python",
   "pygments_lexer": "ipython3",
   "version": "3.7.7"
  }
 },
 "nbformat": 4,
 "nbformat_minor": 5
}
