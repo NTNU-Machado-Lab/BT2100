{
 "cells": [
  {
   "cell_type": "markdown",
   "id": "fa65b47f-75db-4515-9462-f27d8241b42a",
   "metadata": {},
   "source": [
    "### Install Bioconductor libraries"
   ]
  },
  {
   "cell_type": "code",
   "execution_count": null,
   "id": "2aaae783-83c4-4c51-b45c-05c3a817e7ee",
   "metadata": {},
   "outputs": [],
   "source": [
    "# Install Bioconductor (necessary??)\n",
    "if (!requireNamespace(\"BiocManager\", quietly = TRUE))\n",
    "    install.packages(\"BiocManager\")\n",
    "BiocManager::install(version = \"3.10\")"
   ]
  },
  {
   "cell_type": "code",
   "execution_count": null,
   "id": "91bb59f5-39f8-4488-8341-f0089870ff1e",
   "metadata": {},
   "outputs": [],
   "source": [
    "# R packages\n",
    "BiocManager::install(\"limma\")\n",
    "BiocManager::install(\"edgeR\")"
   ]
  },
  {
   "cell_type": "code",
   "execution_count": null,
   "id": "cf354f0c-a266-4c2f-a484-b0b6d6215c92",
   "metadata": {},
   "outputs": [],
   "source": [
    "library(limma)\n",
    "library(edgeR)"
   ]
  }
 ],
 "metadata": {
  "kernelspec": {
   "display_name": "R",
   "language": "R",
   "name": "ir"
  },
  "language_info": {
   "codemirror_mode": "r",
   "file_extension": ".r",
   "mimetype": "text/x-r-source",
   "name": "R",
   "pygments_lexer": "r",
   "version": "3.6.1"
  }
 },
 "nbformat": 4,
 "nbformat_minor": 5
}
