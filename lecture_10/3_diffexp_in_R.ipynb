{
 "cells": [
  {
   "cell_type": "markdown",
   "id": "fa65b47f-75db-4515-9462-f27d8241b42a",
   "metadata": {},
   "source": [
    "### Install Bioconductor libraries"
   ]
  },
  {
   "cell_type": "code",
   "execution_count": null,
   "id": "91bb59f5-39f8-4488-8341-f0089870ff1e",
   "metadata": {},
   "outputs": [],
   "source": [
    "BiocManager::install(\"edgeR\")"
   ]
  },
  {
   "cell_type": "markdown",
   "id": "bd45d8bf-6b2d-4b9d-9b23-9ed989bbfaff",
   "metadata": {},
   "source": [
    "### Load libraries"
   ]
  },
  {
   "cell_type": "code",
   "execution_count": null,
   "id": "cf354f0c-a266-4c2f-a484-b0b6d6215c92",
   "metadata": {},
   "outputs": [],
   "source": [
    "library(limma)\n",
    "library(edgeR)"
   ]
  }
 ],
 "metadata": {
  "kernelspec": {
   "display_name": "R",
   "language": "R",
   "name": "ir"
  },
  "language_info": {
   "codemirror_mode": "r",
   "file_extension": ".r",
   "mimetype": "text/x-r-source",
   "name": "R",
   "pygments_lexer": "r",
   "version": "3.6.1"
  }
 },
 "nbformat": 4,
 "nbformat_minor": 5
}
