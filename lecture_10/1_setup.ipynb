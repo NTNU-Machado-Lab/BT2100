{
 "cells": [
  {
   "cell_type": "markdown",
   "id": "43ba87b7-cb68-4225-8c84-c807fb6a63a5",
   "metadata": {},
   "source": [
    "### Install command-line tools"
   ]
  },
  {
   "cell_type": "code",
   "execution_count": 3,
   "id": "83c75ab0-be83-46cf-a7a5-7e868efe84eb",
   "metadata": {},
   "outputs": [],
   "source": [
    "!conda install -c bioconda hisat2 samtools subread -y"
   ]
  },
  {
   "cell_type": "markdown",
   "id": "18a40899-66a8-41f0-859d-bf2ebcb1aeab",
   "metadata": {},
   "source": [
    "### Install R dependencies and kernel"
   ]
  },
  {
   "cell_type": "code",
   "execution_count": 4,
   "id": "778ad20a-84dd-45bc-8889-447e3735b6ff",
   "metadata": {},
   "outputs": [],
   "source": [
    "!conda install -c r r r-biocmanager r-irkernel -y"
   ]
  },
  {
   "cell_type": "code",
   "execution_count": null,
   "id": "0b424acb-5963-449a-9db6-eeeb99a420be",
   "metadata": {},
   "outputs": [],
   "source": []
  }
 ],
 "metadata": {
  "kernelspec": {
   "display_name": "Python 3 (ipykernel)",
   "language": "python",
   "name": "python3"
  },
  "language_info": {
   "codemirror_mode": {
    "name": "ipython",
    "version": 3
   },
   "file_extension": ".py",
   "mimetype": "text/x-python",
   "name": "python",
   "nbconvert_exporter": "python",
   "pygments_lexer": "ipython3",
   "version": "3.7.12"
  }
 },
 "nbformat": 4,
 "nbformat_minor": 5
}
