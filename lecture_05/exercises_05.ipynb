{
 "cells": [
  {
   "cell_type": "markdown",
   "id": "204298c8-e90c-4c1f-98ea-fd54026ac165",
   "metadata": {},
   "source": [
    "# Lecture 5 - Multiple Sequence Alignment"
   ]
  },
  {
   "cell_type": "markdown",
   "id": "aea7b74e-9266-4a3e-8327-0ac8d1d01cdb",
   "metadata": {},
   "source": [
    "In this tutorial you will learn how to use multiple sequence alignment (MSA) and phylogenetic trees to compare homologous gene and protein sequences and understand their evolution.\n",
    "\n",
    "Again, we will have two options:\n",
    "\n",
    "- Using web interfaces -> [notebook 1](option_1_web.ipynb)\n",
    "- Using the command line -> [notebook 2](option_2_cmd.ipynb)"
   ]
  },
  {
   "cell_type": "markdown",
   "id": "ffa15aed-6e5d-4361-b02a-f6ce6f46ffad",
   "metadata": {},
   "source": [
    "> **Note**: Unfortunately, it seems there are some installation issues with one library (**ete3**) used in option 2, so it is better to use option 1. You can still look through notebook 2 to learn how everything could be done programmatically, or just take a look at some examples in the [ETE Toolkit gallery](http://etetoolkit.org/)."
   ]
  },
  {
   "cell_type": "code",
   "execution_count": null,
   "id": "4b77106f-8c75-4f7d-9002-f7f92535e726",
   "metadata": {},
   "outputs": [],
   "source": []
  }
 ],
 "metadata": {
  "kernelspec": {
   "display_name": "Python 3 (ipykernel)",
   "language": "python",
   "name": "python3"
  },
  "language_info": {
   "codemirror_mode": {
    "name": "ipython",
    "version": 3
   },
   "file_extension": ".py",
   "mimetype": "text/x-python",
   "name": "python",
   "nbconvert_exporter": "python",
   "pygments_lexer": "ipython3",
   "version": "3.10.8"
  },
  "vscode": {
   "interpreter": {
    "hash": "9f894c7364278704108a83365f2f09f6b409d9aa4f470696e61cf208042e86d6"
   }
  }
 },
 "nbformat": 4,
 "nbformat_minor": 5
}
