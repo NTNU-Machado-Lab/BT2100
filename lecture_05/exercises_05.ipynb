{
 "cells": [
  {
   "cell_type": "markdown",
   "id": "204298c8-e90c-4c1f-98ea-fd54026ac165",
   "metadata": {},
   "source": [
    "# Lecture 5 - Multiple Sequence Alignment"
   ]
  },
  {
   "cell_type": "markdown",
   "id": "aea7b74e-9266-4a3e-8327-0ac8d1d01cdb",
   "metadata": {},
   "source": [
    "You can use multiple sequence alignment (MSA) to compare homologous gene and protein sequences and understand their evolution."
   ]
  },
  {
   "cell_type": "markdown",
   "id": "78a58174-ea5f-4efc-80cf-abc32e0205b3",
   "metadata": {},
   "source": [
    "## Software installation\n",
    "\n",
    "Let's begin by installing a few packages that will be required."
   ]
  },
  {
   "cell_type": "code",
   "execution_count": null,
   "id": "d04229c6-3b31-4e2f-b443-10b43c278b22",
   "metadata": {},
   "outputs": [],
   "source": [
    "!mamba install clustalo fasttree -c bioconda -y "
   ]
  },
  {
   "cell_type": "code",
   "execution_count": null,
   "id": "677c727b-6f2c-4372-b9c0-18573cdfd377",
   "metadata": {},
   "outputs": [],
   "source": [
    "!mamba install -c etetoolkit -y ete3 "
   ]
  },
  {
   "cell_type": "markdown",
   "id": "3a6a160c-d09f-43fc-af82-02689505bbd1",
   "metadata": {},
   "source": [
    "### Exercise 1\n",
    "\n",
    "**Glucose-6-phosphate isomerase** (GPI) is an enzyme involved in the first part of glycolysis responsible for converting glucose-6-phosphate to fructose-6-phosphate:\n",
    "\n",
    "![stuff](files/R00771.png)\n",
    "\n",
    "Inside the  `files/` folder you will find the file [gpi.faa](files/gpi.faa) with protein sequences for this enzyme retrieved from different organisms. Let's run an MSA and use that to build a phylogenetic tree.\n",
    "\n",
    "#### Option 1: \n",
    "\n",
    "- Go to [Clustal Omega](https://www.ebi.ac.uk/Tools/msa/clustalo/)\n",
    "- Upload the fasta file and submit\n",
    "- Go to *Phylogenetic Tree* and *Download Phylogenetic Tree Data*\n",
    "\n",
    "\n",
    "#### Option 2:\n",
    "\n",
    "- Run the command below:\n",
    "\n",
    "Here is a quick explanation: this command runs Clustal Omega (`clustalo`) and directly sends the result to the FastTree algorithm using unix pipes (`|`), which will redirect (`>`) its output to a file in Newick (`*.nw`) format (commonly used to represent phylogenetic trees). Don't worry if this sounds too complicated. "
   ]
  },
  {
   "cell_type": "code",
   "execution_count": null,
   "id": "6272dfc6-ce36-48da-9786-aec89d075667",
   "metadata": {},
   "outputs": [],
   "source": [
    "!clustalo -i files/gpi.faa | fasttree -quiet > files/gpi_tree.nw "
   ]
  },
  {
   "cell_type": "markdown",
   "id": "64975681-d70d-46af-88d0-115bf07e92c9",
   "metadata": {},
   "source": [
    "We can now load this tree using the [ETE Toolkit](http://etetoolkit.org/), a powerful Python library for building and visualizing phylogenetic trees."
   ]
  },
  {
   "cell_type": "code",
   "execution_count": null,
   "id": "735a680c-17a5-46b7-9aa7-62a442325334",
   "metadata": {},
   "outputs": [],
   "source": [
    "from ete3 import Tree\n",
    "\n",
    "t = Tree('files/gpi_tree.nw')\n",
    "t.render('%%inline', w=500)"
   ]
  },
  {
   "cell_type": "markdown",
   "id": "167452b8-1f31-456e-aeda-1440294241bd",
   "metadata": {},
   "source": [
    "It is possible to configure several visualization parameters. Let's display our tree as a circular tree instead:"
   ]
  },
  {
   "cell_type": "code",
   "execution_count": null,
   "id": "c0f56c7a-ef2a-4f8a-a42d-5703f53a6c35",
   "metadata": {},
   "outputs": [],
   "source": [
    "from ete3 import TreeStyle\n",
    "\n",
    "ts = TreeStyle()\n",
    "ts.mode = 'c'\n",
    "ts.show_scale = False\n",
    "t.render('%%inline', w=500, tree_style=ts)"
   ]
  },
  {
   "cell_type": "markdown",
   "id": "6b8a0499-6f58-496d-9cce-0ccad2928d3a",
   "metadata": {},
   "source": [
    "**Discussion point:**\n",
    "- Consider the connections in the tree. Is this what you would expect?"
   ]
  },
  {
   "cell_type": "markdown",
   "id": "bdd7d1c0-303e-498c-aab8-9ae479f71ea1",
   "metadata": {},
   "source": [
    "----------\n",
    "\n",
    "### Exercise 2:"
   ]
  },
  {
   "cell_type": "markdown",
   "id": "f2f131cd-ffc6-4c2f-a20b-f86203c3a5b4",
   "metadata": {},
   "source": [
    "**ATP synthase** is a transmembrane protein that uses an electrochemical proton gradient to store energy as ATP. It is a complex portein composed of multiple subunits. \n",
    "\n",
    "![ATP synthase](files/atps.png)\n",
    "\n",
    "Inside the  `files/` folder you will find the file [atps_a.faa](files/atps_a.faa) that contains protein sequences for the **subunit a** of the enzyme complex retrieved from different organisms. Let's repeat the previous exercise using this protein. Again you have two options:\n",
    "\n",
    "#### Option 1: \n",
    "\n",
    "- Go to [Clustal Omega](https://www.ebi.ac.uk/Tools/msa/clustalo/)\n",
    "- Upload the fasta file and submit\n",
    "- Go to *Phylogenetic Tree* and *Download Phylogenetic Tree Data*\n",
    "\n",
    "\n",
    "#### Option 2:\n",
    "\n",
    "- Run the command below:"
   ]
  },
  {
   "cell_type": "code",
   "execution_count": null,
   "id": "1132d52b-68db-4036-9b61-ddfa0679484c",
   "metadata": {},
   "outputs": [],
   "source": [
    "!clustalo -i files/atps_a.faa | fasttree -quiet > files/atps_tree.nw "
   ]
  },
  {
   "cell_type": "markdown",
   "id": "f70ec25f-3cb6-4f16-82d9-cf3b5a9ee8c9",
   "metadata": {},
   "source": [
    "Now it is your turn to load and display the tree using **ETE Toolkit**:"
   ]
  },
  {
   "cell_type": "code",
   "execution_count": null,
   "id": "56fd3c58-d62e-4966-ab63-8f18206b5e36",
   "metadata": {},
   "outputs": [],
   "source": [
    "# type your code here..."
   ]
  },
  {
   "cell_type": "markdown",
   "id": "08ef1fcc-e07b-4664-ae9f-f9c74964bb2c",
   "metadata": {},
   "source": [
    "**Discussion points**:\n",
    "\n",
    "- Does the phylogenetic tree look similar to the previous one?\n",
    "- Can you say something about the evolution of the species by looking at the evolution of individual genes?"
   ]
  },
  {
   "cell_type": "markdown",
   "id": "36ac5850-ff3e-4073-8d98-590f0473a2a0",
   "metadata": {},
   "source": [
    "-----------\n",
    "### Exercise 3\n",
    "\n",
    "Ribosomes are universal proteins present in all life forms. They are complex *\"molecular machines\"* composed of a mixture of RNA (orange) and protein subunits (blue):\n",
    "\n",
    "![ribosome](files/ribosome.png)\n",
    "\n",
    "The (non-protein-coding) ribosomal RNA sequences are typically used for phylogenetic identification of species due to their slow evolution rates and widely conserved sequences. In particular, we use the 16S subunit in prokaryotes and the 18S subunit in eukaryotes.\n",
    "\n",
    "Inside the  `files/` folder you will find the file [18S.fna](files/18S.fna) that contains 18S rRNA sequences for the different organisms we analysed before. Let's once again build a phylogenetic tree.\n",
    "\n",
    "> Keep in mind that this time we are working with an RNA sequence.\n",
    "\n",
    "#### Option 1: \n",
    "\n",
    "- Go to [Clustal Omega](https://www.ebi.ac.uk/Tools/msa/clustalo/)\n",
    "- **Change the input format to RNA**\n",
    "- Upload the fasta file and submit\n",
    "- Go to *Phylogenetic Tree* and *Download Phylogenetic Tree Data*\n",
    "\n",
    "\n",
    "#### Option 2:\n",
    "\n",
    "- Run the command below (note the `-nt` flag):"
   ]
  },
  {
   "cell_type": "code",
   "execution_count": null,
   "id": "422ccc7e-a211-4259-96ad-78771775f7a8",
   "metadata": {},
   "outputs": [],
   "source": [
    "!clustalo -i files/18S.fna | fasttree -quiet -nt > files/18S_tree.nw "
   ]
  },
  {
   "cell_type": "markdown",
   "id": "7b28077b-9623-4083-9479-c1fd67a081bc",
   "metadata": {},
   "source": [
    "Load and display the 18S-based phylogenetic tree using **ETE Toolkit**:"
   ]
  },
  {
   "cell_type": "code",
   "execution_count": null,
   "id": "5a552cf5-9094-44fd-b359-823bbb723b87",
   "metadata": {},
   "outputs": [],
   "source": [
    "# type your code here..."
   ]
  },
  {
   "cell_type": "markdown",
   "id": "c13592db-dd61-4b38-900d-60b59e19fab0",
   "metadata": {},
   "source": [
    "**Discussion points**:\n",
    "\n",
    "- Does this tree look like what you expected?\n",
    "- Can you think of a better way to build a phylogenetic *species* tree? "
   ]
  },
  {
   "cell_type": "code",
   "execution_count": null,
   "id": "9eb115a5-3852-48a4-be3c-78d9133dc802",
   "metadata": {},
   "outputs": [],
   "source": []
  }
 ],
 "metadata": {
  "kernelspec": {
   "display_name": "Python 3 (ipykernel)",
   "language": "python",
   "name": "python3"
  },
  "language_info": {
   "codemirror_mode": {
    "name": "ipython",
    "version": 3
   },
   "file_extension": ".py",
   "mimetype": "text/x-python",
   "name": "python",
   "nbconvert_exporter": "python",
   "pygments_lexer": "ipython3",
   "version": "3.8.2"
  },
  "vscode": {
   "interpreter": {
    "hash": "9f894c7364278704108a83365f2f09f6b409d9aa4f470696e61cf208042e86d6"
   }
  }
 },
 "nbformat": 4,
 "nbformat_minor": 5
}
