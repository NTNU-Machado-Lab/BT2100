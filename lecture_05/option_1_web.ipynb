{
 "cells": [
  {
   "cell_type": "markdown",
   "id": "204298c8-e90c-4c1f-98ea-fd54026ac165",
   "metadata": {},
   "source": [
    "# Lecture 5 - Multiple Sequence Alignment"
   ]
  },
  {
   "cell_type": "markdown",
   "id": "3a6a160c-d09f-43fc-af82-02689505bbd1",
   "metadata": {},
   "source": [
    "### Exercise 1\n",
    "\n",
    "**Glucose-6-phosphate isomerase** (GPI) is an enzyme involved in the first part of glycolysis responsible for converting glucose-6-phosphate to fructose-6-phosphate:\n",
    "\n",
    "![stuff](files/R00771.png)\n",
    "\n",
    "Inside the  `files/` folder you will find the file [gpi.faa](files/gpi.faa) with protein sequences for this enzyme retrieved from different organisms. Let's run an MSA and use that to build a phylogenetic tree.\n",
    "\n",
    "- Go to [Clustal Omega](https://www.ebi.ac.uk/Tools/msa/clustalo/)\n",
    "- Upload the fasta file (or copy-paste) and submit\n",
    "- Go to *Phylogenetic Tree* \n"
   ]
  },
  {
   "cell_type": "markdown",
   "id": "6b8a0499-6f58-496d-9cce-0ccad2928d3a",
   "metadata": {},
   "source": [
    "**Discussion point:**\n",
    "- Consider the connections in the tree. Is this what you would expect?"
   ]
  },
  {
   "cell_type": "markdown",
   "id": "bdd7d1c0-303e-498c-aab8-9ae479f71ea1",
   "metadata": {},
   "source": [
    "----------\n",
    "\n",
    "### Exercise 2:"
   ]
  },
  {
   "cell_type": "markdown",
   "id": "f2f131cd-ffc6-4c2f-a20b-f86203c3a5b4",
   "metadata": {},
   "source": [
    "**ATP synthase** is a transmembrane protein that uses an electrochemical proton gradient to store energy as ATP. It is a complex portein composed of multiple subunits. \n",
    "\n",
    "![ATP synthase](files/atps.png)\n",
    "\n",
    "Inside the  `files/` folder you will find the file [atps_a.faa](files/atps_a.faa) that contains protein sequences for the **subunit a** of the enzyme complex retrieved from different organisms. Let's repeat the previous exercise using this protein. Again you have two options:\n",
    "\n",
    "- Go to [Clustal Omega](https://www.ebi.ac.uk/Tools/msa/clustalo/)\n",
    "- Upload the fasta file (or copy-paste) and submit\n",
    "- Go to *Phylogenetic Tree* \n"
   ]
  },
  {
   "cell_type": "markdown",
   "id": "08ef1fcc-e07b-4664-ae9f-f9c74964bb2c",
   "metadata": {},
   "source": [
    "**Discussion points**:\n",
    "\n",
    "- Does the phylogenetic tree look similar to the previous one?\n",
    "- Can you say something about the evolution of the species by looking at the evolution of individual genes?"
   ]
  },
  {
   "cell_type": "markdown",
   "id": "36ac5850-ff3e-4073-8d98-590f0473a2a0",
   "metadata": {},
   "source": [
    "-----------\n",
    "### Exercise 3\n",
    "\n",
    "Ribosomes are universal proteins present in all life forms. They are complex *\"molecular machines\"* composed of a mixture of RNA (orange) and protein subunits (blue):\n",
    "\n",
    "![ribosome](files/ribosome.png)\n",
    "\n",
    "The (non-protein-coding) ribosomal RNA sequences are typically used for phylogenetic identification of species due to their slow evolution rates and widely conserved sequences. In particular, we use the 16S subunit in prokaryotes and the 18S subunit in eukaryotes.\n",
    "\n",
    "Inside the  `files/` folder you will find the file [18S.fna](files/18S.fna) that contains 18S rRNA sequences for the different organisms we analysed before. Let's once again build a phylogenetic tree.\n",
    "\n",
    "> Keep in mind that this time we are working with an RNA sequence.\n",
    "\n",
    "- Go to [Clustal Omega](https://www.ebi.ac.uk/Tools/msa/clustalo/)\n",
    "- Change the input format to **RNA**\n",
    "- Upload the fasta file (or copy-paste) and submit\n",
    "- Go to *Phylogenetic Tree* "
   ]
  },
  {
   "cell_type": "markdown",
   "id": "c13592db-dd61-4b38-900d-60b59e19fab0",
   "metadata": {},
   "source": [
    "**Discussion points**:\n",
    "\n",
    "- Does this tree look like what you expected?\n",
    "- Can you think of a better way to build a phylogenetic *species* tree? "
   ]
  }
 ],
 "metadata": {
  "kernelspec": {
   "display_name": "Python 3 (ipykernel)",
   "language": "python",
   "name": "python3"
  },
  "language_info": {
   "codemirror_mode": {
    "name": "ipython",
    "version": 3
   },
   "file_extension": ".py",
   "mimetype": "text/x-python",
   "name": "python",
   "nbconvert_exporter": "python",
   "pygments_lexer": "ipython3",
   "version": "3.10.8"
  },
  "vscode": {
   "interpreter": {
    "hash": "9f894c7364278704108a83365f2f09f6b409d9aa4f470696e61cf208042e86d6"
   }
  }
 },
 "nbformat": 4,
 "nbformat_minor": 5
}
