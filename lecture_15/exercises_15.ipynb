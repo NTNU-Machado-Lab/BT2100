{
 "cells": [
  {
   "cell_type": "markdown",
   "id": "815502d1-83da-4404-b175-ea534798be9c",
   "metadata": {},
   "source": [
    "# Lecture 15 - Mechanistic modeling\n",
    "\n",
    "In this lecture you learned about using ordinary differential equations (ODEs) to build mechanistic models of biological systems. In this tutorial we will build a simple model and use it to run simulations."
   ]
  },
  {
   "cell_type": "markdown",
   "id": "7bddec76-0ead-49ec-98fc-b0390afdfd57",
   "metadata": {},
   "source": [
    "## Exercise 0: warm-up\n",
    "\n",
    "Let's say we have two very simple chemical reactions: \n",
    " - $R_1: A \\to B$ with the kinetic rate: $r_1 = k_1 A$\n",
    " - $R_2: B \\to C$ with the kinetic rate: $r_2 = k_2 B$\n",
    " \n",
    "This leads to the following ODE model:\n",
    "\n",
    " - $\\frac{dA}{dt} = -r_1$ \n",
    " - $\\frac{dB}{dt} = r_1 - r_2$\n",
    " - $\\frac{dC}{dt} = r_2$ \n",
    " \n",
    "Let's say the initial concentrations are [A] = 10 mM, [B] = 0 mM, [C] = 0 mM, and the parameter values are $k_1 = 0.1 s^{-1}, k_2 = 0.05 s^{-1}$.\n",
    "\n",
    "We can implement the model as follows:"
   ]
  },
  {
   "cell_type": "code",
   "execution_count": null,
   "id": "2e9b21ed-84be-4ae2-99ae-2f53b3b8479a",
   "metadata": {},
   "outputs": [],
   "source": [
    "def ode(t, X):\n",
    "    \n",
    "    # unpack the values from vector X\n",
    "    a, b, c = X \n",
    "    \n",
    "    # define the parameter values\n",
    "    k1, k2 = 0.1, 0.05 \n",
    "    \n",
    "    # calculate the reaction rates\n",
    "    r1 = k1 * a\n",
    "    r2 = k2 * b\n",
    "    \n",
    "    # calculate the derivatives\n",
    "    da = -r1\n",
    "    db = r1 - r2\n",
    "    dc = r2\n",
    "    \n",
    "    # return the derivatives as a single vector\n",
    "    dX = [da, db, dc]\n",
    "    return dX\n",
    "\n",
    "X0 = [10, 0, 0]"
   ]
  },
  {
   "cell_type": "markdown",
   "id": "e0072a9f-d254-47b5-a401-56c9ebc7b2ce",
   "metadata": {},
   "source": [
    "We can now use function [solve_ivp](https://docs.scipy.org/doc/scipy/reference/generated/scipy.integrate.solve_ivp.html) to simulate the system by integrating the ODE over a given time span. \n",
    "\n",
    "> You will notice that we defined time (`t`) as an argument in the ODE function. \n",
    "> That's because *solve_ivp* is expecting a function with a signature `dX/dt = f(t, X)`. \n",
    "> We could use it to model events that depend explicitly on time. "
   ]
  },
  {
   "cell_type": "code",
   "execution_count": null,
   "id": "3743f84f-3a41-4c56-bf54-2f975f08c6a7",
   "metadata": {},
   "outputs": [],
   "source": [
    "from scipy.integrate import solve_ivp\n",
    "\n",
    "time_span = [0, 100] \n",
    "\n",
    "solution = solve_ivp(ode, time_span, X0)"
   ]
  },
  {
   "cell_type": "markdown",
   "id": "4dda3dd3-3f9e-4100-a4b5-30e57e4e85d0",
   "metadata": {},
   "source": [
    "Let's plot the simulation to see what it looks like:"
   ]
  },
  {
   "cell_type": "code",
   "execution_count": null,
   "id": "5f746834-36c4-42d7-aa83-ad72bb927b5c",
   "metadata": {},
   "outputs": [],
   "source": [
    "import matplotlib.pyplot as plt\n",
    "\n",
    "plt.plot(solution.t, solution.y[0],\n",
    "         solution.t, solution.y[1],\n",
    "         solution.t, solution.y[2])\n",
    "plt.legend(['A', 'B', 'C'])"
   ]
  },
  {
   "cell_type": "markdown",
   "id": "6bcf9f0e-7bb9-4ebb-9dd2-75542da65dfc",
   "metadata": {},
   "source": [
    "You will notice that the curves are not that smooth. We can try a different integration method:"
   ]
  },
  {
   "cell_type": "code",
   "execution_count": null,
   "id": "36571bdd-63ba-4c57-a79e-e776819dd984",
   "metadata": {},
   "outputs": [],
   "source": [
    "solution = solve_ivp(ode, time_span, X0, method='BDF')\n",
    "\n",
    "plt.plot(solution.t, solution.y[0],\n",
    "         solution.t, solution.y[1],\n",
    "         solution.t, solution.y[2])\n",
    "plt.legend(['A', 'B', 'C'])"
   ]
  },
  {
   "cell_type": "markdown",
   "id": "2279112a-e212-4065-9c82-19651da06383",
   "metadata": {},
   "source": [
    "Ok, that looks better. But now we would like to see how changing the parameters would affect the solutions. \n",
    "\n",
    "Unfortunetely, we have *hard-coded* the parameter values inside the ODE function. We should instead make them arguments of the equation:"
   ]
  },
  {
   "cell_type": "code",
   "execution_count": null,
   "id": "3caa9cda-4cd5-473d-baf1-a1cdd9792dd3",
   "metadata": {},
   "outputs": [],
   "source": [
    "def ode(t, X, k1, k2):\n",
    "    \n",
    "    # unpack the values from vector X\n",
    "    a, b, c = X \n",
    "    \n",
    "    # calculate the reaction rates\n",
    "    r1 = k1 * a\n",
    "    r2 = k2 * b\n",
    "    \n",
    "    # calculate the derivatives\n",
    "    da = -r1\n",
    "    db = r1 - r2\n",
    "    dc = r2\n",
    "    \n",
    "    # return the derivatives as a single vector\n",
    "    dX = [da, db, dc]\n",
    "    return dX"
   ]
  },
  {
   "cell_type": "markdown",
   "id": "f33d633f-e1c2-46d0-9755-691b42f76dfb",
   "metadata": {},
   "source": [
    "Now we can run a simulation with different parameter values:"
   ]
  },
  {
   "cell_type": "code",
   "execution_count": null,
   "id": "dce0f467-7d51-481a-a03b-5d0a6002f76b",
   "metadata": {},
   "outputs": [],
   "source": [
    "k1, k2 = 0.02, 0.01\n",
    "\n",
    "solution = solve_ivp(ode, time_span, X0, method='BDF', args=(k1, k2))\n",
    "\n",
    "plt.plot(solution.t, solution.y[0],\n",
    "         solution.t, solution.y[1],\n",
    "         solution.t, solution.y[2])\n",
    "plt.legend(['A', 'B', 'C'])"
   ]
  },
  {
   "cell_type": "markdown",
   "id": "11bb62ba-d417-48d3-a4e7-5c57f595162e",
   "metadata": {},
   "source": [
    "Perfect, now we are warmed-up!"
   ]
  },
  {
   "cell_type": "markdown",
   "id": "e8ad2795-3110-45ca-b7c7-637ae3fbad05",
   "metadata": {},
   "source": [
    "## Exercise 1:\n",
    "\n",
    "We will now model a more complex example. Consider the following toy model of a cell:\n",
    "\n",
    "![toy model](files/toy_model.png)"
   ]
  },
  {
   "cell_type": "markdown",
   "id": "32bb1dd8-3086-4424-99a5-855a3b495d70",
   "metadata": {},
   "source": [
    "The kinetic equations are as follows:\n",
    "\n",
    "- $r_1 = k_1$\n",
    "- $r_2 = V_2\\frac{A}{K_2 + A}\\frac{K_I}{K_I + C}$\n",
    "- $r_3 = V_3\\frac{A}{K_3 + A}$\n",
    "- $r_4 = k_f B - k_r D$\n",
    "- $r_5 = V_5\\frac{B}{K_5 + B}$\n",
    "- $r_6 = k_6 C$\n",
    "- $r_7 = k_7 D$\n",
    "\n",
    "And the parameter values are:\n",
    "\n",
    "| parameter | value | units || parameter | value | units |\n",
    "| --- | --- | --- | --- | --- | --- | --- |\n",
    "| $k_1$ | 5 | mM/s || $k_f$ | 0.01 | 1/s |\n",
    "| $V_2$ | 30 | mM/s || $k_r$ | 0.02 | 1/s |\n",
    "| $K_2$ | 1 | mM || $V_5$ | 10 | mM/s |\n",
    "| $K_I$ | 1 | mM || $K_5$ | 5 | mM |\n",
    "| $V_3$ | 10 | mM/s || $k_6$ | 0.5 | 1/s |\n",
    "| $K_3$ | 5 | mM || $k_7$ | 0.5 | 1/s |"
   ]
  },
  {
   "cell_type": "markdown",
   "id": "6fe3fabb-69ae-4c61-9137-94a66e2402d0",
   "metadata": {},
   "source": [
    "### Exercise 1.1: \n",
    "\n",
    "Implement the model above as an ODE function. To speed thing up it is already partially written, just complete the code below:\n",
    "\n",
    "> Note: We will keep only one parameter ($K_I$) as argument, the rest will be constant."
   ]
  },
  {
   "cell_type": "code",
   "execution_count": null,
   "id": "c387a9bd-65d3-4992-9b37-dfec44ea2d2a",
   "metadata": {},
   "outputs": [],
   "source": [
    "def model(t, X, KI=1):\n",
    "\n",
    "    # unpack values\n",
    "    A, B, C, D = X\n",
    "\n",
    "    # define parameters\n",
    "    k1 = 5\n",
    "    V2 = 30\n",
    "    K2 = 1\n",
    "    V3 = 10\n",
    "    K3 = 5\n",
    "#    kf = \n",
    "#    kr = \n",
    "#    V5 = \n",
    "#    K5 = \n",
    "#    k6 = \n",
    "#    k7 = \n",
    "\n",
    "    # kinetic rates\n",
    "    r1 = k1\n",
    "    r2 = V2 * (A / (K2 + A)) * (KI / (KI + C))\n",
    "    r3 = V3 * (A / (K3 + A))\n",
    "#    r4 = \n",
    "#    r5 = \n",
    "#    r6 = \n",
    "#    r7 = \n",
    "    \n",
    "    # mass balance equations\n",
    "    dA = r1 - r2 - r3\n",
    "    dB = r2 - r4 - r5\n",
    "#    dC = \n",
    "#    dD = \n",
    "    \n",
    "    return [dA, dB, dC, dD]"
   ]
  },
  {
   "cell_type": "markdown",
   "id": "f0f91ddc-5053-4a3b-add6-5904ff1a02a2",
   "metadata": {},
   "source": [
    "Click below to see solution:"
   ]
  },
  {
   "cell_type": "code",
   "execution_count": null,
   "id": "b40603c0-05df-4c14-8488-49639d8f2e5c",
   "metadata": {
    "jupyter": {
     "source_hidden": true
    },
    "tags": []
   },
   "outputs": [],
   "source": [
    "def model(t, X, KI=1):\n",
    "\n",
    "    A, B, C, D = X\n",
    "\n",
    "    k1 = 5\n",
    "    V2 = 30\n",
    "    K2 = 1\n",
    "    V3 = 10\n",
    "    K3 = 5\n",
    "    kf = 0.01\n",
    "    kr = 0.02\n",
    "    V5 = 10\n",
    "    K5 = 5\n",
    "    k6 = 0.5\n",
    "    k7 = 0.5\n",
    "\n",
    "    r1 = k1\n",
    "    r2 = V2 * (A / (K2 + A)) * (KI / (KI + C))\n",
    "    r3 = V3 * (A / (K3 + A))\n",
    "    r4 = kf * B - kr * D\n",
    "    r5 = V5 * (B / (K5 + B))\n",
    "    r6 = k6 * C\n",
    "    r7 = k7 * D\n",
    "    \n",
    "    dA = r1 - r2 - r3\n",
    "    dB = r2 - r4 - r5\n",
    "    dC = r5 - r6\n",
    "    dD = r3 + r4 - r7\n",
    "    \n",
    "    return [dA, dB, dC, dD]"
   ]
  },
  {
   "cell_type": "markdown",
   "id": "14c474f0-733f-4bf9-b402-2a9e178d6951",
   "metadata": {},
   "source": [
    "## Exercise 1.2\n",
    "\n",
    "Now run (and plot) a simulation using the model defined above:\n",
    "    \n",
    "- With initial concentrations of all compounds of 1 mM.\n",
    "- For a time span of 10 seconds."
   ]
  },
  {
   "cell_type": "code",
   "execution_count": null,
   "id": "f92e72fc-da49-495b-9db1-a760ef3857a0",
   "metadata": {},
   "outputs": [],
   "source": [
    "# Type your code here..."
   ]
  },
  {
   "cell_type": "markdown",
   "id": "5dd842c1-8930-4ba7-a396-0b25a18d4690",
   "metadata": {},
   "source": [
    "Click below to see solution:"
   ]
  },
  {
   "cell_type": "code",
   "execution_count": null,
   "id": "f1cc5cba-690a-4967-af66-a18d07399ebe",
   "metadata": {
    "jupyter": {
     "source_hidden": true
    },
    "tags": []
   },
   "outputs": [],
   "source": [
    "X0 = [1, 1, 1, 1]\n",
    "time_span = [0, 10]\n",
    "\n",
    "solution = solve_ivp(model, time_span, X0, method='BDF')\n",
    "\n",
    "plt.plot(solution.t, solution.y[0],\n",
    "         solution.t, solution.y[1],\n",
    "         solution.t, solution.y[2],\n",
    "         solution.t, solution.y[3])\n",
    "\n",
    "plt.legend(['A', 'B', 'C', 'D'])"
   ]
  },
  {
   "cell_type": "markdown",
   "id": "66419501-8359-4175-bb9b-a8a12a8f3984",
   "metadata": {},
   "source": [
    "### Exercise 1.3\n",
    "\n",
    "If everything went well, you will see that **C** accumulates faster than the other compounds. \n",
    "Going back to the diagram you can see that there is a regulatory feedback loop from **C** to **R2** to prevent accumulation in that pathway. This is controlled by the term ($K_I/(K_I + C)$) in rate *r2*.\n",
    "\n",
    "The inhibition constant $K_I$ (mM) represents the affinity of the inhibitor to the enzyme. The lower the value, the higher the affinity, and the stronger the inhibition should be.\n",
    "\n",
    "Let's test the final concentration of **C** (at 10 sec) with different affinity constants:\n",
    "\n",
    "- Run a series of simulations for different values of $K_I$ (0.001, 0.01, 0.1, 1, 10, 100, 1000)\n",
    "- Plot the final concentration of **C** as a function of $K_I$\n",
    "\n",
    "> Note: the solution object from solve_ivp contains a matrix (*y*) with format: num variables vs num time points. You can use `solution.y[2,-1]` to get the final value of *C*."
   ]
  },
  {
   "cell_type": "code",
   "execution_count": null,
   "id": "35657329-e020-44aa-bf89-20f74a7a1fbd",
   "metadata": {},
   "outputs": [],
   "source": [
    "# type your code here..."
   ]
  },
  {
   "cell_type": "markdown",
   "id": "d0545bbc-ecd4-4bfd-8f66-f75a222c7a93",
   "metadata": {},
   "source": [
    "Click below to see solution:"
   ]
  },
  {
   "cell_type": "code",
   "execution_count": null,
   "id": "092c4dd5-be98-4218-9285-8dd4cba7953f",
   "metadata": {
    "jupyter": {
     "source_hidden": true
    },
    "tags": []
   },
   "outputs": [],
   "source": [
    "KIs = [0.001, 0.01, 0.1, 1, 10, 100, 1000]\n",
    "C_final = []\n",
    "\n",
    "for ki in KIs:\n",
    "    solution = solve_ivp(model, [0, 10], X0, args=[ki], method='BDF')\n",
    "    C_final.append(solution.y[2,-1])\n",
    "    \n",
    "plt.semilogx(KIs, C_final, 'o-')\n",
    "plt.xlabel('KI')\n",
    "plt.ylabel('C')"
   ]
  },
  {
   "cell_type": "markdown",
   "id": "77236f07-b28a-4072-90e5-eb2f9fcafc70",
   "metadata": {},
   "source": [
    "## Exercise 2\n",
    "\n",
    "Now let's learn how we can use experimental data to calibrate a model using parameter estimation.\n",
    "\n",
    "We can choose to calibrate all or just some of the kinetic parameters. In this example, reactions R2, R3 and R5 use Michaelis-Menten kinetics, a type of equation that contains two parameters $V_{max}$, the maximum rate achieved when the enzyme is saturated, and $K_M$, that represents the substrate binding affinity.\n",
    "\n",
    "As you can imagine, $V_{max}$ depends on the enzyme abundance. It can also be represented as $k_{cat}[E]$, where $k_{cat}$ is the catalytic rate constant. Therefore, while $k_{cat}$ and $K_M$ are enzyme-specific constants, the enzyme concentration $[E]$ can be controled through gene regulation, making $V_{max}$ a condition-dependent parameter.\n",
    "\n",
    "Let's start by changing the implementation of our model, so that we can more easily change the $V_{max}$ values:"
   ]
  },
  {
   "cell_type": "code",
   "execution_count": null,
   "id": "941364cb-0628-423b-997f-072466c823df",
   "metadata": {},
   "outputs": [],
   "source": [
    "def model(t, X, V2=30, V3=10, V5=10):\n",
    "\n",
    "    A, B, C, D = X\n",
    "\n",
    "    k1 = 5\n",
    "    K2 = 1\n",
    "    KI = 1\n",
    "    K3 = 5\n",
    "    kf = 0.01\n",
    "    kr = 0.02\n",
    "    K5 = 5\n",
    "    k6 = 0.5\n",
    "    k7 = 0.5\n",
    "\n",
    "    r1 = k1\n",
    "    r2 = V2 * (A / (K2 + A)) * (KI / (KI + C))\n",
    "    r3 = V3 * (A / (K3 + A))\n",
    "    r4 = kf * B - kr * D\n",
    "    r5 = V5 * (B / (K5 + B))\n",
    "    r6 = k6 * C\n",
    "    r7 = k7 * D\n",
    "    \n",
    "    dA = r1 - r2 - r3\n",
    "    dB = r2 - r4 - r5\n",
    "    dC = r5 - r6\n",
    "    dD = r3 + r4 - r7\n",
    "    \n",
    "    return [dA, dB, dC, dD]"
   ]
  },
  {
   "cell_type": "markdown",
   "id": "795e889e-58b4-4258-b5e8-bf69a2d9c418",
   "metadata": {},
   "source": [
    "## Exercise 2.1\n",
    "\n",
    "Let's load some (fake) metabolomics data:"
   ]
  },
  {
   "cell_type": "code",
   "execution_count": null,
   "id": "d2905f77-1db2-4411-a760-ca7423ddebc6",
   "metadata": {},
   "outputs": [],
   "source": [
    "import pandas as pd\n",
    "\n",
    "df = pd.read_csv('files/metabolomics.csv')\n",
    "df"
   ]
  },
  {
   "cell_type": "markdown",
   "id": "dc5dde13-0100-4820-ab3a-b83ba95ced84",
   "metadata": {},
   "source": [
    "Now run a simulation and plot the metabolomics data points on top of the concentration curves:"
   ]
  },
  {
   "cell_type": "code",
   "execution_count": null,
   "id": "d339624a-7717-4d3e-8346-16da6185936e",
   "metadata": {},
   "outputs": [],
   "source": [
    "# type your code here..."
   ]
  },
  {
   "cell_type": "markdown",
   "id": "acd4f1d4-c7a0-44e0-9055-577b99fe5862",
   "metadata": {},
   "source": [
    "Click below to see solution:"
   ]
  },
  {
   "cell_type": "code",
   "execution_count": null,
   "id": "5463ed16-e91e-4c46-86c2-cdc4e4b3e135",
   "metadata": {
    "jupyter": {
     "source_hidden": true
    },
    "tags": []
   },
   "outputs": [],
   "source": [
    "X0 = [1, 1, 1, 1]\n",
    "time_span = [0, 10]\n",
    "\n",
    "solution = solve_ivp(model, time_span, X0, method='BDF')\n",
    "\n",
    "plt.plot(solution.t, solution.y[0],\n",
    "         solution.t, solution.y[1],\n",
    "         solution.t, solution.y[2],\n",
    "         solution.t, solution.y[3])\n",
    "\n",
    "plt.scatter(df['time'], df['A'])\n",
    "plt.scatter(df['time'], df['B'])\n",
    "plt.scatter(df['time'], df['C'])\n",
    "plt.scatter(df['time'], df['D'])\n",
    "\n",
    "plt.legend(['A', 'B', 'C', 'D'])"
   ]
  },
  {
   "cell_type": "markdown",
   "id": "93b7391c-7548-4b0e-aef5-469ecd871e3a",
   "metadata": {},
   "source": [
    "## Exercise 2.2\n",
    "\n",
    "As you could see, there is quite a difference between the experimental data and the simulation. We will recalibrate the three $V_{max}$ parameters to try to fit the model to the data.\n",
    "\n",
    "For this we need to minimize the total difference between the experimental and simulated data points. Let's create a function that, given the parameter estimates as input, calculates this difference."
   ]
  },
  {
   "cell_type": "code",
   "execution_count": null,
   "id": "2cc35419-93d6-4c98-9b77-0db31c264065",
   "metadata": {},
   "outputs": [],
   "source": [
    "def error(params):\n",
    "    \n",
    "    # solve ODE and evaluate at same time intervals as data\n",
    "    solution = solve_ivp(model, time_span, X0, args=params, method='BDF', t_eval=df['time'])\n",
    "    \n",
    "    diff_a = sum(abs(solution.y[0] - df['A']))\n",
    "    diff_b = sum(abs(solution.y[1] - df['B']))\n",
    "    diff_c = sum(abs(solution.y[2] - df['C']))\n",
    "    diff_d = sum(abs(solution.y[3] - df['D']))\n",
    "    \n",
    "    return diff_a + diff_b + diff_c + diff_d"
   ]
  },
  {
   "cell_type": "markdown",
   "id": "c88fc070-0326-4758-8e10-17419c5da031",
   "metadata": {},
   "source": [
    "Now use function [minimize](https://docs.scipy.org/doc/scipy/reference/generated/scipy.optimize.minimize.html) from *scipy* to find parameter values that minimize our *error* function. \n",
    "\n",
    "> Tip #1: When you read the documentation, please note the `x0` in this case corresponds to the initial parameter estimates, and `result.x` correspond to the re-estimated parameters.\n",
    "\n",
    "> Tip #2: *minimize* is actually a common wrapper for different minimization methods. Some of these might fail to converge to the correct solution. One way to help them converge is to provide some limits (bounds) to the expected parameter values. In this case, assume that each parameter is in the interval (0, 100) mM/s."
   ]
  },
  {
   "cell_type": "code",
   "execution_count": null,
   "id": "cfcbbe9f-260e-47b5-a901-b076f6ad57aa",
   "metadata": {},
   "outputs": [],
   "source": [
    "from scipy.optimize import minimize\n",
    "\n",
    "# type your code here..."
   ]
  },
  {
   "cell_type": "markdown",
   "id": "afe707ee-507d-419e-a52c-c13783763126",
   "metadata": {},
   "source": [
    "Click below to see solution:"
   ]
  },
  {
   "cell_type": "code",
   "execution_count": null,
   "id": "908fa48a-5ef1-4289-aacf-cd469af4d096",
   "metadata": {
    "jupyter": {
     "source_hidden": true
    },
    "tags": []
   },
   "outputs": [],
   "source": [
    "params0 = [30, 10, 10]\n",
    "result = minimize(error, params0, bounds=[(0, 100), (0, 100), (0, 100)])\n",
    "V2, V3, V5 = result.x\n",
    "print(f'Final values: {V2:.3f} {V3:.3f} {V5:.3f}')"
   ]
  },
  {
   "cell_type": "markdown",
   "id": "41c77df0-978f-4619-9491-ae85633cce94",
   "metadata": {},
   "source": [
    "Perfect! Now let's simulate and re-plot the data to see if it fits:"
   ]
  },
  {
   "cell_type": "code",
   "execution_count": null,
   "id": "8ff91f76-5676-4ed2-86f1-76f58fe1afe3",
   "metadata": {},
   "outputs": [],
   "source": [
    "solution = solve_ivp(model, time_span, X0, args=result.x, method='BDF')\n",
    "\n",
    "plt.plot(solution.t, solution.y[0],\n",
    "         solution.t, solution.y[1],\n",
    "         solution.t, solution.y[2],\n",
    "         solution.t, solution.y[3])\n",
    "\n",
    "plt.scatter(df['time'], df['A'])\n",
    "plt.scatter(df['time'], df['B'])\n",
    "plt.scatter(df['time'], df['C'])\n",
    "plt.scatter(df['time'], df['D'])\n",
    "\n",
    "plt.legend(['A', 'B', 'C', 'D'])"
   ]
  },
  {
   "cell_type": "markdown",
   "id": "eee4de32-207a-4602-b381-6c8398c2e888",
   "metadata": {},
   "source": [
    "Great job :)"
   ]
  }
 ],
 "metadata": {
  "kernelspec": {
   "display_name": "Python 3 (ipykernel)",
   "language": "python",
   "name": "python3"
  },
  "language_info": {
   "codemirror_mode": {
    "name": "ipython",
    "version": 3
   },
   "file_extension": ".py",
   "mimetype": "text/x-python",
   "name": "python",
   "nbconvert_exporter": "python",
   "pygments_lexer": "ipython3",
   "version": "3.9.5"
  }
 },
 "nbformat": 4,
 "nbformat_minor": 5
}
